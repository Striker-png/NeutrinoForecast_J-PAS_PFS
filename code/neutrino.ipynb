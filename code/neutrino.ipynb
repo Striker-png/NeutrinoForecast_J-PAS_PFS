{
 "cells": [
  {
   "cell_type": "code",
   "execution_count": 9,
   "id": "124eec59",
   "metadata": {},
   "outputs": [],
   "source": [
    "import astropy.units as u\n",
    "from astropy.constants import G,k_B,c,hbar\n",
    "import numpy as np\n",
    "from scipy.special import zeta\n",
    "T_CMB=2.72548*u.K"
   ]
  },
  {
   "cell_type": "code",
   "execution_count": 10,
   "id": "ba55d947",
   "metadata": {},
   "outputs": [
    {
     "data": {
      "text/latex": [
       "$94.07063 \\; \\mathrm{eV}$"
      ],
      "text/plain": [
       "<Quantity 94.0706297 eV>"
      ]
     },
     "execution_count": 10,
     "metadata": {},
     "output_type": "execute_result"
    }
   ],
   "source": [
    "ev=1/(8*G*(k_B*T_CMB)**3*2*1.202/(11*np.pi*hbar**3*c**5*(100*u.km/u.s/u.Mpc)**2))\n",
    "ev=ev.to(u.eV)\n",
    "ev"
   ]
  }
 ],
 "metadata": {
  "kernelspec": {
   "display_name": "base",
   "language": "python",
   "name": "python3"
  },
  "language_info": {
   "codemirror_mode": {
    "name": "ipython",
    "version": 3
   },
   "file_extension": ".py",
   "mimetype": "text/x-python",
   "name": "python",
   "nbconvert_exporter": "python",
   "pygments_lexer": "ipython3",
   "version": "3.12.3"
  }
 },
 "nbformat": 4,
 "nbformat_minor": 5
}
