{
 "cells": [
  {
   "cell_type": "code",
   "execution_count": 1,
   "metadata": {},
   "outputs": [],
   "source": [
    "import numpy as np\n",
    "import pandas as pd\n",
    "from starfish.plot import *"
   ]
  },
  {
   "cell_type": "code",
   "execution_count": 2,
   "metadata": {},
   "outputs": [],
   "source": [
    "from starfish.set import settings\n",
    "settings.var_name.remove('N_eff')\n",
    "settings.cosmo_num-=1"
   ]
  },
  {
   "cell_type": "code",
   "execution_count": 3,
   "metadata": {},
   "outputs": [],
   "source": [
    "def var_filter(fisher,lcdm,neff_fixed):\n",
    "    df=fisher.copy()\n",
    "    if lcdm:\n",
    "        df=df.drop('w0',axis=0)\n",
    "        df=df.drop('w0',axis=1)\n",
    "        df=df.drop('wa',axis=0)\n",
    "        df=df.drop('wa',axis=1)\n",
    "    if neff_fixed:\n",
    "        df=df.drop('N_eff',axis=0)\n",
    "        df=df.drop('N_eff',axis=1)\n",
    "\n",
    "    return df"
   ]
  },
  {
   "cell_type": "markdown",
   "metadata": {},
   "source": [
    "# nuisance parameters of different tracers/surveys should be independent of each other"
   ]
  },
  {
   "cell_type": "code",
   "execution_count": 4,
   "metadata": {},
   "outputs": [],
   "source": [
    "DESI_multi=var_filter(pd.read_excel('../data/DESI_all/valid.xlsx',header=0,index_col=0),lcdm=False,neff_fixed=True)\n",
    "cov=pd.DataFrame(np.linalg.inv(DESI_multi.values),index=DESI_multi.index,columns=DESI_multi.columns)\n",
    "DESI_multi_valid=np.linalg.inv(cov.iloc[:settings.cosmo_num,:settings.cosmo_num].values)"
   ]
  },
  {
   "cell_type": "code",
   "execution_count": 5,
   "metadata": {},
   "outputs": [],
   "source": [
    "JPAS_multi=var_filter(pd.read_excel('../data/jpas_all/valid.xlsx',header=0,index_col=0),lcdm=False,neff_fixed=True)\n",
    "cov=pd.DataFrame(np.linalg.inv(JPAS_multi.values),index=JPAS_multi.index,columns=JPAS_multi.columns)\n",
    "JPAS_multi_valid=np.linalg.inv(cov.iloc[:settings.cosmo_num,:settings.cosmo_num].values)"
   ]
  },
  {
   "cell_type": "code",
   "execution_count": 6,
   "metadata": {},
   "outputs": [],
   "source": [
    "PFS_ELG=var_filter(pd.read_excel('../data/PFS/fisher.xlsx',header=0,index_col=0),lcdm=False,neff_fixed=True)\n",
    "cov=pd.DataFrame(np.linalg.inv(PFS_ELG.values),index=PFS_ELG.index,columns=PFS_ELG.columns)\n",
    "PFS_ELG_valid=np.linalg.inv(cov.iloc[:settings.cosmo_num,:settings.cosmo_num].values)"
   ]
  },
  {
   "cell_type": "markdown",
   "metadata": {},
   "source": [
    "# CMB-S4 + LiteBIRD + DESI multitracer"
   ]
  },
  {
   "cell_type": "code",
   "execution_count": 7,
   "metadata": {},
   "outputs": [
    {
     "data": {
      "application/vnd.microsoft.datawrangler.viewer.v0+json": {
       "columns": [
        {
         "name": "index",
         "rawType": "object",
         "type": "string"
        },
        {
         "name": "omega_m0",
         "rawType": "float64",
         "type": "float"
        },
        {
         "name": "omega_b0",
         "rawType": "float64",
         "type": "float"
        },
        {
         "name": "h",
         "rawType": "float64",
         "type": "float"
        },
        {
         "name": "n_s",
         "rawType": "float64",
         "type": "float"
        },
        {
         "name": "sigma_8",
         "rawType": "float64",
         "type": "float"
        },
        {
         "name": "m_nu",
         "rawType": "float64",
         "type": "float"
        },
        {
         "name": "tau",
         "rawType": "float64",
         "type": "float"
        },
        {
         "name": "w0",
         "rawType": "float64",
         "type": "float"
        },
        {
         "name": "wa",
         "rawType": "float64",
         "type": "float"
        }
       ],
       "conversionMethod": "pd.DataFrame",
       "ref": "f42a7cba-3590-4614-a780-a3b1ee14e6d2",
       "rows": [
        [
         "omega_m0",
         "185128827.2032204",
         "-692898147.965669",
         "137105704.1822474",
         "-4740935.5909728",
         "-57824336.49902042",
         "-12447147.39915775",
         "44850335.90973126",
         "1850758.676345401",
         "113623.7762489748"
        ],
        [
         "omega_b0",
         "-692898147.965669",
         "3023402063.7132",
         "-458354152.9478175",
         "32060982.8601459",
         "222609446.857868",
         "47145032.98248264",
         "-171421945.9644465",
         "-7598366.941132234",
         "-577001.0976232829"
        ],
        [
         "h",
         "137105704.1822474",
         "-458354152.9478175",
         "112570195.9145628",
         "-1894717.528196103",
         "-38173852.29402938",
         "-7840065.595027551",
         "29626603.15036413",
         "3552607.696506803",
         "706066.2423816043"
        ],
        [
         "n_s",
         "-4740935.5909728",
         "32060982.8601459",
         "-1894717.528196103",
         "1046894.876764914",
         "1665062.528972976",
         "314995.9056964207",
         "-1284038.782650934",
         "-136068.6251404728",
         "-25864.90841879048"
        ],
        [
         "sigma_8",
         "-57824336.49902042",
         "222609446.857868",
         "-38173852.29402937",
         "1665062.528972976",
         "22361670.04211807",
         "5252308.014423977",
         "-17311887.25329487",
         "1719658.543695215",
         "615137.948390104"
        ],
        [
         "m_nu",
         "-12447147.39915775",
         "47145032.98248264",
         "-7840065.595027551",
         "314995.9056964208",
         "5252308.014423977",
         "1282974.971498364",
         "-4090355.805696196",
         "636982.0494556346",
         "207844.8676078545"
        ],
        [
         "tau",
         "44850335.90973125",
         "-171421945.9644465",
         "29626603.15036413",
         "-1284038.782650934",
         "-17311887.25329487",
         "-4090355.805696196",
         "13743610.01478225",
         "-1374591.952840707",
         "-488745.1873570743"
        ],
        [
         "w0",
         "1850758.676345401",
         "-7598366.941132233",
         "3552607.696506803",
         "-136068.6251404728",
         "1719658.543695215",
         "636982.0494556346",
         "-1374591.952840707",
         "1329265.687606041",
         "371850.3956049974"
        ],
        [
         "wa",
         "113623.7762489748",
         "-577001.0976232829",
         "706066.2423816042",
         "-25864.90841879048",
         "615137.948390104",
         "207844.8676078545",
         "-488745.1873570743",
         "371850.3956049974",
         "104924.4609376661"
        ]
       ],
       "shape": {
        "columns": 9,
        "rows": 9
       }
      },
      "text/html": [
       "<div>\n",
       "<style scoped>\n",
       "    .dataframe tbody tr th:only-of-type {\n",
       "        vertical-align: middle;\n",
       "    }\n",
       "\n",
       "    .dataframe tbody tr th {\n",
       "        vertical-align: top;\n",
       "    }\n",
       "\n",
       "    .dataframe thead th {\n",
       "        text-align: right;\n",
       "    }\n",
       "</style>\n",
       "<table border=\"1\" class=\"dataframe\">\n",
       "  <thead>\n",
       "    <tr style=\"text-align: right;\">\n",
       "      <th></th>\n",
       "      <th>omega_m0</th>\n",
       "      <th>omega_b0</th>\n",
       "      <th>h</th>\n",
       "      <th>n_s</th>\n",
       "      <th>sigma_8</th>\n",
       "      <th>m_nu</th>\n",
       "      <th>tau</th>\n",
       "      <th>w0</th>\n",
       "      <th>wa</th>\n",
       "    </tr>\n",
       "  </thead>\n",
       "  <tbody>\n",
       "    <tr>\n",
       "      <th>omega_m0</th>\n",
       "      <td>1.851288e+08</td>\n",
       "      <td>-6.928981e+08</td>\n",
       "      <td>1.371057e+08</td>\n",
       "      <td>-4.740936e+06</td>\n",
       "      <td>-5.782434e+07</td>\n",
       "      <td>-1.244715e+07</td>\n",
       "      <td>4.485034e+07</td>\n",
       "      <td>1.850759e+06</td>\n",
       "      <td>113623.776249</td>\n",
       "    </tr>\n",
       "    <tr>\n",
       "      <th>omega_b0</th>\n",
       "      <td>-6.928981e+08</td>\n",
       "      <td>3.023402e+09</td>\n",
       "      <td>-4.583542e+08</td>\n",
       "      <td>3.206098e+07</td>\n",
       "      <td>2.226094e+08</td>\n",
       "      <td>4.714503e+07</td>\n",
       "      <td>-1.714219e+08</td>\n",
       "      <td>-7.598367e+06</td>\n",
       "      <td>-577001.097623</td>\n",
       "    </tr>\n",
       "    <tr>\n",
       "      <th>h</th>\n",
       "      <td>1.371057e+08</td>\n",
       "      <td>-4.583542e+08</td>\n",
       "      <td>1.125702e+08</td>\n",
       "      <td>-1.894718e+06</td>\n",
       "      <td>-3.817385e+07</td>\n",
       "      <td>-7.840066e+06</td>\n",
       "      <td>2.962660e+07</td>\n",
       "      <td>3.552608e+06</td>\n",
       "      <td>706066.242382</td>\n",
       "    </tr>\n",
       "    <tr>\n",
       "      <th>n_s</th>\n",
       "      <td>-4.740936e+06</td>\n",
       "      <td>3.206098e+07</td>\n",
       "      <td>-1.894718e+06</td>\n",
       "      <td>1.046895e+06</td>\n",
       "      <td>1.665063e+06</td>\n",
       "      <td>3.149959e+05</td>\n",
       "      <td>-1.284039e+06</td>\n",
       "      <td>-1.360686e+05</td>\n",
       "      <td>-25864.908419</td>\n",
       "    </tr>\n",
       "    <tr>\n",
       "      <th>sigma_8</th>\n",
       "      <td>-5.782434e+07</td>\n",
       "      <td>2.226094e+08</td>\n",
       "      <td>-3.817385e+07</td>\n",
       "      <td>1.665063e+06</td>\n",
       "      <td>2.236167e+07</td>\n",
       "      <td>5.252308e+06</td>\n",
       "      <td>-1.731189e+07</td>\n",
       "      <td>1.719659e+06</td>\n",
       "      <td>615137.948390</td>\n",
       "    </tr>\n",
       "    <tr>\n",
       "      <th>m_nu</th>\n",
       "      <td>-1.244715e+07</td>\n",
       "      <td>4.714503e+07</td>\n",
       "      <td>-7.840066e+06</td>\n",
       "      <td>3.149959e+05</td>\n",
       "      <td>5.252308e+06</td>\n",
       "      <td>1.282975e+06</td>\n",
       "      <td>-4.090356e+06</td>\n",
       "      <td>6.369820e+05</td>\n",
       "      <td>207844.867608</td>\n",
       "    </tr>\n",
       "    <tr>\n",
       "      <th>tau</th>\n",
       "      <td>4.485034e+07</td>\n",
       "      <td>-1.714219e+08</td>\n",
       "      <td>2.962660e+07</td>\n",
       "      <td>-1.284039e+06</td>\n",
       "      <td>-1.731189e+07</td>\n",
       "      <td>-4.090356e+06</td>\n",
       "      <td>1.374361e+07</td>\n",
       "      <td>-1.374592e+06</td>\n",
       "      <td>-488745.187357</td>\n",
       "    </tr>\n",
       "    <tr>\n",
       "      <th>w0</th>\n",
       "      <td>1.850759e+06</td>\n",
       "      <td>-7.598367e+06</td>\n",
       "      <td>3.552608e+06</td>\n",
       "      <td>-1.360686e+05</td>\n",
       "      <td>1.719659e+06</td>\n",
       "      <td>6.369820e+05</td>\n",
       "      <td>-1.374592e+06</td>\n",
       "      <td>1.329266e+06</td>\n",
       "      <td>371850.395605</td>\n",
       "    </tr>\n",
       "    <tr>\n",
       "      <th>wa</th>\n",
       "      <td>1.136238e+05</td>\n",
       "      <td>-5.770011e+05</td>\n",
       "      <td>7.060662e+05</td>\n",
       "      <td>-2.586491e+04</td>\n",
       "      <td>6.151379e+05</td>\n",
       "      <td>2.078449e+05</td>\n",
       "      <td>-4.887452e+05</td>\n",
       "      <td>3.718504e+05</td>\n",
       "      <td>104924.460938</td>\n",
       "    </tr>\n",
       "  </tbody>\n",
       "</table>\n",
       "</div>"
      ],
      "text/plain": [
       "              omega_m0      omega_b0             h           n_s  \\\n",
       "omega_m0  1.851288e+08 -6.928981e+08  1.371057e+08 -4.740936e+06   \n",
       "omega_b0 -6.928981e+08  3.023402e+09 -4.583542e+08  3.206098e+07   \n",
       "h         1.371057e+08 -4.583542e+08  1.125702e+08 -1.894718e+06   \n",
       "n_s      -4.740936e+06  3.206098e+07 -1.894718e+06  1.046895e+06   \n",
       "sigma_8  -5.782434e+07  2.226094e+08 -3.817385e+07  1.665063e+06   \n",
       "m_nu     -1.244715e+07  4.714503e+07 -7.840066e+06  3.149959e+05   \n",
       "tau       4.485034e+07 -1.714219e+08  2.962660e+07 -1.284039e+06   \n",
       "w0        1.850759e+06 -7.598367e+06  3.552608e+06 -1.360686e+05   \n",
       "wa        1.136238e+05 -5.770011e+05  7.060662e+05 -2.586491e+04   \n",
       "\n",
       "               sigma_8          m_nu           tau            w0  \\\n",
       "omega_m0 -5.782434e+07 -1.244715e+07  4.485034e+07  1.850759e+06   \n",
       "omega_b0  2.226094e+08  4.714503e+07 -1.714219e+08 -7.598367e+06   \n",
       "h        -3.817385e+07 -7.840066e+06  2.962660e+07  3.552608e+06   \n",
       "n_s       1.665063e+06  3.149959e+05 -1.284039e+06 -1.360686e+05   \n",
       "sigma_8   2.236167e+07  5.252308e+06 -1.731189e+07  1.719659e+06   \n",
       "m_nu      5.252308e+06  1.282975e+06 -4.090356e+06  6.369820e+05   \n",
       "tau      -1.731189e+07 -4.090356e+06  1.374361e+07 -1.374592e+06   \n",
       "w0        1.719659e+06  6.369820e+05 -1.374592e+06  1.329266e+06   \n",
       "wa        6.151379e+05  2.078449e+05 -4.887452e+05  3.718504e+05   \n",
       "\n",
       "                     wa  \n",
       "omega_m0  113623.776249  \n",
       "omega_b0 -577001.097623  \n",
       "h         706066.242382  \n",
       "n_s       -25864.908419  \n",
       "sigma_8   615137.948390  \n",
       "m_nu      207844.867608  \n",
       "tau      -488745.187357  \n",
       "w0        371850.395605  \n",
       "wa        104924.460938  "
      ]
     },
     "execution_count": 7,
     "metadata": {},
     "output_type": "execute_result"
    }
   ],
   "source": [
    "cmb_fisher=var_filter(pd.read_excel('../data/CMB/all.xlsx',header=0,index_col=0),lcdm=False,neff_fixed=True)\n",
    "cmb_fisher"
   ]
  },
  {
   "cell_type": "code",
   "execution_count": 8,
   "metadata": {},
   "outputs": [
    {
     "data": {
      "application/vnd.microsoft.datawrangler.viewer.v0+json": {
       "columns": [
        {
         "name": "index",
         "rawType": "object",
         "type": "string"
        },
        {
         "name": "omega_m0",
         "rawType": "float64",
         "type": "float"
        },
        {
         "name": "omega_b0",
         "rawType": "float64",
         "type": "float"
        },
        {
         "name": "h",
         "rawType": "float64",
         "type": "float"
        },
        {
         "name": "n_s",
         "rawType": "float64",
         "type": "float"
        },
        {
         "name": "sigma_8",
         "rawType": "float64",
         "type": "float"
        },
        {
         "name": "m_nu",
         "rawType": "float64",
         "type": "float"
        },
        {
         "name": "w0",
         "rawType": "float64",
         "type": "float"
        },
        {
         "name": "wa",
         "rawType": "float64",
         "type": "float"
        }
       ],
       "conversionMethod": "pd.DataFrame",
       "ref": "1f016050-589a-4f31-b792-88990e7ef101",
       "rows": [
        [
         "omega_m0",
         "38766071.7791162",
         "-133486766.92415556",
         "40423456.8138267",
         "-550655.8419706085",
         "-1329430.305805037",
         "901152.7692569284",
         "6336545.944265096",
         "1708574.8700681308"
        ],
        [
         "omega_b0",
         "-133486766.91658922",
         "885282346.4619305",
         "-88826062.50678112",
         "16045363.486191474",
         "6680924.578483862",
         "-3873349.4613709426",
         "-24743442.156346705",
         "-6673045.07726173"
        ],
        [
         "h",
         "40423456.814648986",
         "-88826062.51779407",
         "48705198.77738408",
         "873238.4456693397",
         "-855242.9268357599",
         "977366.5111086895",
         "6515765.864843284",
         "1759636.5700575963"
        ],
        [
         "n_s",
         "-550655.8416962611",
         "16045363.485427748",
         "873238.4459848282",
         "926929.6279145547",
         "47646.536361674785",
         "-67158.09049277248",
         "-264494.08068931947",
         "-71527.42172693623"
        ],
        [
         "sigma_8",
         "-1329430.3057943615",
         "6680924.578542145",
         "-855242.9268131697",
         "47646.536364584754",
         "555067.5593329405",
         "99966.05638548521",
         "-11821.09530202279",
         "-500.9972747497476"
        ],
        [
         "m_nu",
         "901152.7692289271",
         "-3873349.461517906",
         "977366.5110521705",
         "-67158.09050096595",
         "99966.05638539435",
         "65608.45722425141",
         "227877.73341716427",
         "62385.143959940535"
        ],
        [
         "w0",
         "6336545.9441838525",
         "-24743442.157436367",
         "6515765.864606867",
         "-264494.0807369141",
         "-11821.09530317447",
         "227877.7334195832",
         "1191783.3932327174",
         "322967.6638426203"
        ],
        [
         "wa",
         "1708574.8700458868",
         "-6673045.077554917",
         "1759636.5699934561",
         "-71527.42173980256",
         "-500.9972750588205",
         "62385.14396058655",
         "322967.66384257324",
         "87543.88494774356"
        ]
       ],
       "shape": {
        "columns": 8,
        "rows": 8
       }
      },
      "text/html": [
       "<div>\n",
       "<style scoped>\n",
       "    .dataframe tbody tr th:only-of-type {\n",
       "        vertical-align: middle;\n",
       "    }\n",
       "\n",
       "    .dataframe tbody tr th {\n",
       "        vertical-align: top;\n",
       "    }\n",
       "\n",
       "    .dataframe thead th {\n",
       "        text-align: right;\n",
       "    }\n",
       "</style>\n",
       "<table border=\"1\" class=\"dataframe\">\n",
       "  <thead>\n",
       "    <tr style=\"text-align: right;\">\n",
       "      <th></th>\n",
       "      <th>omega_m0</th>\n",
       "      <th>omega_b0</th>\n",
       "      <th>h</th>\n",
       "      <th>n_s</th>\n",
       "      <th>sigma_8</th>\n",
       "      <th>m_nu</th>\n",
       "      <th>w0</th>\n",
       "      <th>wa</th>\n",
       "    </tr>\n",
       "  </thead>\n",
       "  <tbody>\n",
       "    <tr>\n",
       "      <th>omega_m0</th>\n",
       "      <td>3.876607e+07</td>\n",
       "      <td>-1.334868e+08</td>\n",
       "      <td>4.042346e+07</td>\n",
       "      <td>-5.506558e+05</td>\n",
       "      <td>-1.329430e+06</td>\n",
       "      <td>9.011528e+05</td>\n",
       "      <td>6.336546e+06</td>\n",
       "      <td>1.708575e+06</td>\n",
       "    </tr>\n",
       "    <tr>\n",
       "      <th>omega_b0</th>\n",
       "      <td>-1.334868e+08</td>\n",
       "      <td>8.852823e+08</td>\n",
       "      <td>-8.882606e+07</td>\n",
       "      <td>1.604536e+07</td>\n",
       "      <td>6.680925e+06</td>\n",
       "      <td>-3.873349e+06</td>\n",
       "      <td>-2.474344e+07</td>\n",
       "      <td>-6.673045e+06</td>\n",
       "    </tr>\n",
       "    <tr>\n",
       "      <th>h</th>\n",
       "      <td>4.042346e+07</td>\n",
       "      <td>-8.882606e+07</td>\n",
       "      <td>4.870520e+07</td>\n",
       "      <td>8.732384e+05</td>\n",
       "      <td>-8.552429e+05</td>\n",
       "      <td>9.773665e+05</td>\n",
       "      <td>6.515766e+06</td>\n",
       "      <td>1.759637e+06</td>\n",
       "    </tr>\n",
       "    <tr>\n",
       "      <th>n_s</th>\n",
       "      <td>-5.506558e+05</td>\n",
       "      <td>1.604536e+07</td>\n",
       "      <td>8.732384e+05</td>\n",
       "      <td>9.269296e+05</td>\n",
       "      <td>4.764654e+04</td>\n",
       "      <td>-6.715809e+04</td>\n",
       "      <td>-2.644941e+05</td>\n",
       "      <td>-7.152742e+04</td>\n",
       "    </tr>\n",
       "    <tr>\n",
       "      <th>sigma_8</th>\n",
       "      <td>-1.329430e+06</td>\n",
       "      <td>6.680925e+06</td>\n",
       "      <td>-8.552429e+05</td>\n",
       "      <td>4.764654e+04</td>\n",
       "      <td>5.550676e+05</td>\n",
       "      <td>9.996606e+04</td>\n",
       "      <td>-1.182110e+04</td>\n",
       "      <td>-5.009973e+02</td>\n",
       "    </tr>\n",
       "    <tr>\n",
       "      <th>m_nu</th>\n",
       "      <td>9.011528e+05</td>\n",
       "      <td>-3.873349e+06</td>\n",
       "      <td>9.773665e+05</td>\n",
       "      <td>-6.715809e+04</td>\n",
       "      <td>9.996606e+04</td>\n",
       "      <td>6.560846e+04</td>\n",
       "      <td>2.278777e+05</td>\n",
       "      <td>6.238514e+04</td>\n",
       "    </tr>\n",
       "    <tr>\n",
       "      <th>w0</th>\n",
       "      <td>6.336546e+06</td>\n",
       "      <td>-2.474344e+07</td>\n",
       "      <td>6.515766e+06</td>\n",
       "      <td>-2.644941e+05</td>\n",
       "      <td>-1.182110e+04</td>\n",
       "      <td>2.278777e+05</td>\n",
       "      <td>1.191783e+06</td>\n",
       "      <td>3.229677e+05</td>\n",
       "    </tr>\n",
       "    <tr>\n",
       "      <th>wa</th>\n",
       "      <td>1.708575e+06</td>\n",
       "      <td>-6.673045e+06</td>\n",
       "      <td>1.759637e+06</td>\n",
       "      <td>-7.152742e+04</td>\n",
       "      <td>-5.009973e+02</td>\n",
       "      <td>6.238514e+04</td>\n",
       "      <td>3.229677e+05</td>\n",
       "      <td>8.754388e+04</td>\n",
       "    </tr>\n",
       "  </tbody>\n",
       "</table>\n",
       "</div>"
      ],
      "text/plain": [
       "              omega_m0      omega_b0             h           n_s  \\\n",
       "omega_m0  3.876607e+07 -1.334868e+08  4.042346e+07 -5.506558e+05   \n",
       "omega_b0 -1.334868e+08  8.852823e+08 -8.882606e+07  1.604536e+07   \n",
       "h         4.042346e+07 -8.882606e+07  4.870520e+07  8.732384e+05   \n",
       "n_s      -5.506558e+05  1.604536e+07  8.732384e+05  9.269296e+05   \n",
       "sigma_8  -1.329430e+06  6.680925e+06 -8.552429e+05  4.764654e+04   \n",
       "m_nu      9.011528e+05 -3.873349e+06  9.773665e+05 -6.715809e+04   \n",
       "w0        6.336546e+06 -2.474344e+07  6.515766e+06 -2.644941e+05   \n",
       "wa        1.708575e+06 -6.673045e+06  1.759637e+06 -7.152742e+04   \n",
       "\n",
       "               sigma_8          m_nu            w0            wa  \n",
       "omega_m0 -1.329430e+06  9.011528e+05  6.336546e+06  1.708575e+06  \n",
       "omega_b0  6.680925e+06 -3.873349e+06 -2.474344e+07 -6.673045e+06  \n",
       "h        -8.552429e+05  9.773665e+05  6.515766e+06  1.759637e+06  \n",
       "n_s       4.764654e+04 -6.715809e+04 -2.644941e+05 -7.152742e+04  \n",
       "sigma_8   5.550676e+05  9.996606e+04 -1.182110e+04 -5.009973e+02  \n",
       "m_nu      9.996606e+04  6.560846e+04  2.278777e+05  6.238514e+04  \n",
       "w0       -1.182110e+04  2.278777e+05  1.191783e+06  3.229677e+05  \n",
       "wa       -5.009973e+02  6.238514e+04  3.229677e+05  8.754388e+04  "
      ]
     },
     "execution_count": 8,
     "metadata": {},
     "output_type": "execute_result"
    }
   ],
   "source": [
    "cmb_cov=pd.DataFrame(np.linalg.inv(cmb_fisher.values),index=cmb_fisher.index,columns=cmb_fisher.columns)\n",
    "cmb_cov_marg=cmb_cov.drop('tau',axis=0)\n",
    "cmb_cov_marg=cmb_cov_marg.drop('tau',axis=1)\n",
    "cmb_fisher_marg=pd.DataFrame(np.linalg.inv(cmb_cov_marg),index=settings.var_name,columns=settings.var_name)\n",
    "cmb_fisher_marg"
   ]
  },
  {
   "cell_type": "code",
   "execution_count": 9,
   "metadata": {},
   "outputs": [
    {
     "data": {
      "application/vnd.microsoft.datawrangler.viewer.v0+json": {
       "columns": [
        {
         "name": "index",
         "rawType": "object",
         "type": "string"
        },
        {
         "name": "omega_m0",
         "rawType": "float64",
         "type": "float"
        },
        {
         "name": "omega_b0",
         "rawType": "float64",
         "type": "float"
        },
        {
         "name": "h",
         "rawType": "float64",
         "type": "float"
        },
        {
         "name": "n_s",
         "rawType": "float64",
         "type": "float"
        },
        {
         "name": "sigma_8",
         "rawType": "float64",
         "type": "float"
        },
        {
         "name": "m_nu",
         "rawType": "float64",
         "type": "float"
        },
        {
         "name": "w0",
         "rawType": "float64",
         "type": "float"
        },
        {
         "name": "wa",
         "rawType": "float64",
         "type": "float"
        }
       ],
       "conversionMethod": "pd.DataFrame",
       "ref": "fee0e18e-eb7f-4aeb-aa36-30891abb581e",
       "rows": [
        [
         "omega_m0",
         "5.133417771265181e-06",
         "5.072019500707903e-07",
         "-3.3822181875980616e-06",
         "-7.284220677255094e-07",
         "-8.184487462236358e-06",
         "5.209957645178014e-05",
         "2.9247535109463386e-05",
         "-0.00013881024676967428"
        ],
        [
         "omega_b0",
         "5.072019500708327e-07",
         "1.049506776759747e-07",
         "-6.71098741554724e-07",
         "6.9067343419454735e-09",
         "-6.411754647685509e-07",
         "-1.7003101860374204e-06",
         "6.801877361104121e-06",
         "-1.2279196367606031e-05"
        ],
        [
         "h",
         "-3.382218187601783e-06",
         "-6.71098741555293e-07",
         "4.500511186586154e-06",
         "-4.434004324700923e-07",
         "4.1723642559415446e-06",
         "1.0714626444679844e-05",
         "-4.4225719696975536e-05",
         "7.948791318150263e-05"
        ],
        [
         "n_s",
         "-7.284220677267452e-07",
         "6.906734342662991e-09",
         "-4.4340043247390984e-07",
         "2.5545138571217157e-06",
         "2.5466290325753817e-07",
         "-1.4233080547206812e-05",
         "1.0145039443477305e-05",
         "-1.6640497898905331e-06"
        ],
        [
         "sigma_8",
         "-8.184487462240203e-06",
         "-6.411754647692366e-07",
         "4.172364255936523e-06",
         "2.546629032571346e-07",
         "2.289054871967961e-05",
         "-0.00015496165763173058",
         "-6.435539220234371e-05",
         "0.000374717911423931"
        ],
        [
         "m_nu",
         "5.209957645176153e-05",
         "-1.7003101860408045e-06",
         "1.071462644472601e-05",
         "-1.423308054711671e-05",
         "-0.00015496165763166178",
         "0.0017261019291536937",
         "-3.56791283527293e-05",
         "-0.002465896392034733"
        ],
        [
         "w0",
         "2.9247535109494838e-05",
         "6.8018773611164895e-06",
         "-4.4225719696959124e-05",
         "1.0145039443391323e-05",
         "-6.435539220233127e-05",
         "-3.567912835283488e-05",
         "0.0008225348369990507",
         "-0.0021618815326376987"
        ],
        [
         "wa",
         "-0.0001388102467696802",
         "-1.227919636763279e-05",
         "7.948791318141389e-05",
         "-1.6640497897927497e-06",
         "0.0003747179114237701",
         "-0.002465896392033602",
         "-0.0021618815326379204",
         "0.009900425387326717"
        ]
       ],
       "shape": {
        "columns": 8,
        "rows": 8
       }
      },
      "text/html": [
       "<div>\n",
       "<style scoped>\n",
       "    .dataframe tbody tr th:only-of-type {\n",
       "        vertical-align: middle;\n",
       "    }\n",
       "\n",
       "    .dataframe tbody tr th {\n",
       "        vertical-align: top;\n",
       "    }\n",
       "\n",
       "    .dataframe thead th {\n",
       "        text-align: right;\n",
       "    }\n",
       "</style>\n",
       "<table border=\"1\" class=\"dataframe\">\n",
       "  <thead>\n",
       "    <tr style=\"text-align: right;\">\n",
       "      <th></th>\n",
       "      <th>omega_m0</th>\n",
       "      <th>omega_b0</th>\n",
       "      <th>h</th>\n",
       "      <th>n_s</th>\n",
       "      <th>sigma_8</th>\n",
       "      <th>m_nu</th>\n",
       "      <th>w0</th>\n",
       "      <th>wa</th>\n",
       "    </tr>\n",
       "  </thead>\n",
       "  <tbody>\n",
       "    <tr>\n",
       "      <th>omega_m0</th>\n",
       "      <td>5.133418e-06</td>\n",
       "      <td>5.072020e-07</td>\n",
       "      <td>-3.382218e-06</td>\n",
       "      <td>-7.284221e-07</td>\n",
       "      <td>-8.184487e-06</td>\n",
       "      <td>0.000052</td>\n",
       "      <td>0.000029</td>\n",
       "      <td>-0.000139</td>\n",
       "    </tr>\n",
       "    <tr>\n",
       "      <th>omega_b0</th>\n",
       "      <td>5.072020e-07</td>\n",
       "      <td>1.049507e-07</td>\n",
       "      <td>-6.710987e-07</td>\n",
       "      <td>6.906734e-09</td>\n",
       "      <td>-6.411755e-07</td>\n",
       "      <td>-0.000002</td>\n",
       "      <td>0.000007</td>\n",
       "      <td>-0.000012</td>\n",
       "    </tr>\n",
       "    <tr>\n",
       "      <th>h</th>\n",
       "      <td>-3.382218e-06</td>\n",
       "      <td>-6.710987e-07</td>\n",
       "      <td>4.500511e-06</td>\n",
       "      <td>-4.434004e-07</td>\n",
       "      <td>4.172364e-06</td>\n",
       "      <td>0.000011</td>\n",
       "      <td>-0.000044</td>\n",
       "      <td>0.000079</td>\n",
       "    </tr>\n",
       "    <tr>\n",
       "      <th>n_s</th>\n",
       "      <td>-7.284221e-07</td>\n",
       "      <td>6.906734e-09</td>\n",
       "      <td>-4.434004e-07</td>\n",
       "      <td>2.554514e-06</td>\n",
       "      <td>2.546629e-07</td>\n",
       "      <td>-0.000014</td>\n",
       "      <td>0.000010</td>\n",
       "      <td>-0.000002</td>\n",
       "    </tr>\n",
       "    <tr>\n",
       "      <th>sigma_8</th>\n",
       "      <td>-8.184487e-06</td>\n",
       "      <td>-6.411755e-07</td>\n",
       "      <td>4.172364e-06</td>\n",
       "      <td>2.546629e-07</td>\n",
       "      <td>2.289055e-05</td>\n",
       "      <td>-0.000155</td>\n",
       "      <td>-0.000064</td>\n",
       "      <td>0.000375</td>\n",
       "    </tr>\n",
       "    <tr>\n",
       "      <th>m_nu</th>\n",
       "      <td>5.209958e-05</td>\n",
       "      <td>-1.700310e-06</td>\n",
       "      <td>1.071463e-05</td>\n",
       "      <td>-1.423308e-05</td>\n",
       "      <td>-1.549617e-04</td>\n",
       "      <td>0.001726</td>\n",
       "      <td>-0.000036</td>\n",
       "      <td>-0.002466</td>\n",
       "    </tr>\n",
       "    <tr>\n",
       "      <th>w0</th>\n",
       "      <td>2.924754e-05</td>\n",
       "      <td>6.801877e-06</td>\n",
       "      <td>-4.422572e-05</td>\n",
       "      <td>1.014504e-05</td>\n",
       "      <td>-6.435539e-05</td>\n",
       "      <td>-0.000036</td>\n",
       "      <td>0.000823</td>\n",
       "      <td>-0.002162</td>\n",
       "    </tr>\n",
       "    <tr>\n",
       "      <th>wa</th>\n",
       "      <td>-1.388102e-04</td>\n",
       "      <td>-1.227920e-05</td>\n",
       "      <td>7.948791e-05</td>\n",
       "      <td>-1.664050e-06</td>\n",
       "      <td>3.747179e-04</td>\n",
       "      <td>-0.002466</td>\n",
       "      <td>-0.002162</td>\n",
       "      <td>0.009900</td>\n",
       "    </tr>\n",
       "  </tbody>\n",
       "</table>\n",
       "</div>"
      ],
      "text/plain": [
       "              omega_m0      omega_b0             h           n_s  \\\n",
       "omega_m0  5.133418e-06  5.072020e-07 -3.382218e-06 -7.284221e-07   \n",
       "omega_b0  5.072020e-07  1.049507e-07 -6.710987e-07  6.906734e-09   \n",
       "h        -3.382218e-06 -6.710987e-07  4.500511e-06 -4.434004e-07   \n",
       "n_s      -7.284221e-07  6.906734e-09 -4.434004e-07  2.554514e-06   \n",
       "sigma_8  -8.184487e-06 -6.411755e-07  4.172364e-06  2.546629e-07   \n",
       "m_nu      5.209958e-05 -1.700310e-06  1.071463e-05 -1.423308e-05   \n",
       "w0        2.924754e-05  6.801877e-06 -4.422572e-05  1.014504e-05   \n",
       "wa       -1.388102e-04 -1.227920e-05  7.948791e-05 -1.664050e-06   \n",
       "\n",
       "               sigma_8      m_nu        w0        wa  \n",
       "omega_m0 -8.184487e-06  0.000052  0.000029 -0.000139  \n",
       "omega_b0 -6.411755e-07 -0.000002  0.000007 -0.000012  \n",
       "h         4.172364e-06  0.000011 -0.000044  0.000079  \n",
       "n_s       2.546629e-07 -0.000014  0.000010 -0.000002  \n",
       "sigma_8   2.289055e-05 -0.000155 -0.000064  0.000375  \n",
       "m_nu     -1.549617e-04  0.001726 -0.000036 -0.002466  \n",
       "w0       -6.435539e-05 -0.000036  0.000823 -0.002162  \n",
       "wa        3.747179e-04 -0.002466 -0.002162  0.009900  "
      ]
     },
     "execution_count": 9,
     "metadata": {},
     "output_type": "execute_result"
    }
   ],
   "source": [
    "fisher1_combined=DESI_multi_valid+cmb_fisher_marg\n",
    "fisher1_combined.to_excel('../data/combined/cmb+dmul-w0wacdm-fixed.xlsx')\n",
    "cov1_combined=pd.DataFrame(np.linalg.inv(fisher1_combined),index=fisher1_combined.index,columns=fisher1_combined.columns)\n",
    "cov1_combined"
   ]
  },
  {
   "cell_type": "code",
   "execution_count": 10,
   "metadata": {},
   "outputs": [
    {
     "name": "stdout",
     "output_type": "stream",
     "text": [
      "1-sigma errors:\n",
      "-- omega_m0: 2.3e-03\n",
      "-- omega_b0: 3.2e-04\n",
      "--        h: 2.1e-03\n",
      "--      n_s: 1.6e-03\n",
      "--  sigma_8: 4.8e-03\n",
      "--     m_nu: 4.2e-02\n",
      "--       w0: 2.9e-02\n",
      "--       wa: 1.0e-01\n"
     ]
    }
   ],
   "source": [
    "name_width=max([len(v) for v in settings.var_name])\n",
    "error_dict=dict(zip(settings.var_name,np.sqrt(np.diag(cov1_combined.values))))\n",
    "print('1-sigma errors:')\n",
    "for key in error_dict.keys():\n",
    "    print(f'-- {key.rjust(name_width)}: {error_dict[key]:.1e}')"
   ]
  },
  {
   "cell_type": "markdown",
   "metadata": {},
   "source": [
    "# CMB-S4 + LiteBIRD + DESI multitracer"
   ]
  },
  {
   "cell_type": "code",
   "execution_count": 11,
   "metadata": {},
   "outputs": [],
   "source": [
    "fisher2=pd.DataFrame(JPAS_multi_valid+PFS_ELG_valid,index=settings.var_name,columns=settings.var_name)\n",
    "fisher2.to_excel('../data/combined/pelg+jmul-w0wacdm-fixed.xlsx')"
   ]
  },
  {
   "cell_type": "code",
   "execution_count": 12,
   "metadata": {},
   "outputs": [
    {
     "data": {
      "application/vnd.microsoft.datawrangler.viewer.v0+json": {
       "columns": [
        {
         "name": "index",
         "rawType": "object",
         "type": "string"
        },
        {
         "name": "omega_m0",
         "rawType": "float64",
         "type": "float"
        },
        {
         "name": "omega_b0",
         "rawType": "float64",
         "type": "float"
        },
        {
         "name": "h",
         "rawType": "float64",
         "type": "float"
        },
        {
         "name": "n_s",
         "rawType": "float64",
         "type": "float"
        },
        {
         "name": "sigma_8",
         "rawType": "float64",
         "type": "float"
        },
        {
         "name": "m_nu",
         "rawType": "float64",
         "type": "float"
        },
        {
         "name": "w0",
         "rawType": "float64",
         "type": "float"
        },
        {
         "name": "wa",
         "rawType": "float64",
         "type": "float"
        }
       ],
       "conversionMethod": "pd.DataFrame",
       "ref": "8ea14564-41e3-40b8-9f81-148d1f8f81d7",
       "rows": [
        [
         "omega_m0",
         "8.811826353278908e-06",
         "8.248335147933425e-07",
         "-5.493483413447885e-06",
         "-1.3750816713818034e-06",
         "-1.4657883030119825e-05",
         "0.00010214097766035706",
         "7.843582829007079e-05",
         "-0.0003617190641355648"
        ],
        [
         "omega_b0",
         "8.248335147932987e-07",
         "1.7202740028939233e-07",
         "-1.1009300786536074e-06",
         "4.2474037438682786e-08",
         "-1.2822508229598451e-06",
         "-1.7071420868378733e-06",
         "1.2411961051646044e-05",
         "-2.5378684978629962e-05"
        ],
        [
         "h",
         "-5.493483413453729e-06",
         "-1.1009300786548106e-06",
         "7.249513416442204e-06",
         "-6.207921423217472e-07",
         "8.458471053702339e-06",
         "8.474469817670108e-06",
         "-8.243155025235091e-05",
         "0.0001750168847265567"
        ],
        [
         "n_s",
         "-1.3750816713804487e-06",
         "4.2474037440185396e-08",
         "-6.20792142329479e-07",
         "2.865588290424611e-06",
         "9.055911310616722e-07",
         "-3.0419697820959303e-05",
         "1.33041044637445e-05",
         "1.7438270445177664e-05"
        ],
        [
         "sigma_8",
         "-1.4657883030124042e-05",
         "-1.282250822961574e-06",
         "8.458471053698141e-06",
         "9.055911310644867e-07",
         "3.4427771505785135e-05",
         "-0.00023327183430954965",
         "-0.00015532772216340479",
         "0.0007581221461483831"
        ],
        [
         "m_nu",
         "0.00010214097766031763",
         "-1.7071420868396277e-06",
         "8.474469817702843e-06",
         "-3.0419697820840142e-05",
         "-0.00023327183430953306",
         "0.0028696761809472375",
         "0.0005055504212238891",
         "-0.006226361560956854"
        ],
        [
         "w0",
         "7.84358282900948e-05",
         "1.2411961051681782e-05",
         "-8.243155025239763e-05",
         "1.3304104463613481e-05",
         "-0.0001553277221633567",
         "0.0005055504212215892",
         "0.001895499519844174",
         "-0.006268075495428025"
        ],
        [
         "wa",
         "-0.0003617190641354986",
         "-2.537868497873589e-05",
         "0.00017501688472673714",
         "1.7438270445326715e-05",
         "0.0007581221461482275",
         "-0.0062263615609482",
         "-0.006268075495432949",
         "0.029183841425347235"
        ]
       ],
       "shape": {
        "columns": 8,
        "rows": 8
       }
      },
      "text/html": [
       "<div>\n",
       "<style scoped>\n",
       "    .dataframe tbody tr th:only-of-type {\n",
       "        vertical-align: middle;\n",
       "    }\n",
       "\n",
       "    .dataframe tbody tr th {\n",
       "        vertical-align: top;\n",
       "    }\n",
       "\n",
       "    .dataframe thead th {\n",
       "        text-align: right;\n",
       "    }\n",
       "</style>\n",
       "<table border=\"1\" class=\"dataframe\">\n",
       "  <thead>\n",
       "    <tr style=\"text-align: right;\">\n",
       "      <th></th>\n",
       "      <th>omega_m0</th>\n",
       "      <th>omega_b0</th>\n",
       "      <th>h</th>\n",
       "      <th>n_s</th>\n",
       "      <th>sigma_8</th>\n",
       "      <th>m_nu</th>\n",
       "      <th>w0</th>\n",
       "      <th>wa</th>\n",
       "    </tr>\n",
       "  </thead>\n",
       "  <tbody>\n",
       "    <tr>\n",
       "      <th>omega_m0</th>\n",
       "      <td>8.811826e-06</td>\n",
       "      <td>8.248335e-07</td>\n",
       "      <td>-5.493483e-06</td>\n",
       "      <td>-1.375082e-06</td>\n",
       "      <td>-1.465788e-05</td>\n",
       "      <td>0.000102</td>\n",
       "      <td>0.000078</td>\n",
       "      <td>-0.000362</td>\n",
       "    </tr>\n",
       "    <tr>\n",
       "      <th>omega_b0</th>\n",
       "      <td>8.248335e-07</td>\n",
       "      <td>1.720274e-07</td>\n",
       "      <td>-1.100930e-06</td>\n",
       "      <td>4.247404e-08</td>\n",
       "      <td>-1.282251e-06</td>\n",
       "      <td>-0.000002</td>\n",
       "      <td>0.000012</td>\n",
       "      <td>-0.000025</td>\n",
       "    </tr>\n",
       "    <tr>\n",
       "      <th>h</th>\n",
       "      <td>-5.493483e-06</td>\n",
       "      <td>-1.100930e-06</td>\n",
       "      <td>7.249513e-06</td>\n",
       "      <td>-6.207921e-07</td>\n",
       "      <td>8.458471e-06</td>\n",
       "      <td>0.000008</td>\n",
       "      <td>-0.000082</td>\n",
       "      <td>0.000175</td>\n",
       "    </tr>\n",
       "    <tr>\n",
       "      <th>n_s</th>\n",
       "      <td>-1.375082e-06</td>\n",
       "      <td>4.247404e-08</td>\n",
       "      <td>-6.207921e-07</td>\n",
       "      <td>2.865588e-06</td>\n",
       "      <td>9.055911e-07</td>\n",
       "      <td>-0.000030</td>\n",
       "      <td>0.000013</td>\n",
       "      <td>0.000017</td>\n",
       "    </tr>\n",
       "    <tr>\n",
       "      <th>sigma_8</th>\n",
       "      <td>-1.465788e-05</td>\n",
       "      <td>-1.282251e-06</td>\n",
       "      <td>8.458471e-06</td>\n",
       "      <td>9.055911e-07</td>\n",
       "      <td>3.442777e-05</td>\n",
       "      <td>-0.000233</td>\n",
       "      <td>-0.000155</td>\n",
       "      <td>0.000758</td>\n",
       "    </tr>\n",
       "    <tr>\n",
       "      <th>m_nu</th>\n",
       "      <td>1.021410e-04</td>\n",
       "      <td>-1.707142e-06</td>\n",
       "      <td>8.474470e-06</td>\n",
       "      <td>-3.041970e-05</td>\n",
       "      <td>-2.332718e-04</td>\n",
       "      <td>0.002870</td>\n",
       "      <td>0.000506</td>\n",
       "      <td>-0.006226</td>\n",
       "    </tr>\n",
       "    <tr>\n",
       "      <th>w0</th>\n",
       "      <td>7.843583e-05</td>\n",
       "      <td>1.241196e-05</td>\n",
       "      <td>-8.243155e-05</td>\n",
       "      <td>1.330410e-05</td>\n",
       "      <td>-1.553277e-04</td>\n",
       "      <td>0.000506</td>\n",
       "      <td>0.001895</td>\n",
       "      <td>-0.006268</td>\n",
       "    </tr>\n",
       "    <tr>\n",
       "      <th>wa</th>\n",
       "      <td>-3.617191e-04</td>\n",
       "      <td>-2.537868e-05</td>\n",
       "      <td>1.750169e-04</td>\n",
       "      <td>1.743827e-05</td>\n",
       "      <td>7.581221e-04</td>\n",
       "      <td>-0.006226</td>\n",
       "      <td>-0.006268</td>\n",
       "      <td>0.029184</td>\n",
       "    </tr>\n",
       "  </tbody>\n",
       "</table>\n",
       "</div>"
      ],
      "text/plain": [
       "              omega_m0      omega_b0             h           n_s  \\\n",
       "omega_m0  8.811826e-06  8.248335e-07 -5.493483e-06 -1.375082e-06   \n",
       "omega_b0  8.248335e-07  1.720274e-07 -1.100930e-06  4.247404e-08   \n",
       "h        -5.493483e-06 -1.100930e-06  7.249513e-06 -6.207921e-07   \n",
       "n_s      -1.375082e-06  4.247404e-08 -6.207921e-07  2.865588e-06   \n",
       "sigma_8  -1.465788e-05 -1.282251e-06  8.458471e-06  9.055911e-07   \n",
       "m_nu      1.021410e-04 -1.707142e-06  8.474470e-06 -3.041970e-05   \n",
       "w0        7.843583e-05  1.241196e-05 -8.243155e-05  1.330410e-05   \n",
       "wa       -3.617191e-04 -2.537868e-05  1.750169e-04  1.743827e-05   \n",
       "\n",
       "               sigma_8      m_nu        w0        wa  \n",
       "omega_m0 -1.465788e-05  0.000102  0.000078 -0.000362  \n",
       "omega_b0 -1.282251e-06 -0.000002  0.000012 -0.000025  \n",
       "h         8.458471e-06  0.000008 -0.000082  0.000175  \n",
       "n_s       9.055911e-07 -0.000030  0.000013  0.000017  \n",
       "sigma_8   3.442777e-05 -0.000233 -0.000155  0.000758  \n",
       "m_nu     -2.332718e-04  0.002870  0.000506 -0.006226  \n",
       "w0       -1.553277e-04  0.000506  0.001895 -0.006268  \n",
       "wa        7.581221e-04 -0.006226 -0.006268  0.029184  "
      ]
     },
     "execution_count": 12,
     "metadata": {},
     "output_type": "execute_result"
    }
   ],
   "source": [
    "fisher2_combined=JPAS_multi_valid+PFS_ELG_valid+cmb_fisher_marg\n",
    "fisher2_combined.to_excel('../data/combined/cmb+pelg+jmul-w0wacdm-fixed.xlsx')\n",
    "cov2_combined=pd.DataFrame(np.linalg.inv(fisher2_combined),index=fisher2_combined.index,columns=fisher2_combined.columns)\n",
    "cov2_combined"
   ]
  },
  {
   "cell_type": "code",
   "execution_count": 13,
   "metadata": {},
   "outputs": [
    {
     "name": "stdout",
     "output_type": "stream",
     "text": [
      "1-sigma errors:\n",
      "-- omega_m0: 3.0e-03\n",
      "-- omega_b0: 4.1e-04\n",
      "--        h: 2.7e-03\n",
      "--      n_s: 1.7e-03\n",
      "--  sigma_8: 5.9e-03\n",
      "--     m_nu: 5.4e-02\n",
      "--       w0: 4.4e-02\n",
      "--       wa: 1.7e-01\n"
     ]
    }
   ],
   "source": [
    "name_width=max([len(v) for v in settings.var_name])\n",
    "error_dict=dict(zip(settings.var_name,np.sqrt(np.diag(cov2_combined.values))))\n",
    "print('1-sigma errors:')\n",
    "for key in error_dict.keys():\n",
    "    print(f'-- {key.rjust(name_width)}: {error_dict[key]:.1e}')"
   ]
  }
 ],
 "metadata": {
  "kernelspec": {
   "display_name": "base",
   "language": "python",
   "name": "python3"
  },
  "language_info": {
   "codemirror_mode": {
    "name": "ipython",
    "version": 3
   },
   "file_extension": ".py",
   "mimetype": "text/x-python",
   "name": "python",
   "nbconvert_exporter": "python",
   "pygments_lexer": "ipython3",
   "version": "3.12.3"
  }
 },
 "nbformat": 4,
 "nbformat_minor": 2
}
