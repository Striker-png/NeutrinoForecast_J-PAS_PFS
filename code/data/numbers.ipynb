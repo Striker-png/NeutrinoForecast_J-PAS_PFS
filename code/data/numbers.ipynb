{
 "cells": [
  {
   "cell_type": "code",
   "execution_count": 1,
   "id": "2745481c",
   "metadata": {},
   "outputs": [],
   "source": [
    "import numpy as np\n",
    "import pandas as pd"
   ]
  },
  {
   "cell_type": "code",
   "execution_count": 2,
   "id": "af2be426",
   "metadata": {},
   "outputs": [],
   "source": [
    "def var_filter(fisher,lcdm,neff_fixed):\n",
    "    df=fisher.copy()\n",
    "    if lcdm:\n",
    "        df=df.drop('w0',axis=0)\n",
    "        df=df.drop('w0',axis=1)\n",
    "        df=df.drop('wa',axis=0)\n",
    "        df=df.drop('wa',axis=1)\n",
    "    if neff_fixed:\n",
    "        df=df.drop('N_eff',axis=0)\n",
    "        df=df.drop('N_eff',axis=1)\n",
    "\n",
    "    return df"
   ]
  },
  {
   "cell_type": "markdown",
   "id": "3a7413d7",
   "metadata": {},
   "source": [
    "# lcdm"
   ]
  },
  {
   "cell_type": "markdown",
   "id": "1503fafc",
   "metadata": {},
   "source": [
    "# $N_\\mathrm{eff}$ fixed"
   ]
  },
  {
   "cell_type": "code",
   "execution_count": 3,
   "id": "b52abf84",
   "metadata": {},
   "outputs": [],
   "source": [
    "CMB_fixed=var_filter(pd.read_excel('./CMB/all.xlsx',header=0,index_col=0),lcdm=True,neff_fixed=True)\n",
    "cmb_cov_fixed=pd.DataFrame(np.linalg.inv(CMB_fixed.values),index=CMB_fixed.index,columns=CMB_fixed.columns)\n",
    "cmb_cov_marg_fixed=cmb_cov_fixed.drop('tau',axis=0)\n",
    "cmb_cov_marg_fixed=cmb_cov_marg_fixed.drop('tau',axis=1)\n",
    "CMB_fixed=pd.DataFrame(np.linalg.inv(cmb_cov_marg_fixed.values),index=cmb_cov_marg_fixed.index,columns=cmb_cov_marg_fixed.columns)\n",
    "ELG_fixed=var_filter(pd.read_excel('./ELG/fisher.xlsx',header=0,index_col=0),lcdm=True,neff_fixed=True)\n",
    "LRG_fixed=var_filter(pd.read_excel('./LRG/fisher.xlsx',header=0,index_col=0),lcdm=True,neff_fixed=True)\n",
    "QSO_fixed=var_filter(pd.read_excel('./QSO/fisher.xlsx',header=0,index_col=0),lcdm=True,neff_fixed=True)\n",
    "PFS_fixed=var_filter(pd.read_excel('./PFS/fisher.xlsx',header=0,index_col=0),lcdm=True,neff_fixed=True)\n",
    "multitracer_fixed=var_filter(pd.read_excel('./jpas_all/valid.xlsx',header=0,index_col=0),lcdm=True,neff_fixed=True)\n",
    "survey_only_fixed=pd.read_excel('./combined/pelg+jmul-lcdm-fixed.xlsx',header=0,index_col=0)\n",
    "DESI_fixed=var_filter(pd.read_excel('./DESI_all/valid.xlsx',header=0,index_col=0),lcdm=True,neff_fixed=True)\n",
    "best_fixed=pd.read_excel('./combined/cmb+pelg+jmul-lcdm-fixed.xlsx',header=0,index_col=0)\n",
    "gold_fixed=pd.read_excel('./combined/cmb+dmul-lcdm-fixed.xlsx',header=0,index_col=0)"
   ]
  },
  {
   "cell_type": "code",
   "execution_count": 4,
   "id": "b179ecb0",
   "metadata": {},
   "outputs": [],
   "source": [
    "orders=[r'$h$',r'$\\Omega_\\mathrm{m,0}$',r'$\\Omega_\\mathrm{b,0}$',r'$\\sigma_8$',r'$n_\\mathrm{s}$',r'$\\sum m_\\nu\\;[\\mathrm{eV}]$',r'$N_\\mathrm{eff}$']\n",
    "names=['h','omega_m0','omega_b0','sigma_8','n_s','m_nu',]\n",
    "err_fixed=[]\n",
    "fishers_fixed=[CMB_fixed,ELG_fixed,LRG_fixed,QSO_fixed,PFS_fixed,multitracer_fixed,survey_only_fixed,DESI_fixed,best_fixed,gold_fixed]\n",
    "for f in fishers_fixed:\n",
    "    cov=pd.DataFrame(np.linalg.inv(f.values),index=f.index,columns=f.columns).iloc[:len(orders),:len(orders)]\n",
    "    e=[]\n",
    "    for i,index in enumerate(names):\n",
    "        e.append(np.sqrt(cov.loc[index,index]))\n",
    "    err_fixed.append(np.array(e))\n",
    "err_fixed=np.stack(err_fixed,axis=0)"
   ]
  },
  {
   "cell_type": "code",
   "execution_count": 5,
   "id": "63df0a38",
   "metadata": {},
   "outputs": [
    {
     "data": {
      "application/vnd.microsoft.datawrangler.viewer.v0+json": {
       "columns": [
        {
         "name": "index",
         "rawType": "object",
         "type": "string"
        },
        {
         "name": "h",
         "rawType": "float64",
         "type": "float"
        },
        {
         "name": "omega_m0",
         "rawType": "float64",
         "type": "float"
        },
        {
         "name": "omega_b0",
         "rawType": "float64",
         "type": "float"
        },
        {
         "name": "sigma_8",
         "rawType": "float64",
         "type": "float"
        },
        {
         "name": "n_s",
         "rawType": "float64",
         "type": "float"
        },
        {
         "name": "m_nu",
         "rawType": "float64",
         "type": "float"
        }
       ],
       "conversionMethod": "pd.DataFrame",
       "ref": "1b7cbf6b-6379-4a8d-9651-b792a51f0419",
       "rows": [
        [
         "CMB",
         "0.006986871374031756",
         "0.009244203810261585",
         "0.0010081873767879422",
         "0.010340888447274954",
         "0.0019903958078627652",
         "0.05167925246854109"
        ],
        [
         "J-PAS ELG",
         "0.013175703366855468",
         "0.01464936681349814",
         "0.005713975068805593",
         "0.0206194120623407",
         "0.02634983164942465",
         "0.26877506789347244"
        ],
        [
         "J-PAS LRG",
         "0.01950117437915006",
         "0.022831888649639923",
         "0.00810569113291515",
         "0.03489097934859271",
         "0.04736444255442812",
         "0.3744605365787963"
        ],
        [
         "J-PAS QSO",
         "0.015740341291224324",
         "0.031036331171435016",
         "0.008813540189293657",
         "0.04338359083307361",
         "0.046786307794190726",
         "0.3560004074318136"
        ],
        [
         "PFS ELG",
         "0.015160499162209618",
         "0.013098281949801194",
         "0.006185035876779084",
         "0.037094135841929846",
         "0.046400055037948966",
         "0.5528648018235596"
        ],
        [
         "J-PAS Multitracer",
         "0.007671277235661447",
         "0.007344427053794242",
         "0.0032860095446189254",
         "0.01494668812163361",
         "0.015482998462272033",
         "0.20457728937453568"
        ],
        [
         "J-PAS Multitracer + PFS ELG",
         "0.006319954049226625",
         "0.004825715963351181",
         "0.002637256330627399",
         "0.013440724826967974",
         "0.011834647884653892",
         "0.1836073481271364"
        ],
        [
         "DESI Multitracer",
         "0.005741638285924539",
         "0.003803088476684777",
         "0.0022845367708237106",
         "0.013849922833832285",
         "0.018084737968935206",
         "0.21454506066141116"
        ],
        [
         "CMB + J-PAS Multitracer\n+ PFS ELG",
         "0.0015934188486336548",
         "0.002080261141992742",
         "0.0002484600451276868",
         "0.0038250807394051966",
         "0.0015250992673158312",
         "0.016785642416613126"
        ],
        [
         "CMB + DESI Multitracer",
         "0.0013425395919576578",
         "0.001784371951854175",
         "0.00020315873538660463",
         "0.00279950437783352",
         "0.0015103705172849514",
         "0.013089943415041935"
        ]
       ],
       "shape": {
        "columns": 6,
        "rows": 10
       }
      },
      "text/html": [
       "<div>\n",
       "<style scoped>\n",
       "    .dataframe tbody tr th:only-of-type {\n",
       "        vertical-align: middle;\n",
       "    }\n",
       "\n",
       "    .dataframe tbody tr th {\n",
       "        vertical-align: top;\n",
       "    }\n",
       "\n",
       "    .dataframe thead th {\n",
       "        text-align: right;\n",
       "    }\n",
       "</style>\n",
       "<table border=\"1\" class=\"dataframe\">\n",
       "  <thead>\n",
       "    <tr style=\"text-align: right;\">\n",
       "      <th></th>\n",
       "      <th>h</th>\n",
       "      <th>omega_m0</th>\n",
       "      <th>omega_b0</th>\n",
       "      <th>sigma_8</th>\n",
       "      <th>n_s</th>\n",
       "      <th>m_nu</th>\n",
       "    </tr>\n",
       "  </thead>\n",
       "  <tbody>\n",
       "    <tr>\n",
       "      <th>CMB</th>\n",
       "      <td>0.006987</td>\n",
       "      <td>0.009244</td>\n",
       "      <td>0.001008</td>\n",
       "      <td>0.010341</td>\n",
       "      <td>0.001990</td>\n",
       "      <td>0.051679</td>\n",
       "    </tr>\n",
       "    <tr>\n",
       "      <th>J-PAS ELG</th>\n",
       "      <td>0.013176</td>\n",
       "      <td>0.014649</td>\n",
       "      <td>0.005714</td>\n",
       "      <td>0.020619</td>\n",
       "      <td>0.026350</td>\n",
       "      <td>0.268775</td>\n",
       "    </tr>\n",
       "    <tr>\n",
       "      <th>J-PAS LRG</th>\n",
       "      <td>0.019501</td>\n",
       "      <td>0.022832</td>\n",
       "      <td>0.008106</td>\n",
       "      <td>0.034891</td>\n",
       "      <td>0.047364</td>\n",
       "      <td>0.374461</td>\n",
       "    </tr>\n",
       "    <tr>\n",
       "      <th>J-PAS QSO</th>\n",
       "      <td>0.015740</td>\n",
       "      <td>0.031036</td>\n",
       "      <td>0.008814</td>\n",
       "      <td>0.043384</td>\n",
       "      <td>0.046786</td>\n",
       "      <td>0.356000</td>\n",
       "    </tr>\n",
       "    <tr>\n",
       "      <th>PFS ELG</th>\n",
       "      <td>0.015160</td>\n",
       "      <td>0.013098</td>\n",
       "      <td>0.006185</td>\n",
       "      <td>0.037094</td>\n",
       "      <td>0.046400</td>\n",
       "      <td>0.552865</td>\n",
       "    </tr>\n",
       "    <tr>\n",
       "      <th>J-PAS Multitracer</th>\n",
       "      <td>0.007671</td>\n",
       "      <td>0.007344</td>\n",
       "      <td>0.003286</td>\n",
       "      <td>0.014947</td>\n",
       "      <td>0.015483</td>\n",
       "      <td>0.204577</td>\n",
       "    </tr>\n",
       "    <tr>\n",
       "      <th>J-PAS Multitracer + PFS ELG</th>\n",
       "      <td>0.006320</td>\n",
       "      <td>0.004826</td>\n",
       "      <td>0.002637</td>\n",
       "      <td>0.013441</td>\n",
       "      <td>0.011835</td>\n",
       "      <td>0.183607</td>\n",
       "    </tr>\n",
       "    <tr>\n",
       "      <th>DESI Multitracer</th>\n",
       "      <td>0.005742</td>\n",
       "      <td>0.003803</td>\n",
       "      <td>0.002285</td>\n",
       "      <td>0.013850</td>\n",
       "      <td>0.018085</td>\n",
       "      <td>0.214545</td>\n",
       "    </tr>\n",
       "    <tr>\n",
       "      <th>CMB + J-PAS Multitracer\\n+ PFS ELG</th>\n",
       "      <td>0.001593</td>\n",
       "      <td>0.002080</td>\n",
       "      <td>0.000248</td>\n",
       "      <td>0.003825</td>\n",
       "      <td>0.001525</td>\n",
       "      <td>0.016786</td>\n",
       "    </tr>\n",
       "    <tr>\n",
       "      <th>CMB + DESI Multitracer</th>\n",
       "      <td>0.001343</td>\n",
       "      <td>0.001784</td>\n",
       "      <td>0.000203</td>\n",
       "      <td>0.002800</td>\n",
       "      <td>0.001510</td>\n",
       "      <td>0.013090</td>\n",
       "    </tr>\n",
       "  </tbody>\n",
       "</table>\n",
       "</div>"
      ],
      "text/plain": [
       "                                           h  omega_m0  omega_b0   sigma_8  \\\n",
       "CMB                                 0.006987  0.009244  0.001008  0.010341   \n",
       "J-PAS ELG                           0.013176  0.014649  0.005714  0.020619   \n",
       "J-PAS LRG                           0.019501  0.022832  0.008106  0.034891   \n",
       "J-PAS QSO                           0.015740  0.031036  0.008814  0.043384   \n",
       "PFS ELG                             0.015160  0.013098  0.006185  0.037094   \n",
       "J-PAS Multitracer                   0.007671  0.007344  0.003286  0.014947   \n",
       "J-PAS Multitracer + PFS ELG         0.006320  0.004826  0.002637  0.013441   \n",
       "DESI Multitracer                    0.005742  0.003803  0.002285  0.013850   \n",
       "CMB + J-PAS Multitracer\\n+ PFS ELG  0.001593  0.002080  0.000248  0.003825   \n",
       "CMB + DESI Multitracer              0.001343  0.001784  0.000203  0.002800   \n",
       "\n",
       "                                         n_s      m_nu  \n",
       "CMB                                 0.001990  0.051679  \n",
       "J-PAS ELG                           0.026350  0.268775  \n",
       "J-PAS LRG                           0.047364  0.374461  \n",
       "J-PAS QSO                           0.046786  0.356000  \n",
       "PFS ELG                             0.046400  0.552865  \n",
       "J-PAS Multitracer                   0.015483  0.204577  \n",
       "J-PAS Multitracer + PFS ELG         0.011835  0.183607  \n",
       "DESI Multitracer                    0.018085  0.214545  \n",
       "CMB + J-PAS Multitracer\\n+ PFS ELG  0.001525  0.016786  \n",
       "CMB + DESI Multitracer              0.001510  0.013090  "
      ]
     },
     "execution_count": 5,
     "metadata": {},
     "output_type": "execute_result"
    }
   ],
   "source": [
    "labels=['CMB','J-PAS ELG','J-PAS LRG','J-PAS QSO','PFS ELG','J-PAS Multitracer','J-PAS Multitracer + PFS ELG','DESI Multitracer','CMB + J-PAS Multitracer\\n+ PFS ELG','CMB + DESI Multitracer']\n",
    "df_fixed=pd.DataFrame(err_fixed,index=labels,columns=names)\n",
    "df_fixed"
   ]
  },
  {
   "cell_type": "code",
   "execution_count": 6,
   "id": "1eb98851",
   "metadata": {},
   "outputs": [],
   "source": [
    "df_fixed.to_excel('./numbers/lcdm-fixed.xlsx')"
   ]
  },
  {
   "cell_type": "markdown",
   "id": "a3ac3cb6",
   "metadata": {},
   "source": [
    "# $N_\\mathrm{eff}$ free"
   ]
  },
  {
   "cell_type": "code",
   "execution_count": 7,
   "id": "9e4ccb48",
   "metadata": {},
   "outputs": [],
   "source": [
    "CMB_free=var_filter(pd.read_excel('./CMB/all.xlsx',header=0,index_col=0),lcdm=True,neff_fixed=False)\n",
    "cmb_cov_free=pd.DataFrame(np.linalg.inv(CMB_free.values),index=CMB_free.index,columns=CMB_free.columns)\n",
    "cmb_cov_marg_free=cmb_cov_free.drop('tau',axis=0)\n",
    "cmb_cov_marg_free=cmb_cov_marg_free.drop('tau',axis=1)\n",
    "CMB_free=pd.DataFrame(np.linalg.inv(cmb_cov_marg_free.values),index=cmb_cov_marg_free.index,columns=cmb_cov_marg_free.columns)\n",
    "ELG_free=var_filter(pd.read_excel('./ELG/fisher.xlsx',header=0,index_col=0),lcdm=True,neff_fixed=False)\n",
    "LRG_free=var_filter(pd.read_excel('./LRG/fisher.xlsx',header=0,index_col=0),lcdm=True,neff_fixed=False)\n",
    "QSO_free=var_filter(pd.read_excel('./QSO/fisher.xlsx',header=0,index_col=0),lcdm=True,neff_fixed=False)\n",
    "PFS_free=var_filter(pd.read_excel('./PFS/fisher.xlsx',header=0,index_col=0),lcdm=True,neff_fixed=False)\n",
    "multitracer_free=var_filter(pd.read_excel('./jpas_all/valid.xlsx',header=0,index_col=0),lcdm=True,neff_fixed=False)\n",
    "survey_only_free=pd.read_excel('./combined/pelg+jmul-lcdm-free.xlsx',header=0,index_col=0)\n",
    "DESI_free=var_filter(pd.read_excel('./DESI_all/valid.xlsx',header=0,index_col=0),lcdm=True,neff_fixed=False)\n",
    "best_free=pd.read_excel('./combined/cmb+pelg+jmul-lcdm-free.xlsx',header=0,index_col=0)\n",
    "gold_free=pd.read_excel('./combined/cmb+dmul-lcdm-free.xlsx',header=0,index_col=0)"
   ]
  },
  {
   "cell_type": "code",
   "execution_count": 8,
   "id": "520b9058",
   "metadata": {},
   "outputs": [],
   "source": [
    "names=['h','omega_m0','omega_b0','sigma_8','n_s','m_nu','N_eff',]\n",
    "err_free=[]\n",
    "fishers_free=[CMB_free,ELG_free,LRG_free,QSO_free,PFS_free,multitracer_free,survey_only_free,DESI_free,best_free,gold_free]\n",
    "for f in fishers_free:\n",
    "    cov=pd.DataFrame(np.linalg.inv(f.values),index=f.index,columns=f.columns).iloc[:len(orders),:len(orders)]\n",
    "    e=[]\n",
    "    for i,index in enumerate(names):\n",
    "        e.append(np.sqrt(cov.loc[index,index]))\n",
    "    err_free.append(np.array(e))\n",
    "err_free=np.stack(err_free,axis=0)"
   ]
  },
  {
   "cell_type": "code",
   "execution_count": 9,
   "id": "c9eb24aa",
   "metadata": {},
   "outputs": [
    {
     "data": {
      "application/vnd.microsoft.datawrangler.viewer.v0+json": {
       "columns": [
        {
         "name": "index",
         "rawType": "object",
         "type": "string"
        },
        {
         "name": "h",
         "rawType": "float64",
         "type": "float"
        },
        {
         "name": "omega_m0",
         "rawType": "float64",
         "type": "float"
        },
        {
         "name": "omega_b0",
         "rawType": "float64",
         "type": "float"
        },
        {
         "name": "sigma_8",
         "rawType": "float64",
         "type": "float"
        },
        {
         "name": "n_s",
         "rawType": "float64",
         "type": "float"
        },
        {
         "name": "m_nu",
         "rawType": "float64",
         "type": "float"
        },
        {
         "name": "N_eff",
         "rawType": "float64",
         "type": "float"
        }
       ],
       "conversionMethod": "pd.DataFrame",
       "ref": "326f7fa4-a526-49cc-80c2-793a34cd1f39",
       "rows": [
        [
         "CMB",
         "0.0078274464510319",
         "0.00939253059757023",
         "0.0010959466698818915",
         "0.011036353030355144",
         "0.003295489113940507",
         "0.052012638186082975",
         "0.04805443195065654"
        ],
        [
         "J-PAS ELG",
         "0.019821177648566623",
         "0.015170900388095827",
         "0.00572045958047141",
         "0.03488148096091623",
         "0.02637521422830363",
         "0.413168548611222",
         "0.7448779608286462"
        ],
        [
         "J-PAS LRG",
         "0.022937652130653425",
         "0.02829486787527804",
         "0.008953316664033126",
         "0.044141139479169825",
         "0.05241458593958085",
         "0.5237924813663303",
         "1.0297959720757903"
        ],
        [
         "J-PAS QSO",
         "0.04569420626475932",
         "0.034549741729820074",
         "0.009191177049365186",
         "0.08335861130532483",
         "0.06801355101657493",
         "0.727865438534918",
         "2.3444452884503324"
        ],
        [
         "PFS ELG",
         "0.03488518503758507",
         "0.015692086208476813",
         "0.006358925548809343",
         "0.06676752486569996",
         "0.06519444275671474",
         "0.6726887092121494",
         "1.769437754659691"
        ],
        [
         "J-PAS Multitracer",
         "0.012764913716024432",
         "0.008392982390156027",
         "0.0033996601687341006",
         "0.025124326024114674",
         "0.01608588270540285",
         "0.2970568682330925",
         "0.5854920693871738"
        ],
        [
         "J-PAS Multitracer + PFS ELG",
         "0.011535622596175934",
         "0.006007337371286781",
         "0.0027194128113152507",
         "0.02310046087457266",
         "0.01253811356189223",
         "0.26911798301142453",
         "0.5316778780764512"
        ],
        [
         "DESI Multitracer",
         "0.008003676159697371",
         "0.00461899320877125",
         "0.002525439300294136",
         "0.017475035642890827",
         "0.02067756656249606",
         "0.22772194220832695",
         "0.4132432148099579"
        ],
        [
         "CMB + J-PAS Multitracer\n+ PFS ELG",
         "0.002121952386938988",
         "0.002100758863977182",
         "0.0002832197495637019",
         "0.003986251912061858",
         "0.0020681018593028257",
         "0.017325511554144236",
         "0.03421362337927531"
        ],
        [
         "CMB + DESI Multitracer",
         "0.001644444843479313",
         "0.0019415911033209595",
         "0.00021898835318170563",
         "0.003019151622674543",
         "0.0019408831711597203",
         "0.01393121285007914",
         "0.03165412709285572"
        ]
       ],
       "shape": {
        "columns": 7,
        "rows": 10
       }
      },
      "text/html": [
       "<div>\n",
       "<style scoped>\n",
       "    .dataframe tbody tr th:only-of-type {\n",
       "        vertical-align: middle;\n",
       "    }\n",
       "\n",
       "    .dataframe tbody tr th {\n",
       "        vertical-align: top;\n",
       "    }\n",
       "\n",
       "    .dataframe thead th {\n",
       "        text-align: right;\n",
       "    }\n",
       "</style>\n",
       "<table border=\"1\" class=\"dataframe\">\n",
       "  <thead>\n",
       "    <tr style=\"text-align: right;\">\n",
       "      <th></th>\n",
       "      <th>h</th>\n",
       "      <th>omega_m0</th>\n",
       "      <th>omega_b0</th>\n",
       "      <th>sigma_8</th>\n",
       "      <th>n_s</th>\n",
       "      <th>m_nu</th>\n",
       "      <th>N_eff</th>\n",
       "    </tr>\n",
       "  </thead>\n",
       "  <tbody>\n",
       "    <tr>\n",
       "      <th>CMB</th>\n",
       "      <td>0.007827</td>\n",
       "      <td>0.009393</td>\n",
       "      <td>0.001096</td>\n",
       "      <td>0.011036</td>\n",
       "      <td>0.003295</td>\n",
       "      <td>0.052013</td>\n",
       "      <td>0.048054</td>\n",
       "    </tr>\n",
       "    <tr>\n",
       "      <th>J-PAS ELG</th>\n",
       "      <td>0.019821</td>\n",
       "      <td>0.015171</td>\n",
       "      <td>0.005720</td>\n",
       "      <td>0.034881</td>\n",
       "      <td>0.026375</td>\n",
       "      <td>0.413169</td>\n",
       "      <td>0.744878</td>\n",
       "    </tr>\n",
       "    <tr>\n",
       "      <th>J-PAS LRG</th>\n",
       "      <td>0.022938</td>\n",
       "      <td>0.028295</td>\n",
       "      <td>0.008953</td>\n",
       "      <td>0.044141</td>\n",
       "      <td>0.052415</td>\n",
       "      <td>0.523792</td>\n",
       "      <td>1.029796</td>\n",
       "    </tr>\n",
       "    <tr>\n",
       "      <th>J-PAS QSO</th>\n",
       "      <td>0.045694</td>\n",
       "      <td>0.034550</td>\n",
       "      <td>0.009191</td>\n",
       "      <td>0.083359</td>\n",
       "      <td>0.068014</td>\n",
       "      <td>0.727865</td>\n",
       "      <td>2.344445</td>\n",
       "    </tr>\n",
       "    <tr>\n",
       "      <th>PFS ELG</th>\n",
       "      <td>0.034885</td>\n",
       "      <td>0.015692</td>\n",
       "      <td>0.006359</td>\n",
       "      <td>0.066768</td>\n",
       "      <td>0.065194</td>\n",
       "      <td>0.672689</td>\n",
       "      <td>1.769438</td>\n",
       "    </tr>\n",
       "    <tr>\n",
       "      <th>J-PAS Multitracer</th>\n",
       "      <td>0.012765</td>\n",
       "      <td>0.008393</td>\n",
       "      <td>0.003400</td>\n",
       "      <td>0.025124</td>\n",
       "      <td>0.016086</td>\n",
       "      <td>0.297057</td>\n",
       "      <td>0.585492</td>\n",
       "    </tr>\n",
       "    <tr>\n",
       "      <th>J-PAS Multitracer + PFS ELG</th>\n",
       "      <td>0.011536</td>\n",
       "      <td>0.006007</td>\n",
       "      <td>0.002719</td>\n",
       "      <td>0.023100</td>\n",
       "      <td>0.012538</td>\n",
       "      <td>0.269118</td>\n",
       "      <td>0.531678</td>\n",
       "    </tr>\n",
       "    <tr>\n",
       "      <th>DESI Multitracer</th>\n",
       "      <td>0.008004</td>\n",
       "      <td>0.004619</td>\n",
       "      <td>0.002525</td>\n",
       "      <td>0.017475</td>\n",
       "      <td>0.020678</td>\n",
       "      <td>0.227722</td>\n",
       "      <td>0.413243</td>\n",
       "    </tr>\n",
       "    <tr>\n",
       "      <th>CMB + J-PAS Multitracer\\n+ PFS ELG</th>\n",
       "      <td>0.002122</td>\n",
       "      <td>0.002101</td>\n",
       "      <td>0.000283</td>\n",
       "      <td>0.003986</td>\n",
       "      <td>0.002068</td>\n",
       "      <td>0.017326</td>\n",
       "      <td>0.034214</td>\n",
       "    </tr>\n",
       "    <tr>\n",
       "      <th>CMB + DESI Multitracer</th>\n",
       "      <td>0.001644</td>\n",
       "      <td>0.001942</td>\n",
       "      <td>0.000219</td>\n",
       "      <td>0.003019</td>\n",
       "      <td>0.001941</td>\n",
       "      <td>0.013931</td>\n",
       "      <td>0.031654</td>\n",
       "    </tr>\n",
       "  </tbody>\n",
       "</table>\n",
       "</div>"
      ],
      "text/plain": [
       "                                           h  omega_m0  omega_b0   sigma_8  \\\n",
       "CMB                                 0.007827  0.009393  0.001096  0.011036   \n",
       "J-PAS ELG                           0.019821  0.015171  0.005720  0.034881   \n",
       "J-PAS LRG                           0.022938  0.028295  0.008953  0.044141   \n",
       "J-PAS QSO                           0.045694  0.034550  0.009191  0.083359   \n",
       "PFS ELG                             0.034885  0.015692  0.006359  0.066768   \n",
       "J-PAS Multitracer                   0.012765  0.008393  0.003400  0.025124   \n",
       "J-PAS Multitracer + PFS ELG         0.011536  0.006007  0.002719  0.023100   \n",
       "DESI Multitracer                    0.008004  0.004619  0.002525  0.017475   \n",
       "CMB + J-PAS Multitracer\\n+ PFS ELG  0.002122  0.002101  0.000283  0.003986   \n",
       "CMB + DESI Multitracer              0.001644  0.001942  0.000219  0.003019   \n",
       "\n",
       "                                         n_s      m_nu     N_eff  \n",
       "CMB                                 0.003295  0.052013  0.048054  \n",
       "J-PAS ELG                           0.026375  0.413169  0.744878  \n",
       "J-PAS LRG                           0.052415  0.523792  1.029796  \n",
       "J-PAS QSO                           0.068014  0.727865  2.344445  \n",
       "PFS ELG                             0.065194  0.672689  1.769438  \n",
       "J-PAS Multitracer                   0.016086  0.297057  0.585492  \n",
       "J-PAS Multitracer + PFS ELG         0.012538  0.269118  0.531678  \n",
       "DESI Multitracer                    0.020678  0.227722  0.413243  \n",
       "CMB + J-PAS Multitracer\\n+ PFS ELG  0.002068  0.017326  0.034214  \n",
       "CMB + DESI Multitracer              0.001941  0.013931  0.031654  "
      ]
     },
     "execution_count": 9,
     "metadata": {},
     "output_type": "execute_result"
    }
   ],
   "source": [
    "labels=['CMB','J-PAS ELG','J-PAS LRG','J-PAS QSO','PFS ELG','J-PAS Multitracer','J-PAS Multitracer + PFS ELG','DESI Multitracer','CMB + J-PAS Multitracer\\n+ PFS ELG','CMB + DESI Multitracer']\n",
    "df_free=pd.DataFrame(err_free,index=labels,columns=names)\n",
    "df_free"
   ]
  },
  {
   "cell_type": "code",
   "execution_count": 10,
   "id": "140cd2d3",
   "metadata": {},
   "outputs": [],
   "source": [
    "df_free.to_excel('./numbers/lcdm-free.xlsx')"
   ]
  },
  {
   "cell_type": "markdown",
   "id": "4d91abd1",
   "metadata": {},
   "source": [
    "# w0wacdm"
   ]
  },
  {
   "cell_type": "markdown",
   "id": "eb46e5d8",
   "metadata": {},
   "source": [
    "# $N_\\mathrm{eff}$ fixed"
   ]
  },
  {
   "cell_type": "code",
   "execution_count": 11,
   "id": "86b0b758",
   "metadata": {},
   "outputs": [],
   "source": [
    "CMB_fixed=var_filter(pd.read_excel('./CMB/all.xlsx',header=0,index_col=0),lcdm=False,neff_fixed=True)\n",
    "cmb_cov_fixed=pd.DataFrame(np.linalg.inv(CMB_fixed.values),index=CMB_fixed.index,columns=CMB_fixed.columns)\n",
    "cmb_cov_marg_fixed=cmb_cov_fixed.drop('tau',axis=0)\n",
    "cmb_cov_marg_fixed=cmb_cov_marg_fixed.drop('tau',axis=1)\n",
    "CMB_fixed=pd.DataFrame(np.linalg.inv(cmb_cov_marg_fixed.values),index=cmb_cov_marg_fixed.index,columns=cmb_cov_marg_fixed.columns)\n",
    "ELG_fixed=var_filter(pd.read_excel('./ELG/fisher.xlsx',header=0,index_col=0),lcdm=False,neff_fixed=True)\n",
    "LRG_fixed=var_filter(pd.read_excel('./LRG/fisher.xlsx',header=0,index_col=0),lcdm=False,neff_fixed=True)\n",
    "QSO_fixed=var_filter(pd.read_excel('./QSO/fisher.xlsx',header=0,index_col=0),lcdm=False,neff_fixed=True)\n",
    "PFS_fixed=var_filter(pd.read_excel('./PFS/fisher.xlsx',header=0,index_col=0),lcdm=False,neff_fixed=True)\n",
    "multitracer_fixed=var_filter(pd.read_excel('./jpas_all/valid.xlsx',header=0,index_col=0),lcdm=False,neff_fixed=True)\n",
    "survey_only_fixed=pd.read_excel('./combined/pelg+jmul-w0wacdm-fixed.xlsx',header=0,index_col=0)\n",
    "DESI_fixed=var_filter(pd.read_excel('./DESI_all/valid.xlsx',header=0,index_col=0),lcdm=False,neff_fixed=True)\n",
    "best_fixed=pd.read_excel('./combined/cmb+pelg+jmul-w0wacdm-fixed.xlsx',header=0,index_col=0)\n",
    "gold_fixed=pd.read_excel('./combined/cmb+dmul-w0wacdm-fixed.xlsx',header=0,index_col=0)"
   ]
  },
  {
   "cell_type": "code",
   "execution_count": 12,
   "id": "3f809152",
   "metadata": {},
   "outputs": [],
   "source": [
    "orders=[r'$h$',r'$\\Omega_\\mathrm{m,0}$',r'$\\Omega_\\mathrm{b,0}$',r'$\\sigma_8$',r'$n_\\mathrm{s}$',r'$\\sum m_\\nu\\;[\\mathrm{eV}]$',r'$N_\\mathrm{eff}$',r'$w_0$',r'$w_a$']\n",
    "names=['h','omega_m0','omega_b0','sigma_8','n_s','m_nu','w0','wa']\n",
    "err_fixed=[]\n",
    "fishers_fixed=[CMB_fixed,ELG_fixed,LRG_fixed,QSO_fixed,PFS_fixed,multitracer_fixed,survey_only_fixed,DESI_fixed,best_fixed,gold_fixed]\n",
    "for f in fishers_fixed:\n",
    "    cov=pd.DataFrame(np.linalg.inv(f.values),index=f.index,columns=f.columns).iloc[:len(orders),:len(orders)]\n",
    "    e=[]\n",
    "    for i,index in enumerate(names):\n",
    "        e.append(np.sqrt(cov.loc[index,index]))\n",
    "    err_fixed.append(np.array(e))\n",
    "err_fixed=np.stack(err_fixed,axis=0)"
   ]
  },
  {
   "cell_type": "code",
   "execution_count": 13,
   "id": "4f9fec5e",
   "metadata": {},
   "outputs": [
    {
     "data": {
      "application/vnd.microsoft.datawrangler.viewer.v0+json": {
       "columns": [
        {
         "name": "index",
         "rawType": "object",
         "type": "string"
        },
        {
         "name": "h",
         "rawType": "float64",
         "type": "float"
        },
        {
         "name": "omega_m0",
         "rawType": "float64",
         "type": "float"
        },
        {
         "name": "omega_b0",
         "rawType": "float64",
         "type": "float"
        },
        {
         "name": "sigma_8",
         "rawType": "float64",
         "type": "float"
        },
        {
         "name": "n_s",
         "rawType": "float64",
         "type": "float"
        },
        {
         "name": "m_nu",
         "rawType": "float64",
         "type": "float"
        },
        {
         "name": "w0",
         "rawType": "float64",
         "type": "float"
        },
        {
         "name": "wa",
         "rawType": "float64",
         "type": "float"
        }
       ],
       "conversionMethod": "pd.DataFrame",
       "ref": "3212561f-8641-444f-b141-e5d620e1762b",
       "rows": [
        [
         "CMB",
         "0.07365502624633766",
         "0.06999067621937631",
         "0.010777319742822178",
         "0.06574850281706092",
         "0.0020294247084870305",
         "0.13828182534004116",
         "0.530433513105423",
         "1.4906128116910868"
        ],
        [
         "J-PAS ELG",
         "0.02089273279950192",
         "0.03377468809469197",
         "0.008673339964489135",
         "0.02441551391060601",
         "0.042226247198859604",
         "0.2961890314696956",
         "0.14999179894869935",
         "0.8130907998173392"
        ],
        [
         "J-PAS LRG",
         "0.03512786687448786",
         "0.046102825372574485",
         "0.011897003865725711",
         "0.039930706042750445",
         "0.06637696943484923",
         "0.425011310837826",
         "0.2034458162124095",
         "1.0940211002145406"
        ],
        [
         "J-PAS QSO",
         "0.0197473879974495",
         "0.13543737919041718",
         "0.0282001289681539",
         "0.12270988056929526",
         "0.1155609084106791",
         "0.4013075263944304",
         "1.1417966756932758",
         "3.3710267848508826"
        ],
        [
         "PFS ELG",
         "0.015853945774354904",
         "0.034300168608464764",
         "0.008422527777825988",
         "0.0456308768302511",
         "0.054860378822865076",
         "0.6108920533134081",
         "0.27499287373091186",
         "1.0658825936869947"
        ],
        [
         "J-PAS Multitracer",
         "0.010073251131867961",
         "0.013725079684273014",
         "0.0039815803835823674",
         "0.0178882012732622",
         "0.018477169093621917",
         "0.2164945300962767",
         "0.10248810367997904",
         "0.47182231972102257"
        ],
        [
         "J-PAS Multitracer + PFS ELG",
         "0.007245329061435768",
         "0.011423363855223655",
         "0.0032258036864136926",
         "0.01609745100645105",
         "0.014666196130321486",
         "0.19630132091303593",
         "0.09142340016152029",
         "0.40291256094088496"
        ],
        [
         "DESI Multitracer",
         "0.007198932910759092",
         "0.009298903290007663",
         "0.0026194873943998047",
         "0.015142904945156388",
         "0.020303247234603864",
         "0.2255641246314982",
         "0.04584610277196574",
         "0.26802651211462786"
        ],
        [
         "CMB + J-PAS Multitracer\n+ PFS ELG",
         "0.0026924920457531494",
         "0.0029684720570156546",
         "0.00041476185973330596",
         "0.00586751834303047",
         "0.001692804858932251",
         "0.053569358601234796",
         "0.043537334781141884",
         "0.17083278791076262"
        ],
        [
         "CMB + DESI Multitracer",
         "0.0021214408279716704",
         "0.0022657046963945136",
         "0.00032396091998256645",
         "0.004784406830493774",
         "0.0015982846608541485",
         "0.041546382864861224",
         "0.02867986814820982",
         "0.09950088133943186"
        ]
       ],
       "shape": {
        "columns": 8,
        "rows": 10
       }
      },
      "text/html": [
       "<div>\n",
       "<style scoped>\n",
       "    .dataframe tbody tr th:only-of-type {\n",
       "        vertical-align: middle;\n",
       "    }\n",
       "\n",
       "    .dataframe tbody tr th {\n",
       "        vertical-align: top;\n",
       "    }\n",
       "\n",
       "    .dataframe thead th {\n",
       "        text-align: right;\n",
       "    }\n",
       "</style>\n",
       "<table border=\"1\" class=\"dataframe\">\n",
       "  <thead>\n",
       "    <tr style=\"text-align: right;\">\n",
       "      <th></th>\n",
       "      <th>h</th>\n",
       "      <th>omega_m0</th>\n",
       "      <th>omega_b0</th>\n",
       "      <th>sigma_8</th>\n",
       "      <th>n_s</th>\n",
       "      <th>m_nu</th>\n",
       "      <th>w0</th>\n",
       "      <th>wa</th>\n",
       "    </tr>\n",
       "  </thead>\n",
       "  <tbody>\n",
       "    <tr>\n",
       "      <th>CMB</th>\n",
       "      <td>0.073655</td>\n",
       "      <td>0.069991</td>\n",
       "      <td>0.010777</td>\n",
       "      <td>0.065749</td>\n",
       "      <td>0.002029</td>\n",
       "      <td>0.138282</td>\n",
       "      <td>0.530434</td>\n",
       "      <td>1.490613</td>\n",
       "    </tr>\n",
       "    <tr>\n",
       "      <th>J-PAS ELG</th>\n",
       "      <td>0.020893</td>\n",
       "      <td>0.033775</td>\n",
       "      <td>0.008673</td>\n",
       "      <td>0.024416</td>\n",
       "      <td>0.042226</td>\n",
       "      <td>0.296189</td>\n",
       "      <td>0.149992</td>\n",
       "      <td>0.813091</td>\n",
       "    </tr>\n",
       "    <tr>\n",
       "      <th>J-PAS LRG</th>\n",
       "      <td>0.035128</td>\n",
       "      <td>0.046103</td>\n",
       "      <td>0.011897</td>\n",
       "      <td>0.039931</td>\n",
       "      <td>0.066377</td>\n",
       "      <td>0.425011</td>\n",
       "      <td>0.203446</td>\n",
       "      <td>1.094021</td>\n",
       "    </tr>\n",
       "    <tr>\n",
       "      <th>J-PAS QSO</th>\n",
       "      <td>0.019747</td>\n",
       "      <td>0.135437</td>\n",
       "      <td>0.028200</td>\n",
       "      <td>0.122710</td>\n",
       "      <td>0.115561</td>\n",
       "      <td>0.401308</td>\n",
       "      <td>1.141797</td>\n",
       "      <td>3.371027</td>\n",
       "    </tr>\n",
       "    <tr>\n",
       "      <th>PFS ELG</th>\n",
       "      <td>0.015854</td>\n",
       "      <td>0.034300</td>\n",
       "      <td>0.008423</td>\n",
       "      <td>0.045631</td>\n",
       "      <td>0.054860</td>\n",
       "      <td>0.610892</td>\n",
       "      <td>0.274993</td>\n",
       "      <td>1.065883</td>\n",
       "    </tr>\n",
       "    <tr>\n",
       "      <th>J-PAS Multitracer</th>\n",
       "      <td>0.010073</td>\n",
       "      <td>0.013725</td>\n",
       "      <td>0.003982</td>\n",
       "      <td>0.017888</td>\n",
       "      <td>0.018477</td>\n",
       "      <td>0.216495</td>\n",
       "      <td>0.102488</td>\n",
       "      <td>0.471822</td>\n",
       "    </tr>\n",
       "    <tr>\n",
       "      <th>J-PAS Multitracer + PFS ELG</th>\n",
       "      <td>0.007245</td>\n",
       "      <td>0.011423</td>\n",
       "      <td>0.003226</td>\n",
       "      <td>0.016097</td>\n",
       "      <td>0.014666</td>\n",
       "      <td>0.196301</td>\n",
       "      <td>0.091423</td>\n",
       "      <td>0.402913</td>\n",
       "    </tr>\n",
       "    <tr>\n",
       "      <th>DESI Multitracer</th>\n",
       "      <td>0.007199</td>\n",
       "      <td>0.009299</td>\n",
       "      <td>0.002619</td>\n",
       "      <td>0.015143</td>\n",
       "      <td>0.020303</td>\n",
       "      <td>0.225564</td>\n",
       "      <td>0.045846</td>\n",
       "      <td>0.268027</td>\n",
       "    </tr>\n",
       "    <tr>\n",
       "      <th>CMB + J-PAS Multitracer\\n+ PFS ELG</th>\n",
       "      <td>0.002692</td>\n",
       "      <td>0.002968</td>\n",
       "      <td>0.000415</td>\n",
       "      <td>0.005868</td>\n",
       "      <td>0.001693</td>\n",
       "      <td>0.053569</td>\n",
       "      <td>0.043537</td>\n",
       "      <td>0.170833</td>\n",
       "    </tr>\n",
       "    <tr>\n",
       "      <th>CMB + DESI Multitracer</th>\n",
       "      <td>0.002121</td>\n",
       "      <td>0.002266</td>\n",
       "      <td>0.000324</td>\n",
       "      <td>0.004784</td>\n",
       "      <td>0.001598</td>\n",
       "      <td>0.041546</td>\n",
       "      <td>0.028680</td>\n",
       "      <td>0.099501</td>\n",
       "    </tr>\n",
       "  </tbody>\n",
       "</table>\n",
       "</div>"
      ],
      "text/plain": [
       "                                           h  omega_m0  omega_b0   sigma_8  \\\n",
       "CMB                                 0.073655  0.069991  0.010777  0.065749   \n",
       "J-PAS ELG                           0.020893  0.033775  0.008673  0.024416   \n",
       "J-PAS LRG                           0.035128  0.046103  0.011897  0.039931   \n",
       "J-PAS QSO                           0.019747  0.135437  0.028200  0.122710   \n",
       "PFS ELG                             0.015854  0.034300  0.008423  0.045631   \n",
       "J-PAS Multitracer                   0.010073  0.013725  0.003982  0.017888   \n",
       "J-PAS Multitracer + PFS ELG         0.007245  0.011423  0.003226  0.016097   \n",
       "DESI Multitracer                    0.007199  0.009299  0.002619  0.015143   \n",
       "CMB + J-PAS Multitracer\\n+ PFS ELG  0.002692  0.002968  0.000415  0.005868   \n",
       "CMB + DESI Multitracer              0.002121  0.002266  0.000324  0.004784   \n",
       "\n",
       "                                         n_s      m_nu        w0        wa  \n",
       "CMB                                 0.002029  0.138282  0.530434  1.490613  \n",
       "J-PAS ELG                           0.042226  0.296189  0.149992  0.813091  \n",
       "J-PAS LRG                           0.066377  0.425011  0.203446  1.094021  \n",
       "J-PAS QSO                           0.115561  0.401308  1.141797  3.371027  \n",
       "PFS ELG                             0.054860  0.610892  0.274993  1.065883  \n",
       "J-PAS Multitracer                   0.018477  0.216495  0.102488  0.471822  \n",
       "J-PAS Multitracer + PFS ELG         0.014666  0.196301  0.091423  0.402913  \n",
       "DESI Multitracer                    0.020303  0.225564  0.045846  0.268027  \n",
       "CMB + J-PAS Multitracer\\n+ PFS ELG  0.001693  0.053569  0.043537  0.170833  \n",
       "CMB + DESI Multitracer              0.001598  0.041546  0.028680  0.099501  "
      ]
     },
     "execution_count": 13,
     "metadata": {},
     "output_type": "execute_result"
    }
   ],
   "source": [
    "labels=['CMB','J-PAS ELG','J-PAS LRG','J-PAS QSO','PFS ELG','J-PAS Multitracer','J-PAS Multitracer + PFS ELG','DESI Multitracer','CMB + J-PAS Multitracer\\n+ PFS ELG','CMB + DESI Multitracer']\n",
    "df_fixed=pd.DataFrame(err_fixed,index=labels,columns=names)\n",
    "df_fixed"
   ]
  },
  {
   "cell_type": "code",
   "execution_count": 14,
   "id": "d2ebcbff",
   "metadata": {},
   "outputs": [],
   "source": [
    "df_fixed.to_excel('./numbers/w0wacdm-fixed.xlsx')"
   ]
  },
  {
   "cell_type": "markdown",
   "id": "d72e123a",
   "metadata": {},
   "source": [
    "# $N_\\mathrm{eff}$ free"
   ]
  },
  {
   "cell_type": "code",
   "execution_count": 15,
   "id": "94146962",
   "metadata": {},
   "outputs": [],
   "source": [
    "CMB_free=var_filter(pd.read_excel('./CMB/all.xlsx',header=0,index_col=0),lcdm=False,neff_fixed=False)\n",
    "cmb_cov_free=pd.DataFrame(np.linalg.inv(CMB_free.values),index=CMB_free.index,columns=CMB_free.columns)\n",
    "cmb_cov_marg_free=cmb_cov_free.drop('tau',axis=0)\n",
    "cmb_cov_marg_free=cmb_cov_marg_free.drop('tau',axis=1)\n",
    "CMB_free=pd.DataFrame(np.linalg.inv(cmb_cov_marg_free.values),index=cmb_cov_marg_free.index,columns=cmb_cov_marg_free.columns)\n",
    "ELG_free=var_filter(pd.read_excel('./ELG/fisher.xlsx',header=0,index_col=0),lcdm=False,neff_fixed=False)\n",
    "LRG_free=var_filter(pd.read_excel('./LRG/fisher.xlsx',header=0,index_col=0),lcdm=False,neff_fixed=False)\n",
    "QSO_free=var_filter(pd.read_excel('./QSO/fisher.xlsx',header=0,index_col=0),lcdm=False,neff_fixed=False)\n",
    "PFS_free=var_filter(pd.read_excel('./PFS/fisher.xlsx',header=0,index_col=0),lcdm=False,neff_fixed=False)\n",
    "multitracer_free=var_filter(pd.read_excel('./jpas_all/valid.xlsx',header=0,index_col=0),lcdm=False,neff_fixed=False)\n",
    "survey_only_free=pd.read_excel('./combined/pelg+jmul-w0wacdm-free.xlsx',header=0,index_col=0)\n",
    "DESI_free=var_filter(pd.read_excel('./DESI_all/valid.xlsx',header=0,index_col=0),lcdm=False,neff_fixed=False)\n",
    "best_free=pd.read_excel('./combined/cmb+pelg+jmul-w0wacdm-free.xlsx',header=0,index_col=0)\n",
    "gold_free=pd.read_excel('./combined/cmb+dmul-w0wacdm-free.xlsx',header=0,index_col=0)"
   ]
  },
  {
   "cell_type": "code",
   "execution_count": 16,
   "id": "0cfb4ec4",
   "metadata": {},
   "outputs": [],
   "source": [
    "orders=[r'$h$',r'$\\Omega_\\mathrm{m,0}$',r'$\\Omega_\\mathrm{b,0}$',r'$\\sigma_8$',r'$n_\\mathrm{s}$',r'$\\sum m_\\nu\\;[\\mathrm{eV}]$',r'$N_\\mathrm{eff}$',r'$w_0$',r'$w_a$']\n",
    "names=['h','omega_m0','omega_b0','sigma_8','n_s','m_nu','N_eff','w0','wa']\n",
    "err_free=[]\n",
    "fishers_free=[CMB_free,ELG_free,LRG_free,QSO_free,PFS_free,multitracer_free,survey_only_free,DESI_free,best_free,gold_free]\n",
    "for f in fishers_free:\n",
    "    cov=pd.DataFrame(np.linalg.inv(f.values),index=f.index,columns=f.columns).iloc[:len(orders),:len(orders)]\n",
    "    e=[]\n",
    "    for i,index in enumerate(names):\n",
    "        e.append(np.sqrt(cov.loc[index,index]))\n",
    "    err_free.append(np.array(e))\n",
    "err_free=np.stack(err_free,axis=0)"
   ]
  },
  {
   "cell_type": "code",
   "execution_count": 17,
   "id": "9343bbc9",
   "metadata": {},
   "outputs": [
    {
     "data": {
      "application/vnd.microsoft.datawrangler.viewer.v0+json": {
       "columns": [
        {
         "name": "index",
         "rawType": "object",
         "type": "string"
        },
        {
         "name": "h",
         "rawType": "float64",
         "type": "float"
        },
        {
         "name": "omega_m0",
         "rawType": "float64",
         "type": "float"
        },
        {
         "name": "omega_b0",
         "rawType": "float64",
         "type": "float"
        },
        {
         "name": "sigma_8",
         "rawType": "float64",
         "type": "float"
        },
        {
         "name": "n_s",
         "rawType": "float64",
         "type": "float"
        },
        {
         "name": "m_nu",
         "rawType": "float64",
         "type": "float"
        },
        {
         "name": "N_eff",
         "rawType": "float64",
         "type": "float"
        },
        {
         "name": "w0",
         "rawType": "float64",
         "type": "float"
        },
        {
         "name": "wa",
         "rawType": "float64",
         "type": "float"
        }
       ],
       "conversionMethod": "pd.DataFrame",
       "ref": "d30bbc52-8211-4e04-a205-db81bed9f4ef",
       "rows": [
        [
         "CMB",
         "0.07571301122477955",
         "0.07213909170688544",
         "0.011099588808167355",
         "0.0666099868219472",
         "0.0034534546723879785",
         "0.149719170102489",
         "0.052866981731732106",
         "0.5304342313068267",
         "1.5256409451310835"
        ],
        [
         "J-PAS ELG",
         "0.0255907102938979",
         "0.03555817475168118",
         "0.008838409783981312",
         "0.041078673423945083",
         "0.04300539388699116",
         "0.4528806748287061",
         "0.7967627098501188",
         "0.15942091445831397",
         "0.8379117922037898"
        ],
        [
         "J-PAS LRG",
         "0.039352030121759654",
         "0.05264707360822153",
         "0.012963619543753656",
         "0.053527685856307405",
         "0.07285533126880217",
         "0.6030527268235693",
         "1.191640260834972",
         "0.23494713827146363",
         "1.1552778053966952"
        ],
        [
         "J-PAS QSO",
         "0.050988647766487545",
         "0.13604637969964115",
         "0.028274265082802678",
         "0.14126378950083335",
         "0.12475250927404255",
         "0.7521267582004555",
         "2.4120895415459964",
         "1.1429027877074016",
         "3.3842776661074576"
        ],
        [
         "PFS ELG",
         "0.046681961325305985",
         "0.0520525987058685",
         "0.011234446372484433",
         "0.10781307764357642",
         "0.11033943650286712",
         "0.8182864002037906",
         "2.542315733457277",
         "0.37219427509564906",
         "1.3424961445519876"
        ],
        [
         "J-PAS Multitracer",
         "0.01584259403649389",
         "0.014519527424916448",
         "0.004079155934134871",
         "0.028619707816390047",
         "0.01898960529522254",
         "0.310033937097224",
         "0.6148876152722003",
         "0.10471828223912981",
         "0.47301294431852636"
        ],
        [
         "J-PAS Multitracer + PFS ELG",
         "0.012694884511799067",
         "0.012804264738281867",
         "0.0033966630885871475",
         "0.02674468828731084",
         "0.015955340961895204",
         "0.28379897357115186",
         "0.5563287104966269",
         "0.09423086893578739",
         "0.40815321635445767"
        ],
        [
         "DESI Multitracer",
         "0.011568278562135147",
         "0.014836759741196581",
         "0.0035729764623534405",
         "0.02823243751013086",
         "0.032771705124711434",
         "0.2763335484068368",
         "0.668068362420891",
         "0.07312219136506513",
         "0.36224140525310117"
        ],
        [
         "CMB + J-PAS Multitracer\n+ PFS ELG",
         "0.0028430993791853827",
         "0.0031021188422871394",
         "0.00041896370686821935",
         "0.005867537946499918",
         "0.002286714608066862",
         "0.05443027283787847",
         "0.03584095304251467",
         "0.04558800484014713",
         "0.17733154542528784"
        ],
        [
         "CMB + DESI Multitracer",
         "0.0022657524301580964",
         "0.002699456497917265",
         "0.0003280271439022068",
         "0.004811715980922904",
         "0.0020637990361122324",
         "0.04553959152843073",
         "0.03475104578580344",
         "0.029848034393801477",
         "0.10896977177303549"
        ]
       ],
       "shape": {
        "columns": 9,
        "rows": 10
       }
      },
      "text/html": [
       "<div>\n",
       "<style scoped>\n",
       "    .dataframe tbody tr th:only-of-type {\n",
       "        vertical-align: middle;\n",
       "    }\n",
       "\n",
       "    .dataframe tbody tr th {\n",
       "        vertical-align: top;\n",
       "    }\n",
       "\n",
       "    .dataframe thead th {\n",
       "        text-align: right;\n",
       "    }\n",
       "</style>\n",
       "<table border=\"1\" class=\"dataframe\">\n",
       "  <thead>\n",
       "    <tr style=\"text-align: right;\">\n",
       "      <th></th>\n",
       "      <th>h</th>\n",
       "      <th>omega_m0</th>\n",
       "      <th>omega_b0</th>\n",
       "      <th>sigma_8</th>\n",
       "      <th>n_s</th>\n",
       "      <th>m_nu</th>\n",
       "      <th>N_eff</th>\n",
       "      <th>w0</th>\n",
       "      <th>wa</th>\n",
       "    </tr>\n",
       "  </thead>\n",
       "  <tbody>\n",
       "    <tr>\n",
       "      <th>CMB</th>\n",
       "      <td>0.075713</td>\n",
       "      <td>0.072139</td>\n",
       "      <td>0.011100</td>\n",
       "      <td>0.066610</td>\n",
       "      <td>0.003453</td>\n",
       "      <td>0.149719</td>\n",
       "      <td>0.052867</td>\n",
       "      <td>0.530434</td>\n",
       "      <td>1.525641</td>\n",
       "    </tr>\n",
       "    <tr>\n",
       "      <th>J-PAS ELG</th>\n",
       "      <td>0.025591</td>\n",
       "      <td>0.035558</td>\n",
       "      <td>0.008838</td>\n",
       "      <td>0.041079</td>\n",
       "      <td>0.043005</td>\n",
       "      <td>0.452881</td>\n",
       "      <td>0.796763</td>\n",
       "      <td>0.159421</td>\n",
       "      <td>0.837912</td>\n",
       "    </tr>\n",
       "    <tr>\n",
       "      <th>J-PAS LRG</th>\n",
       "      <td>0.039352</td>\n",
       "      <td>0.052647</td>\n",
       "      <td>0.012964</td>\n",
       "      <td>0.053528</td>\n",
       "      <td>0.072855</td>\n",
       "      <td>0.603053</td>\n",
       "      <td>1.191640</td>\n",
       "      <td>0.234947</td>\n",
       "      <td>1.155278</td>\n",
       "    </tr>\n",
       "    <tr>\n",
       "      <th>J-PAS QSO</th>\n",
       "      <td>0.050989</td>\n",
       "      <td>0.136046</td>\n",
       "      <td>0.028274</td>\n",
       "      <td>0.141264</td>\n",
       "      <td>0.124753</td>\n",
       "      <td>0.752127</td>\n",
       "      <td>2.412090</td>\n",
       "      <td>1.142903</td>\n",
       "      <td>3.384278</td>\n",
       "    </tr>\n",
       "    <tr>\n",
       "      <th>PFS ELG</th>\n",
       "      <td>0.046682</td>\n",
       "      <td>0.052053</td>\n",
       "      <td>0.011234</td>\n",
       "      <td>0.107813</td>\n",
       "      <td>0.110339</td>\n",
       "      <td>0.818286</td>\n",
       "      <td>2.542316</td>\n",
       "      <td>0.372194</td>\n",
       "      <td>1.342496</td>\n",
       "    </tr>\n",
       "    <tr>\n",
       "      <th>J-PAS Multitracer</th>\n",
       "      <td>0.015843</td>\n",
       "      <td>0.014520</td>\n",
       "      <td>0.004079</td>\n",
       "      <td>0.028620</td>\n",
       "      <td>0.018990</td>\n",
       "      <td>0.310034</td>\n",
       "      <td>0.614888</td>\n",
       "      <td>0.104718</td>\n",
       "      <td>0.473013</td>\n",
       "    </tr>\n",
       "    <tr>\n",
       "      <th>J-PAS Multitracer + PFS ELG</th>\n",
       "      <td>0.012695</td>\n",
       "      <td>0.012804</td>\n",
       "      <td>0.003397</td>\n",
       "      <td>0.026745</td>\n",
       "      <td>0.015955</td>\n",
       "      <td>0.283799</td>\n",
       "      <td>0.556329</td>\n",
       "      <td>0.094231</td>\n",
       "      <td>0.408153</td>\n",
       "    </tr>\n",
       "    <tr>\n",
       "      <th>DESI Multitracer</th>\n",
       "      <td>0.011568</td>\n",
       "      <td>0.014837</td>\n",
       "      <td>0.003573</td>\n",
       "      <td>0.028232</td>\n",
       "      <td>0.032772</td>\n",
       "      <td>0.276334</td>\n",
       "      <td>0.668068</td>\n",
       "      <td>0.073122</td>\n",
       "      <td>0.362241</td>\n",
       "    </tr>\n",
       "    <tr>\n",
       "      <th>CMB + J-PAS Multitracer\\n+ PFS ELG</th>\n",
       "      <td>0.002843</td>\n",
       "      <td>0.003102</td>\n",
       "      <td>0.000419</td>\n",
       "      <td>0.005868</td>\n",
       "      <td>0.002287</td>\n",
       "      <td>0.054430</td>\n",
       "      <td>0.035841</td>\n",
       "      <td>0.045588</td>\n",
       "      <td>0.177332</td>\n",
       "    </tr>\n",
       "    <tr>\n",
       "      <th>CMB + DESI Multitracer</th>\n",
       "      <td>0.002266</td>\n",
       "      <td>0.002699</td>\n",
       "      <td>0.000328</td>\n",
       "      <td>0.004812</td>\n",
       "      <td>0.002064</td>\n",
       "      <td>0.045540</td>\n",
       "      <td>0.034751</td>\n",
       "      <td>0.029848</td>\n",
       "      <td>0.108970</td>\n",
       "    </tr>\n",
       "  </tbody>\n",
       "</table>\n",
       "</div>"
      ],
      "text/plain": [
       "                                           h  omega_m0  omega_b0   sigma_8  \\\n",
       "CMB                                 0.075713  0.072139  0.011100  0.066610   \n",
       "J-PAS ELG                           0.025591  0.035558  0.008838  0.041079   \n",
       "J-PAS LRG                           0.039352  0.052647  0.012964  0.053528   \n",
       "J-PAS QSO                           0.050989  0.136046  0.028274  0.141264   \n",
       "PFS ELG                             0.046682  0.052053  0.011234  0.107813   \n",
       "J-PAS Multitracer                   0.015843  0.014520  0.004079  0.028620   \n",
       "J-PAS Multitracer + PFS ELG         0.012695  0.012804  0.003397  0.026745   \n",
       "DESI Multitracer                    0.011568  0.014837  0.003573  0.028232   \n",
       "CMB + J-PAS Multitracer\\n+ PFS ELG  0.002843  0.003102  0.000419  0.005868   \n",
       "CMB + DESI Multitracer              0.002266  0.002699  0.000328  0.004812   \n",
       "\n",
       "                                         n_s      m_nu     N_eff        w0  \\\n",
       "CMB                                 0.003453  0.149719  0.052867  0.530434   \n",
       "J-PAS ELG                           0.043005  0.452881  0.796763  0.159421   \n",
       "J-PAS LRG                           0.072855  0.603053  1.191640  0.234947   \n",
       "J-PAS QSO                           0.124753  0.752127  2.412090  1.142903   \n",
       "PFS ELG                             0.110339  0.818286  2.542316  0.372194   \n",
       "J-PAS Multitracer                   0.018990  0.310034  0.614888  0.104718   \n",
       "J-PAS Multitracer + PFS ELG         0.015955  0.283799  0.556329  0.094231   \n",
       "DESI Multitracer                    0.032772  0.276334  0.668068  0.073122   \n",
       "CMB + J-PAS Multitracer\\n+ PFS ELG  0.002287  0.054430  0.035841  0.045588   \n",
       "CMB + DESI Multitracer              0.002064  0.045540  0.034751  0.029848   \n",
       "\n",
       "                                          wa  \n",
       "CMB                                 1.525641  \n",
       "J-PAS ELG                           0.837912  \n",
       "J-PAS LRG                           1.155278  \n",
       "J-PAS QSO                           3.384278  \n",
       "PFS ELG                             1.342496  \n",
       "J-PAS Multitracer                   0.473013  \n",
       "J-PAS Multitracer + PFS ELG         0.408153  \n",
       "DESI Multitracer                    0.362241  \n",
       "CMB + J-PAS Multitracer\\n+ PFS ELG  0.177332  \n",
       "CMB + DESI Multitracer              0.108970  "
      ]
     },
     "execution_count": 17,
     "metadata": {},
     "output_type": "execute_result"
    }
   ],
   "source": [
    "labels=['CMB','J-PAS ELG','J-PAS LRG','J-PAS QSO','PFS ELG','J-PAS Multitracer','J-PAS Multitracer + PFS ELG','DESI Multitracer','CMB + J-PAS Multitracer\\n+ PFS ELG','CMB + DESI Multitracer']\n",
    "df_free=pd.DataFrame(err_free,index=labels,columns=names)\n",
    "df_free"
   ]
  },
  {
   "cell_type": "code",
   "execution_count": 18,
   "id": "9b4c94d1",
   "metadata": {},
   "outputs": [],
   "source": [
    "df_free.to_excel('./numbers/w0wacdm-free.xlsx')"
   ]
  },
  {
   "cell_type": "markdown",
   "id": "46974420",
   "metadata": {},
   "source": [
    "# J-PAS ELG vs. multitracer"
   ]
  },
  {
   "cell_type": "code",
   "execution_count": 3,
   "id": "88524d06",
   "metadata": {},
   "outputs": [],
   "source": [
    "data=pd.read_excel('./numbers/lcdm-free.xlsx',header=0,index_col=0)"
   ]
  },
  {
   "cell_type": "code",
   "execution_count": 4,
   "id": "117757b9",
   "metadata": {},
   "outputs": [
    {
     "data": {
      "text/plain": [
       "h           0.019821\n",
       "omega_m0    0.015171\n",
       "omega_b0    0.005720\n",
       "sigma_8     0.034881\n",
       "n_s         0.026375\n",
       "m_nu        0.413169\n",
       "N_eff       0.744878\n",
       "Name: J-PAS ELG, dtype: float64"
      ]
     },
     "execution_count": 4,
     "metadata": {},
     "output_type": "execute_result"
    }
   ],
   "source": [
    "data.loc['J-PAS ELG']"
   ]
  },
  {
   "cell_type": "code",
   "execution_count": 5,
   "id": "6ff11fbc",
   "metadata": {},
   "outputs": [
    {
     "data": {
      "text/plain": [
       "h           0.012765\n",
       "omega_m0    0.008393\n",
       "omega_b0    0.003400\n",
       "sigma_8     0.025124\n",
       "n_s         0.016086\n",
       "m_nu        0.297057\n",
       "N_eff       0.585492\n",
       "Name: J-PAS Multitracer, dtype: float64"
      ]
     },
     "execution_count": 5,
     "metadata": {},
     "output_type": "execute_result"
    }
   ],
   "source": [
    "data.loc['J-PAS Multitracer']"
   ]
  },
  {
   "cell_type": "code",
   "execution_count": 6,
   "id": "f97dfe70",
   "metadata": {},
   "outputs": [
    {
     "data": {
      "text/plain": [
       "h           1.552786\n",
       "omega_m0    1.807570\n",
       "omega_b0    1.682656\n",
       "sigma_8     1.388355\n",
       "n_s         1.639650\n",
       "m_nu        1.390874\n",
       "N_eff       1.272226\n",
       "dtype: float64"
      ]
     },
     "execution_count": 6,
     "metadata": {},
     "output_type": "execute_result"
    }
   ],
   "source": [
    "data.loc['J-PAS ELG']/data.loc['J-PAS Multitracer']"
   ]
  },
  {
   "cell_type": "code",
   "execution_count": 7,
   "id": "69c2cee3",
   "metadata": {},
   "outputs": [],
   "source": [
    "data=pd.read_excel('./numbers/w0wacdm-free.xlsx',header=0,index_col=0)"
   ]
  },
  {
   "cell_type": "code",
   "execution_count": 8,
   "id": "f647c9c7",
   "metadata": {},
   "outputs": [
    {
     "data": {
      "text/plain": [
       "h           0.025591\n",
       "omega_m0    0.035558\n",
       "omega_b0    0.008838\n",
       "sigma_8     0.041079\n",
       "n_s         0.043005\n",
       "m_nu        0.452881\n",
       "N_eff       0.796763\n",
       "w0          0.159421\n",
       "wa          0.837912\n",
       "Name: J-PAS ELG, dtype: float64"
      ]
     },
     "execution_count": 8,
     "metadata": {},
     "output_type": "execute_result"
    }
   ],
   "source": [
    "data.loc['J-PAS ELG']"
   ]
  },
  {
   "cell_type": "code",
   "execution_count": 9,
   "id": "7927d9df",
   "metadata": {},
   "outputs": [
    {
     "data": {
      "text/plain": [
       "h           0.015843\n",
       "omega_m0    0.014520\n",
       "omega_b0    0.004079\n",
       "sigma_8     0.028620\n",
       "n_s         0.018990\n",
       "m_nu        0.310034\n",
       "N_eff       0.614888\n",
       "w0          0.104718\n",
       "wa          0.473013\n",
       "Name: J-PAS Multitracer, dtype: float64"
      ]
     },
     "execution_count": 9,
     "metadata": {},
     "output_type": "execute_result"
    }
   ],
   "source": [
    "data.loc['J-PAS Multitracer']"
   ]
  },
  {
   "cell_type": "code",
   "execution_count": 10,
   "id": "5574fc41",
   "metadata": {},
   "outputs": [
    {
     "data": {
      "text/plain": [
       "h           1.615311\n",
       "omega_m0    2.448990\n",
       "omega_b0    2.166725\n",
       "sigma_8     1.435328\n",
       "n_s         2.264681\n",
       "m_nu        1.460745\n",
       "N_eff       1.295786\n",
       "w0          1.522379\n",
       "wa          1.771435\n",
       "dtype: float64"
      ]
     },
     "execution_count": 10,
     "metadata": {},
     "output_type": "execute_result"
    }
   ],
   "source": [
    "data.loc['J-PAS ELG']/data.loc['J-PAS Multitracer']"
   ]
  },
  {
   "cell_type": "markdown",
   "id": "0128f7f4",
   "metadata": {},
   "source": [
    "# J-PAS ELG + PFS ELG"
   ]
  },
  {
   "cell_type": "code",
   "execution_count": 3,
   "id": "7487a396",
   "metadata": {},
   "outputs": [],
   "source": [
    "data=pd.read_excel('./numbers/lcdm-fixed.xlsx',header=0,index_col=0)"
   ]
  },
  {
   "cell_type": "code",
   "execution_count": 4,
   "id": "2372bdc5",
   "metadata": {},
   "outputs": [
    {
     "data": {
      "text/plain": [
       "h           0.013176\n",
       "omega_m0    0.014649\n",
       "m_nu        0.268775\n",
       "Name: J-PAS ELG, dtype: float64"
      ]
     },
     "execution_count": 4,
     "metadata": {},
     "output_type": "execute_result"
    }
   ],
   "source": [
    "data.loc['J-PAS ELG',['h','omega_m0','m_nu']]"
   ]
  },
  {
   "cell_type": "code",
   "execution_count": 5,
   "id": "746cd34b",
   "metadata": {},
   "outputs": [
    {
     "data": {
      "text/plain": [
       "h           0.015160\n",
       "omega_m0    0.013098\n",
       "m_nu        0.552865\n",
       "Name: PFS ELG, dtype: float64"
      ]
     },
     "execution_count": 5,
     "metadata": {},
     "output_type": "execute_result"
    }
   ],
   "source": [
    "data.loc['PFS ELG',['h','omega_m0','m_nu']]"
   ]
  },
  {
   "cell_type": "code",
   "execution_count": 6,
   "id": "56f4fdce",
   "metadata": {},
   "outputs": [],
   "source": [
    "JPAS_ELG=var_filter(pd.read_excel('../data/ELG/fisher.xlsx',header=0,index_col=0),lcdm=True,neff_fixed=True)\n",
    "PFS_ELG=var_filter(pd.read_excel('../data/PFS/fisher.xlsx',header=0,index_col=0),lcdm=True,neff_fixed=True)"
   ]
  },
  {
   "cell_type": "code",
   "execution_count": 7,
   "id": "04d39607",
   "metadata": {},
   "outputs": [],
   "source": [
    "cov=pd.DataFrame(np.linalg.inv(JPAS_ELG.values),index=JPAS_ELG.index,columns=JPAS_ELG.columns)\n",
    "JPAS_ELG_marg=np.linalg.inv(cov.iloc[:6,:6].values)"
   ]
  },
  {
   "cell_type": "code",
   "execution_count": 8,
   "id": "d52d4bed",
   "metadata": {},
   "outputs": [],
   "source": [
    "cov=pd.DataFrame(np.linalg.inv(PFS_ELG.values),index=PFS_ELG.index,columns=PFS_ELG.columns)\n",
    "PFS_ELG_marg=np.linalg.inv(cov.iloc[:6,:6].values)"
   ]
  },
  {
   "cell_type": "code",
   "execution_count": 9,
   "id": "ceff28e8",
   "metadata": {},
   "outputs": [
    {
     "name": "stdout",
     "output_type": "stream",
     "text": [
      "0.008008537284050082\n",
      "0.006584988182770655\n",
      "0.2214620010489624\n"
     ]
    }
   ],
   "source": [
    "var_name=['omega_m0','omega_b0','h','n_s','sigma_8','m_nu']\n",
    "cov_combined=pd.DataFrame(np.linalg.inv(JPAS_ELG_marg+PFS_ELG_marg),index=var_name,columns=var_name)\n",
    "err=[]\n",
    "for v in ['h','omega_m0','m_nu']:\n",
    "    e=np.sqrt(cov_combined.loc[v,v])\n",
    "    err.append(e)\n",
    "    print(e)"
   ]
  },
  {
   "cell_type": "code",
   "execution_count": 10,
   "id": "1db24771",
   "metadata": {},
   "outputs": [
    {
     "data": {
      "text/plain": [
       "h           1.645207\n",
       "omega_m0    2.224661\n",
       "m_nu        1.213640\n",
       "Name: J-PAS ELG, dtype: float64"
      ]
     },
     "execution_count": 10,
     "metadata": {},
     "output_type": "execute_result"
    }
   ],
   "source": [
    "data.loc['J-PAS ELG',['h','omega_m0','m_nu']]/np.array(err)"
   ]
  },
  {
   "cell_type": "code",
   "execution_count": 11,
   "id": "0fbb9dd5",
   "metadata": {},
   "outputs": [
    {
     "data": {
      "text/plain": [
       "h           1.893042\n",
       "omega_m0    1.989112\n",
       "m_nu        2.496432\n",
       "Name: PFS ELG, dtype: float64"
      ]
     },
     "execution_count": 11,
     "metadata": {},
     "output_type": "execute_result"
    }
   ],
   "source": [
    "data.loc['PFS ELG',['h','omega_m0','m_nu']]/np.array(err)"
   ]
  },
  {
   "cell_type": "code",
   "execution_count": 12,
   "id": "73920046",
   "metadata": {},
   "outputs": [],
   "source": [
    "data=pd.read_excel('./numbers/w0wacdm-fixed.xlsx',header=0,index_col=0)"
   ]
  },
  {
   "cell_type": "code",
   "execution_count": 13,
   "id": "b7ddda72",
   "metadata": {},
   "outputs": [
    {
     "data": {
      "text/plain": [
       "m_nu    0.296189\n",
       "w0      0.149992\n",
       "wa      0.813091\n",
       "Name: J-PAS ELG, dtype: float64"
      ]
     },
     "execution_count": 13,
     "metadata": {},
     "output_type": "execute_result"
    }
   ],
   "source": [
    "data.loc['J-PAS ELG',['m_nu','w0','wa']]"
   ]
  },
  {
   "cell_type": "code",
   "execution_count": 14,
   "id": "17ef0334",
   "metadata": {},
   "outputs": [
    {
     "data": {
      "text/plain": [
       "m_nu    0.610892\n",
       "w0      0.274993\n",
       "wa      1.065883\n",
       "Name: PFS ELG, dtype: float64"
      ]
     },
     "execution_count": 14,
     "metadata": {},
     "output_type": "execute_result"
    }
   ],
   "source": [
    "data.loc['PFS ELG',['m_nu','w0','wa']]"
   ]
  },
  {
   "cell_type": "code",
   "execution_count": 15,
   "id": "7bbe8725",
   "metadata": {},
   "outputs": [],
   "source": [
    "JPAS_ELG=var_filter(pd.read_excel('../data/ELG/fisher.xlsx',header=0,index_col=0),lcdm=False,neff_fixed=True)\n",
    "PFS_ELG=var_filter(pd.read_excel('../data/PFS/fisher.xlsx',header=0,index_col=0),lcdm=False,neff_fixed=True)"
   ]
  },
  {
   "cell_type": "code",
   "execution_count": 16,
   "id": "133ee5c1",
   "metadata": {},
   "outputs": [],
   "source": [
    "cov=pd.DataFrame(np.linalg.inv(JPAS_ELG.values),index=JPAS_ELG.index,columns=JPAS_ELG.columns)\n",
    "JPAS_ELG_marg=np.linalg.inv(cov.iloc[:8,:8].values)"
   ]
  },
  {
   "cell_type": "code",
   "execution_count": 17,
   "id": "f6b378bc",
   "metadata": {},
   "outputs": [],
   "source": [
    "cov=pd.DataFrame(np.linalg.inv(PFS_ELG.values),index=PFS_ELG.index,columns=PFS_ELG.columns)\n",
    "PFS_ELG_marg=np.linalg.inv(cov.iloc[:8,:8].values)"
   ]
  },
  {
   "cell_type": "code",
   "execution_count": 18,
   "id": "01a3bbcd",
   "metadata": {},
   "outputs": [
    {
     "name": "stdout",
     "output_type": "stream",
     "text": [
      "0.24347436535060915\n",
      "0.12441459685693546\n",
      "0.5266346230503626\n"
     ]
    }
   ],
   "source": [
    "var_name=['omega_m0','omega_b0','h','n_s','sigma_8','m_nu','w0','wa']\n",
    "cov_combined=pd.DataFrame(np.linalg.inv(JPAS_ELG_marg+PFS_ELG_marg),index=var_name,columns=var_name)\n",
    "err=[]\n",
    "for v in ['m_nu','w0','wa']:\n",
    "    e=np.sqrt(cov_combined.loc[v,v])\n",
    "    err.append(e)\n",
    "    print(e)"
   ]
  },
  {
   "cell_type": "code",
   "execution_count": 19,
   "id": "8d164c7d",
   "metadata": {},
   "outputs": [
    {
     "data": {
      "text/plain": [
       "m_nu    1.216510\n",
       "w0      1.205580\n",
       "wa      1.543937\n",
       "Name: J-PAS ELG, dtype: float64"
      ]
     },
     "execution_count": 19,
     "metadata": {},
     "output_type": "execute_result"
    }
   ],
   "source": [
    "data.loc['J-PAS ELG',['m_nu','w0','wa']]/np.array(err)"
   ]
  },
  {
   "cell_type": "code",
   "execution_count": 20,
   "id": "e972f10c",
   "metadata": {},
   "outputs": [
    {
     "data": {
      "text/plain": [
       "m_nu    2.509061\n",
       "w0      2.210294\n",
       "wa      2.023951\n",
       "Name: PFS ELG, dtype: float64"
      ]
     },
     "execution_count": 20,
     "metadata": {},
     "output_type": "execute_result"
    }
   ],
   "source": [
    "data.loc['PFS ELG',['m_nu','w0','wa']]/np.array(err)"
   ]
  },
  {
   "cell_type": "markdown",
   "id": "564e7718",
   "metadata": {},
   "source": [
    "# CMB + J-PAS Multitracer + PFS ELG vs. CMB"
   ]
  },
  {
   "cell_type": "code",
   "execution_count": 21,
   "id": "7609308e",
   "metadata": {},
   "outputs": [],
   "source": [
    "data=pd.read_excel('./numbers/lcdm-free.xlsx',header=0,index_col=0)"
   ]
  },
  {
   "cell_type": "code",
   "execution_count": 22,
   "id": "fa2839e0",
   "metadata": {},
   "outputs": [
    {
     "data": {
      "text/plain": [
       "h           0.007827\n",
       "omega_m0    0.009393\n",
       "omega_b0    0.001096\n",
       "sigma_8     0.011036\n",
       "n_s         0.003295\n",
       "m_nu        0.052013\n",
       "N_eff       0.048054\n",
       "Name: CMB, dtype: float64"
      ]
     },
     "execution_count": 22,
     "metadata": {},
     "output_type": "execute_result"
    }
   ],
   "source": [
    "data.loc['CMB']"
   ]
  },
  {
   "cell_type": "code",
   "execution_count": 27,
   "id": "c729e36f",
   "metadata": {},
   "outputs": [
    {
     "data": {
      "text/plain": [
       "h           0.002122\n",
       "omega_m0    0.002101\n",
       "omega_b0    0.000283\n",
       "sigma_8     0.003986\n",
       "n_s         0.002068\n",
       "m_nu        0.017326\n",
       "N_eff       0.034214\n",
       "Name: CMB + J-PAS Multitracer\\n+ PFS ELG, dtype: float64"
      ]
     },
     "execution_count": 27,
     "metadata": {},
     "output_type": "execute_result"
    }
   ],
   "source": [
    "data.loc['CMB + J-PAS Multitracer\\n+ PFS ELG']"
   ]
  },
  {
   "cell_type": "code",
   "execution_count": 29,
   "id": "c20281e9",
   "metadata": {},
   "outputs": [
    {
     "data": {
      "text/plain": [
       "h           3.688795\n",
       "omega_m0    4.471018\n",
       "omega_b0    3.869598\n",
       "sigma_8     2.768604\n",
       "n_s         1.593485\n",
       "m_nu        3.002084\n",
       "N_eff       1.404541\n",
       "dtype: float64"
      ]
     },
     "execution_count": 29,
     "metadata": {},
     "output_type": "execute_result"
    }
   ],
   "source": [
    "data.loc['CMB']/data.loc['CMB + J-PAS Multitracer\\n+ PFS ELG']"
   ]
  },
  {
   "cell_type": "code",
   "execution_count": 30,
   "id": "b696a413",
   "metadata": {},
   "outputs": [],
   "source": [
    "data=pd.read_excel('./numbers/w0wacdm-free.xlsx',header=0,index_col=0)"
   ]
  },
  {
   "cell_type": "code",
   "execution_count": 31,
   "id": "a2aa64d6",
   "metadata": {},
   "outputs": [
    {
     "data": {
      "text/plain": [
       "h           0.075713\n",
       "omega_m0    0.072139\n",
       "omega_b0    0.011100\n",
       "sigma_8     0.066610\n",
       "n_s         0.003453\n",
       "m_nu        0.149719\n",
       "N_eff       0.052867\n",
       "w0          0.530434\n",
       "wa          1.525641\n",
       "Name: CMB, dtype: float64"
      ]
     },
     "execution_count": 31,
     "metadata": {},
     "output_type": "execute_result"
    }
   ],
   "source": [
    "data.loc['CMB']"
   ]
  },
  {
   "cell_type": "code",
   "execution_count": 32,
   "id": "1eae25d3",
   "metadata": {},
   "outputs": [
    {
     "data": {
      "text/plain": [
       "h           0.002843\n",
       "omega_m0    0.003102\n",
       "omega_b0    0.000419\n",
       "sigma_8     0.005868\n",
       "n_s         0.002287\n",
       "m_nu        0.054430\n",
       "N_eff       0.035841\n",
       "w0          0.045588\n",
       "wa          0.177332\n",
       "Name: CMB + J-PAS Multitracer\\n+ PFS ELG, dtype: float64"
      ]
     },
     "execution_count": 32,
     "metadata": {},
     "output_type": "execute_result"
    }
   ],
   "source": [
    "data.loc['CMB + J-PAS Multitracer\\n+ PFS ELG']"
   ]
  },
  {
   "cell_type": "code",
   "execution_count": 33,
   "id": "96a74ae3",
   "metadata": {},
   "outputs": [
    {
     "data": {
      "text/plain": [
       "h           26.630448\n",
       "omega_m0    23.254780\n",
       "omega_b0    26.492960\n",
       "sigma_8     11.352289\n",
       "n_s          1.510225\n",
       "m_nu         2.750660\n",
       "N_eff        1.475044\n",
       "w0          11.635390\n",
       "wa           8.603325\n",
       "dtype: float64"
      ]
     },
     "execution_count": 33,
     "metadata": {},
     "output_type": "execute_result"
    }
   ],
   "source": [
    "data.loc['CMB']/data.loc['CMB + J-PAS Multitracer\\n+ PFS ELG']"
   ]
  }
 ],
 "metadata": {
  "kernelspec": {
   "display_name": "base",
   "language": "python",
   "name": "python3"
  },
  "language_info": {
   "codemirror_mode": {
    "name": "ipython",
    "version": 3
   },
   "file_extension": ".py",
   "mimetype": "text/x-python",
   "name": "python",
   "nbconvert_exporter": "python",
   "pygments_lexer": "ipython3",
   "version": "3.12.3"
  }
 },
 "nbformat": 4,
 "nbformat_minor": 5
}
