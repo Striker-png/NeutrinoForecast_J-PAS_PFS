{
 "cells": [
  {
   "cell_type": "code",
   "execution_count": 1,
   "metadata": {},
   "outputs": [],
   "source": [
    "import sympy as sp"
   ]
  },
  {
   "cell_type": "code",
   "execution_count": 2,
   "metadata": {},
   "outputs": [
    {
     "data": {
      "text/latex": [
       "$\\displaystyle \\left[\\begin{matrix}k_{1}^{2} P{\\left(\\theta_{i},\\theta_{j} \\right)} + \\frac{1}{n_{1}} & k_{1} k_{2} P{\\left(\\theta_{i},\\theta_{j} \\right)}\\\\k_{1} k_{2} P{\\left(\\theta_{i},\\theta_{j} \\right)} & k_{2}^{2} P{\\left(\\theta_{i},\\theta_{j} \\right)} + \\frac{1}{n_{2}}\\end{matrix}\\right]$"
      ],
      "text/plain": [
       "Matrix([\n",
       "[k1**2*P(\\theta_i, \\theta_j) + 1/n1,        k1*k2*P(\\theta_i, \\theta_j)],\n",
       "[       k1*k2*P(\\theta_i, \\theta_j), k2**2*P(\\theta_i, \\theta_j) + 1/n2]])"
      ]
     },
     "execution_count": 2,
     "metadata": {},
     "output_type": "execute_result"
    }
   ],
   "source": [
    "thetai,thetaj=sp.symbols(r'\\theta_i,\\theta_j')\n",
    "k1,k2=sp.symbols('k1,k2')\n",
    "P=sp.Function('P')(thetai,thetaj)\n",
    "n1,n2=sp.symbols('n1,n2')\n",
    "c=sp.Matrix([[k1**2*P+1/n1,k1*k2*P],[k1*k2*P,k2**2*P+1/n2]])\n",
    "c"
   ]
  },
  {
   "cell_type": "code",
   "execution_count": 3,
   "metadata": {},
   "outputs": [
    {
     "data": {
      "text/latex": [
       "$\\displaystyle \\left[\\begin{matrix}- \\frac{k_{1} k_{2} n_{1} n_{2} \\left(k_{1} k_{2} \\left(- \\frac{k_{1}^{2} k_{2}^{2} n_{1} n_{2} P{\\left(\\theta_{i},\\theta_{j} \\right)} \\frac{\\partial}{\\partial \\theta_{i}} P{\\left(\\theta_{i},\\theta_{j} \\right)}}{k_{1}^{2} n_{1} P{\\left(\\theta_{i},\\theta_{j} \\right)} + k_{2}^{2} n_{2} P{\\left(\\theta_{i},\\theta_{j} \\right)} + 1} + \\frac{k_{1}^{2} \\left(k_{2}^{2} n_{1} n_{2} P{\\left(\\theta_{i},\\theta_{j} \\right)} + n_{1}\\right) \\frac{\\partial}{\\partial \\theta_{i}} P{\\left(\\theta_{i},\\theta_{j} \\right)}}{k_{1}^{2} n_{1} P{\\left(\\theta_{i},\\theta_{j} \\right)} + k_{2}^{2} n_{2} P{\\left(\\theta_{i},\\theta_{j} \\right)} + 1}\\right) \\frac{\\partial}{\\partial \\theta_{j}} P{\\left(\\theta_{i},\\theta_{j} \\right)} + k_{2}^{2} \\left(- \\frac{k_{1}^{3} k_{2} n_{1} n_{2} P{\\left(\\theta_{i},\\theta_{j} \\right)} \\frac{\\partial}{\\partial \\theta_{i}} P{\\left(\\theta_{i},\\theta_{j} \\right)}}{k_{1}^{2} n_{1} P{\\left(\\theta_{i},\\theta_{j} \\right)} + k_{2}^{2} n_{2} P{\\left(\\theta_{i},\\theta_{j} \\right)} + 1} + \\frac{k_{1} k_{2} \\left(k_{1}^{2} n_{1} n_{2} P{\\left(\\theta_{i},\\theta_{j} \\right)} + n_{2}\\right) \\frac{\\partial}{\\partial \\theta_{i}} P{\\left(\\theta_{i},\\theta_{j} \\right)}}{k_{1}^{2} n_{1} P{\\left(\\theta_{i},\\theta_{j} \\right)} + k_{2}^{2} n_{2} P{\\left(\\theta_{i},\\theta_{j} \\right)} + 1}\\right) \\frac{\\partial}{\\partial \\theta_{j}} P{\\left(\\theta_{i},\\theta_{j} \\right)}\\right) P{\\left(\\theta_{i},\\theta_{j} \\right)}}{k_{1}^{2} n_{1} P{\\left(\\theta_{i},\\theta_{j} \\right)} + k_{2}^{2} n_{2} P{\\left(\\theta_{i},\\theta_{j} \\right)} + 1} + \\frac{\\left(k_{1}^{2} \\left(- \\frac{k_{1}^{2} k_{2}^{2} n_{1} n_{2} P{\\left(\\theta_{i},\\theta_{j} \\right)} \\frac{\\partial}{\\partial \\theta_{i}} P{\\left(\\theta_{i},\\theta_{j} \\right)}}{k_{1}^{2} n_{1} P{\\left(\\theta_{i},\\theta_{j} \\right)} + k_{2}^{2} n_{2} P{\\left(\\theta_{i},\\theta_{j} \\right)} + 1} + \\frac{k_{1}^{2} \\left(k_{2}^{2} n_{1} n_{2} P{\\left(\\theta_{i},\\theta_{j} \\right)} + n_{1}\\right) \\frac{\\partial}{\\partial \\theta_{i}} P{\\left(\\theta_{i},\\theta_{j} \\right)}}{k_{1}^{2} n_{1} P{\\left(\\theta_{i},\\theta_{j} \\right)} + k_{2}^{2} n_{2} P{\\left(\\theta_{i},\\theta_{j} \\right)} + 1}\\right) \\frac{\\partial}{\\partial \\theta_{j}} P{\\left(\\theta_{i},\\theta_{j} \\right)} + k_{1} k_{2} \\left(- \\frac{k_{1}^{3} k_{2} n_{1} n_{2} P{\\left(\\theta_{i},\\theta_{j} \\right)} \\frac{\\partial}{\\partial \\theta_{i}} P{\\left(\\theta_{i},\\theta_{j} \\right)}}{k_{1}^{2} n_{1} P{\\left(\\theta_{i},\\theta_{j} \\right)} + k_{2}^{2} n_{2} P{\\left(\\theta_{i},\\theta_{j} \\right)} + 1} + \\frac{k_{1} k_{2} \\left(k_{1}^{2} n_{1} n_{2} P{\\left(\\theta_{i},\\theta_{j} \\right)} + n_{2}\\right) \\frac{\\partial}{\\partial \\theta_{i}} P{\\left(\\theta_{i},\\theta_{j} \\right)}}{k_{1}^{2} n_{1} P{\\left(\\theta_{i},\\theta_{j} \\right)} + k_{2}^{2} n_{2} P{\\left(\\theta_{i},\\theta_{j} \\right)} + 1}\\right) \\frac{\\partial}{\\partial \\theta_{j}} P{\\left(\\theta_{i},\\theta_{j} \\right)}\\right) \\left(k_{2}^{2} n_{1} n_{2} P{\\left(\\theta_{i},\\theta_{j} \\right)} + n_{1}\\right)}{k_{1}^{2} n_{1} P{\\left(\\theta_{i},\\theta_{j} \\right)} + k_{2}^{2} n_{2} P{\\left(\\theta_{i},\\theta_{j} \\right)} + 1} & - \\frac{k_{1} k_{2} n_{1} n_{2} \\left(k_{1}^{2} \\left(- \\frac{k_{1}^{2} k_{2}^{2} n_{1} n_{2} P{\\left(\\theta_{i},\\theta_{j} \\right)} \\frac{\\partial}{\\partial \\theta_{i}} P{\\left(\\theta_{i},\\theta_{j} \\right)}}{k_{1}^{2} n_{1} P{\\left(\\theta_{i},\\theta_{j} \\right)} + k_{2}^{2} n_{2} P{\\left(\\theta_{i},\\theta_{j} \\right)} + 1} + \\frac{k_{1}^{2} \\left(k_{2}^{2} n_{1} n_{2} P{\\left(\\theta_{i},\\theta_{j} \\right)} + n_{1}\\right) \\frac{\\partial}{\\partial \\theta_{i}} P{\\left(\\theta_{i},\\theta_{j} \\right)}}{k_{1}^{2} n_{1} P{\\left(\\theta_{i},\\theta_{j} \\right)} + k_{2}^{2} n_{2} P{\\left(\\theta_{i},\\theta_{j} \\right)} + 1}\\right) \\frac{\\partial}{\\partial \\theta_{j}} P{\\left(\\theta_{i},\\theta_{j} \\right)} + k_{1} k_{2} \\left(- \\frac{k_{1}^{3} k_{2} n_{1} n_{2} P{\\left(\\theta_{i},\\theta_{j} \\right)} \\frac{\\partial}{\\partial \\theta_{i}} P{\\left(\\theta_{i},\\theta_{j} \\right)}}{k_{1}^{2} n_{1} P{\\left(\\theta_{i},\\theta_{j} \\right)} + k_{2}^{2} n_{2} P{\\left(\\theta_{i},\\theta_{j} \\right)} + 1} + \\frac{k_{1} k_{2} \\left(k_{1}^{2} n_{1} n_{2} P{\\left(\\theta_{i},\\theta_{j} \\right)} + n_{2}\\right) \\frac{\\partial}{\\partial \\theta_{i}} P{\\left(\\theta_{i},\\theta_{j} \\right)}}{k_{1}^{2} n_{1} P{\\left(\\theta_{i},\\theta_{j} \\right)} + k_{2}^{2} n_{2} P{\\left(\\theta_{i},\\theta_{j} \\right)} + 1}\\right) \\frac{\\partial}{\\partial \\theta_{j}} P{\\left(\\theta_{i},\\theta_{j} \\right)}\\right) P{\\left(\\theta_{i},\\theta_{j} \\right)}}{k_{1}^{2} n_{1} P{\\left(\\theta_{i},\\theta_{j} \\right)} + k_{2}^{2} n_{2} P{\\left(\\theta_{i},\\theta_{j} \\right)} + 1} + \\frac{\\left(k_{1} k_{2} \\left(- \\frac{k_{1}^{2} k_{2}^{2} n_{1} n_{2} P{\\left(\\theta_{i},\\theta_{j} \\right)} \\frac{\\partial}{\\partial \\theta_{i}} P{\\left(\\theta_{i},\\theta_{j} \\right)}}{k_{1}^{2} n_{1} P{\\left(\\theta_{i},\\theta_{j} \\right)} + k_{2}^{2} n_{2} P{\\left(\\theta_{i},\\theta_{j} \\right)} + 1} + \\frac{k_{1}^{2} \\left(k_{2}^{2} n_{1} n_{2} P{\\left(\\theta_{i},\\theta_{j} \\right)} + n_{1}\\right) \\frac{\\partial}{\\partial \\theta_{i}} P{\\left(\\theta_{i},\\theta_{j} \\right)}}{k_{1}^{2} n_{1} P{\\left(\\theta_{i},\\theta_{j} \\right)} + k_{2}^{2} n_{2} P{\\left(\\theta_{i},\\theta_{j} \\right)} + 1}\\right) \\frac{\\partial}{\\partial \\theta_{j}} P{\\left(\\theta_{i},\\theta_{j} \\right)} + k_{2}^{2} \\left(- \\frac{k_{1}^{3} k_{2} n_{1} n_{2} P{\\left(\\theta_{i},\\theta_{j} \\right)} \\frac{\\partial}{\\partial \\theta_{i}} P{\\left(\\theta_{i},\\theta_{j} \\right)}}{k_{1}^{2} n_{1} P{\\left(\\theta_{i},\\theta_{j} \\right)} + k_{2}^{2} n_{2} P{\\left(\\theta_{i},\\theta_{j} \\right)} + 1} + \\frac{k_{1} k_{2} \\left(k_{1}^{2} n_{1} n_{2} P{\\left(\\theta_{i},\\theta_{j} \\right)} + n_{2}\\right) \\frac{\\partial}{\\partial \\theta_{i}} P{\\left(\\theta_{i},\\theta_{j} \\right)}}{k_{1}^{2} n_{1} P{\\left(\\theta_{i},\\theta_{j} \\right)} + k_{2}^{2} n_{2} P{\\left(\\theta_{i},\\theta_{j} \\right)} + 1}\\right) \\frac{\\partial}{\\partial \\theta_{j}} P{\\left(\\theta_{i},\\theta_{j} \\right)}\\right) \\left(k_{1}^{2} n_{1} n_{2} P{\\left(\\theta_{i},\\theta_{j} \\right)} + n_{2}\\right)}{k_{1}^{2} n_{1} P{\\left(\\theta_{i},\\theta_{j} \\right)} + k_{2}^{2} n_{2} P{\\left(\\theta_{i},\\theta_{j} \\right)} + 1}\\\\- \\frac{k_{1} k_{2} n_{1} n_{2} \\left(k_{1} k_{2} \\left(- \\frac{k_{1} k_{2}^{3} n_{1} n_{2} P{\\left(\\theta_{i},\\theta_{j} \\right)} \\frac{\\partial}{\\partial \\theta_{i}} P{\\left(\\theta_{i},\\theta_{j} \\right)}}{k_{1}^{2} n_{1} P{\\left(\\theta_{i},\\theta_{j} \\right)} + k_{2}^{2} n_{2} P{\\left(\\theta_{i},\\theta_{j} \\right)} + 1} + \\frac{k_{1} k_{2} \\left(k_{2}^{2} n_{1} n_{2} P{\\left(\\theta_{i},\\theta_{j} \\right)} + n_{1}\\right) \\frac{\\partial}{\\partial \\theta_{i}} P{\\left(\\theta_{i},\\theta_{j} \\right)}}{k_{1}^{2} n_{1} P{\\left(\\theta_{i},\\theta_{j} \\right)} + k_{2}^{2} n_{2} P{\\left(\\theta_{i},\\theta_{j} \\right)} + 1}\\right) \\frac{\\partial}{\\partial \\theta_{j}} P{\\left(\\theta_{i},\\theta_{j} \\right)} + k_{2}^{2} \\left(- \\frac{k_{1}^{2} k_{2}^{2} n_{1} n_{2} P{\\left(\\theta_{i},\\theta_{j} \\right)} \\frac{\\partial}{\\partial \\theta_{i}} P{\\left(\\theta_{i},\\theta_{j} \\right)}}{k_{1}^{2} n_{1} P{\\left(\\theta_{i},\\theta_{j} \\right)} + k_{2}^{2} n_{2} P{\\left(\\theta_{i},\\theta_{j} \\right)} + 1} + \\frac{k_{2}^{2} \\left(k_{1}^{2} n_{1} n_{2} P{\\left(\\theta_{i},\\theta_{j} \\right)} + n_{2}\\right) \\frac{\\partial}{\\partial \\theta_{i}} P{\\left(\\theta_{i},\\theta_{j} \\right)}}{k_{1}^{2} n_{1} P{\\left(\\theta_{i},\\theta_{j} \\right)} + k_{2}^{2} n_{2} P{\\left(\\theta_{i},\\theta_{j} \\right)} + 1}\\right) \\frac{\\partial}{\\partial \\theta_{j}} P{\\left(\\theta_{i},\\theta_{j} \\right)}\\right) P{\\left(\\theta_{i},\\theta_{j} \\right)}}{k_{1}^{2} n_{1} P{\\left(\\theta_{i},\\theta_{j} \\right)} + k_{2}^{2} n_{2} P{\\left(\\theta_{i},\\theta_{j} \\right)} + 1} + \\frac{\\left(k_{1}^{2} \\left(- \\frac{k_{1} k_{2}^{3} n_{1} n_{2} P{\\left(\\theta_{i},\\theta_{j} \\right)} \\frac{\\partial}{\\partial \\theta_{i}} P{\\left(\\theta_{i},\\theta_{j} \\right)}}{k_{1}^{2} n_{1} P{\\left(\\theta_{i},\\theta_{j} \\right)} + k_{2}^{2} n_{2} P{\\left(\\theta_{i},\\theta_{j} \\right)} + 1} + \\frac{k_{1} k_{2} \\left(k_{2}^{2} n_{1} n_{2} P{\\left(\\theta_{i},\\theta_{j} \\right)} + n_{1}\\right) \\frac{\\partial}{\\partial \\theta_{i}} P{\\left(\\theta_{i},\\theta_{j} \\right)}}{k_{1}^{2} n_{1} P{\\left(\\theta_{i},\\theta_{j} \\right)} + k_{2}^{2} n_{2} P{\\left(\\theta_{i},\\theta_{j} \\right)} + 1}\\right) \\frac{\\partial}{\\partial \\theta_{j}} P{\\left(\\theta_{i},\\theta_{j} \\right)} + k_{1} k_{2} \\left(- \\frac{k_{1}^{2} k_{2}^{2} n_{1} n_{2} P{\\left(\\theta_{i},\\theta_{j} \\right)} \\frac{\\partial}{\\partial \\theta_{i}} P{\\left(\\theta_{i},\\theta_{j} \\right)}}{k_{1}^{2} n_{1} P{\\left(\\theta_{i},\\theta_{j} \\right)} + k_{2}^{2} n_{2} P{\\left(\\theta_{i},\\theta_{j} \\right)} + 1} + \\frac{k_{2}^{2} \\left(k_{1}^{2} n_{1} n_{2} P{\\left(\\theta_{i},\\theta_{j} \\right)} + n_{2}\\right) \\frac{\\partial}{\\partial \\theta_{i}} P{\\left(\\theta_{i},\\theta_{j} \\right)}}{k_{1}^{2} n_{1} P{\\left(\\theta_{i},\\theta_{j} \\right)} + k_{2}^{2} n_{2} P{\\left(\\theta_{i},\\theta_{j} \\right)} + 1}\\right) \\frac{\\partial}{\\partial \\theta_{j}} P{\\left(\\theta_{i},\\theta_{j} \\right)}\\right) \\left(k_{2}^{2} n_{1} n_{2} P{\\left(\\theta_{i},\\theta_{j} \\right)} + n_{1}\\right)}{k_{1}^{2} n_{1} P{\\left(\\theta_{i},\\theta_{j} \\right)} + k_{2}^{2} n_{2} P{\\left(\\theta_{i},\\theta_{j} \\right)} + 1} & - \\frac{k_{1} k_{2} n_{1} n_{2} \\left(k_{1}^{2} \\left(- \\frac{k_{1} k_{2}^{3} n_{1} n_{2} P{\\left(\\theta_{i},\\theta_{j} \\right)} \\frac{\\partial}{\\partial \\theta_{i}} P{\\left(\\theta_{i},\\theta_{j} \\right)}}{k_{1}^{2} n_{1} P{\\left(\\theta_{i},\\theta_{j} \\right)} + k_{2}^{2} n_{2} P{\\left(\\theta_{i},\\theta_{j} \\right)} + 1} + \\frac{k_{1} k_{2} \\left(k_{2}^{2} n_{1} n_{2} P{\\left(\\theta_{i},\\theta_{j} \\right)} + n_{1}\\right) \\frac{\\partial}{\\partial \\theta_{i}} P{\\left(\\theta_{i},\\theta_{j} \\right)}}{k_{1}^{2} n_{1} P{\\left(\\theta_{i},\\theta_{j} \\right)} + k_{2}^{2} n_{2} P{\\left(\\theta_{i},\\theta_{j} \\right)} + 1}\\right) \\frac{\\partial}{\\partial \\theta_{j}} P{\\left(\\theta_{i},\\theta_{j} \\right)} + k_{1} k_{2} \\left(- \\frac{k_{1}^{2} k_{2}^{2} n_{1} n_{2} P{\\left(\\theta_{i},\\theta_{j} \\right)} \\frac{\\partial}{\\partial \\theta_{i}} P{\\left(\\theta_{i},\\theta_{j} \\right)}}{k_{1}^{2} n_{1} P{\\left(\\theta_{i},\\theta_{j} \\right)} + k_{2}^{2} n_{2} P{\\left(\\theta_{i},\\theta_{j} \\right)} + 1} + \\frac{k_{2}^{2} \\left(k_{1}^{2} n_{1} n_{2} P{\\left(\\theta_{i},\\theta_{j} \\right)} + n_{2}\\right) \\frac{\\partial}{\\partial \\theta_{i}} P{\\left(\\theta_{i},\\theta_{j} \\right)}}{k_{1}^{2} n_{1} P{\\left(\\theta_{i},\\theta_{j} \\right)} + k_{2}^{2} n_{2} P{\\left(\\theta_{i},\\theta_{j} \\right)} + 1}\\right) \\frac{\\partial}{\\partial \\theta_{j}} P{\\left(\\theta_{i},\\theta_{j} \\right)}\\right) P{\\left(\\theta_{i},\\theta_{j} \\right)}}{k_{1}^{2} n_{1} P{\\left(\\theta_{i},\\theta_{j} \\right)} + k_{2}^{2} n_{2} P{\\left(\\theta_{i},\\theta_{j} \\right)} + 1} + \\frac{\\left(k_{1} k_{2} \\left(- \\frac{k_{1} k_{2}^{3} n_{1} n_{2} P{\\left(\\theta_{i},\\theta_{j} \\right)} \\frac{\\partial}{\\partial \\theta_{i}} P{\\left(\\theta_{i},\\theta_{j} \\right)}}{k_{1}^{2} n_{1} P{\\left(\\theta_{i},\\theta_{j} \\right)} + k_{2}^{2} n_{2} P{\\left(\\theta_{i},\\theta_{j} \\right)} + 1} + \\frac{k_{1} k_{2} \\left(k_{2}^{2} n_{1} n_{2} P{\\left(\\theta_{i},\\theta_{j} \\right)} + n_{1}\\right) \\frac{\\partial}{\\partial \\theta_{i}} P{\\left(\\theta_{i},\\theta_{j} \\right)}}{k_{1}^{2} n_{1} P{\\left(\\theta_{i},\\theta_{j} \\right)} + k_{2}^{2} n_{2} P{\\left(\\theta_{i},\\theta_{j} \\right)} + 1}\\right) \\frac{\\partial}{\\partial \\theta_{j}} P{\\left(\\theta_{i},\\theta_{j} \\right)} + k_{2}^{2} \\left(- \\frac{k_{1}^{2} k_{2}^{2} n_{1} n_{2} P{\\left(\\theta_{i},\\theta_{j} \\right)} \\frac{\\partial}{\\partial \\theta_{i}} P{\\left(\\theta_{i},\\theta_{j} \\right)}}{k_{1}^{2} n_{1} P{\\left(\\theta_{i},\\theta_{j} \\right)} + k_{2}^{2} n_{2} P{\\left(\\theta_{i},\\theta_{j} \\right)} + 1} + \\frac{k_{2}^{2} \\left(k_{1}^{2} n_{1} n_{2} P{\\left(\\theta_{i},\\theta_{j} \\right)} + n_{2}\\right) \\frac{\\partial}{\\partial \\theta_{i}} P{\\left(\\theta_{i},\\theta_{j} \\right)}}{k_{1}^{2} n_{1} P{\\left(\\theta_{i},\\theta_{j} \\right)} + k_{2}^{2} n_{2} P{\\left(\\theta_{i},\\theta_{j} \\right)} + 1}\\right) \\frac{\\partial}{\\partial \\theta_{j}} P{\\left(\\theta_{i},\\theta_{j} \\right)}\\right) \\left(k_{1}^{2} n_{1} n_{2} P{\\left(\\theta_{i},\\theta_{j} \\right)} + n_{2}\\right)}{k_{1}^{2} n_{1} P{\\left(\\theta_{i},\\theta_{j} \\right)} + k_{2}^{2} n_{2} P{\\left(\\theta_{i},\\theta_{j} \\right)} + 1}\\end{matrix}\\right]$"
      ],
      "text/plain": [
       "Matrix([\n",
       "[-k1*k2*n1*n2*(k1*k2*(-k1**2*k2**2*n1*n2*P(\\theta_i, \\theta_j)*Derivative(P(\\theta_i, \\theta_j), \\theta_i)/(k1**2*n1*P(\\theta_i, \\theta_j) + k2**2*n2*P(\\theta_i, \\theta_j) + 1) + k1**2*(k2**2*n1*n2*P(\\theta_i, \\theta_j) + n1)*Derivative(P(\\theta_i, \\theta_j), \\theta_i)/(k1**2*n1*P(\\theta_i, \\theta_j) + k2**2*n2*P(\\theta_i, \\theta_j) + 1))*Derivative(P(\\theta_i, \\theta_j), \\theta_j) + k2**2*(-k1**3*k2*n1*n2*P(\\theta_i, \\theta_j)*Derivative(P(\\theta_i, \\theta_j), \\theta_i)/(k1**2*n1*P(\\theta_i, \\theta_j) + k2**2*n2*P(\\theta_i, \\theta_j) + 1) + k1*k2*(k1**2*n1*n2*P(\\theta_i, \\theta_j) + n2)*Derivative(P(\\theta_i, \\theta_j), \\theta_i)/(k1**2*n1*P(\\theta_i, \\theta_j) + k2**2*n2*P(\\theta_i, \\theta_j) + 1))*Derivative(P(\\theta_i, \\theta_j), \\theta_j))*P(\\theta_i, \\theta_j)/(k1**2*n1*P(\\theta_i, \\theta_j) + k2**2*n2*P(\\theta_i, \\theta_j) + 1) + (k1**2*(-k1**2*k2**2*n1*n2*P(\\theta_i, \\theta_j)*Derivative(P(\\theta_i, \\theta_j), \\theta_i)/(k1**2*n1*P(\\theta_i, \\theta_j) + k2**2*n2*P(\\theta_i, \\theta_j) + 1) + k1**2*(k2**2*n1*n2*P(\\theta_i, \\theta_j) + n1)*Derivative(P(\\theta_i, \\theta_j), \\theta_i)/(k1**2*n1*P(\\theta_i, \\theta_j) + k2**2*n2*P(\\theta_i, \\theta_j) + 1))*Derivative(P(\\theta_i, \\theta_j), \\theta_j) + k1*k2*(-k1**3*k2*n1*n2*P(\\theta_i, \\theta_j)*Derivative(P(\\theta_i, \\theta_j), \\theta_i)/(k1**2*n1*P(\\theta_i, \\theta_j) + k2**2*n2*P(\\theta_i, \\theta_j) + 1) + k1*k2*(k1**2*n1*n2*P(\\theta_i, \\theta_j) + n2)*Derivative(P(\\theta_i, \\theta_j), \\theta_i)/(k1**2*n1*P(\\theta_i, \\theta_j) + k2**2*n2*P(\\theta_i, \\theta_j) + 1))*Derivative(P(\\theta_i, \\theta_j), \\theta_j))*(k2**2*n1*n2*P(\\theta_i, \\theta_j) + n1)/(k1**2*n1*P(\\theta_i, \\theta_j) + k2**2*n2*P(\\theta_i, \\theta_j) + 1), -k1*k2*n1*n2*(k1**2*(-k1**2*k2**2*n1*n2*P(\\theta_i, \\theta_j)*Derivative(P(\\theta_i, \\theta_j), \\theta_i)/(k1**2*n1*P(\\theta_i, \\theta_j) + k2**2*n2*P(\\theta_i, \\theta_j) + 1) + k1**2*(k2**2*n1*n2*P(\\theta_i, \\theta_j) + n1)*Derivative(P(\\theta_i, \\theta_j), \\theta_i)/(k1**2*n1*P(\\theta_i, \\theta_j) + k2**2*n2*P(\\theta_i, \\theta_j) + 1))*Derivative(P(\\theta_i, \\theta_j), \\theta_j) + k1*k2*(-k1**3*k2*n1*n2*P(\\theta_i, \\theta_j)*Derivative(P(\\theta_i, \\theta_j), \\theta_i)/(k1**2*n1*P(\\theta_i, \\theta_j) + k2**2*n2*P(\\theta_i, \\theta_j) + 1) + k1*k2*(k1**2*n1*n2*P(\\theta_i, \\theta_j) + n2)*Derivative(P(\\theta_i, \\theta_j), \\theta_i)/(k1**2*n1*P(\\theta_i, \\theta_j) + k2**2*n2*P(\\theta_i, \\theta_j) + 1))*Derivative(P(\\theta_i, \\theta_j), \\theta_j))*P(\\theta_i, \\theta_j)/(k1**2*n1*P(\\theta_i, \\theta_j) + k2**2*n2*P(\\theta_i, \\theta_j) + 1) + (k1*k2*(-k1**2*k2**2*n1*n2*P(\\theta_i, \\theta_j)*Derivative(P(\\theta_i, \\theta_j), \\theta_i)/(k1**2*n1*P(\\theta_i, \\theta_j) + k2**2*n2*P(\\theta_i, \\theta_j) + 1) + k1**2*(k2**2*n1*n2*P(\\theta_i, \\theta_j) + n1)*Derivative(P(\\theta_i, \\theta_j), \\theta_i)/(k1**2*n1*P(\\theta_i, \\theta_j) + k2**2*n2*P(\\theta_i, \\theta_j) + 1))*Derivative(P(\\theta_i, \\theta_j), \\theta_j) + k2**2*(-k1**3*k2*n1*n2*P(\\theta_i, \\theta_j)*Derivative(P(\\theta_i, \\theta_j), \\theta_i)/(k1**2*n1*P(\\theta_i, \\theta_j) + k2**2*n2*P(\\theta_i, \\theta_j) + 1) + k1*k2*(k1**2*n1*n2*P(\\theta_i, \\theta_j) + n2)*Derivative(P(\\theta_i, \\theta_j), \\theta_i)/(k1**2*n1*P(\\theta_i, \\theta_j) + k2**2*n2*P(\\theta_i, \\theta_j) + 1))*Derivative(P(\\theta_i, \\theta_j), \\theta_j))*(k1**2*n1*n2*P(\\theta_i, \\theta_j) + n2)/(k1**2*n1*P(\\theta_i, \\theta_j) + k2**2*n2*P(\\theta_i, \\theta_j) + 1)],\n",
       "[-k1*k2*n1*n2*(k1*k2*(-k1*k2**3*n1*n2*P(\\theta_i, \\theta_j)*Derivative(P(\\theta_i, \\theta_j), \\theta_i)/(k1**2*n1*P(\\theta_i, \\theta_j) + k2**2*n2*P(\\theta_i, \\theta_j) + 1) + k1*k2*(k2**2*n1*n2*P(\\theta_i, \\theta_j) + n1)*Derivative(P(\\theta_i, \\theta_j), \\theta_i)/(k1**2*n1*P(\\theta_i, \\theta_j) + k2**2*n2*P(\\theta_i, \\theta_j) + 1))*Derivative(P(\\theta_i, \\theta_j), \\theta_j) + k2**2*(-k1**2*k2**2*n1*n2*P(\\theta_i, \\theta_j)*Derivative(P(\\theta_i, \\theta_j), \\theta_i)/(k1**2*n1*P(\\theta_i, \\theta_j) + k2**2*n2*P(\\theta_i, \\theta_j) + 1) + k2**2*(k1**2*n1*n2*P(\\theta_i, \\theta_j) + n2)*Derivative(P(\\theta_i, \\theta_j), \\theta_i)/(k1**2*n1*P(\\theta_i, \\theta_j) + k2**2*n2*P(\\theta_i, \\theta_j) + 1))*Derivative(P(\\theta_i, \\theta_j), \\theta_j))*P(\\theta_i, \\theta_j)/(k1**2*n1*P(\\theta_i, \\theta_j) + k2**2*n2*P(\\theta_i, \\theta_j) + 1) + (k1**2*(-k1*k2**3*n1*n2*P(\\theta_i, \\theta_j)*Derivative(P(\\theta_i, \\theta_j), \\theta_i)/(k1**2*n1*P(\\theta_i, \\theta_j) + k2**2*n2*P(\\theta_i, \\theta_j) + 1) + k1*k2*(k2**2*n1*n2*P(\\theta_i, \\theta_j) + n1)*Derivative(P(\\theta_i, \\theta_j), \\theta_i)/(k1**2*n1*P(\\theta_i, \\theta_j) + k2**2*n2*P(\\theta_i, \\theta_j) + 1))*Derivative(P(\\theta_i, \\theta_j), \\theta_j) + k1*k2*(-k1**2*k2**2*n1*n2*P(\\theta_i, \\theta_j)*Derivative(P(\\theta_i, \\theta_j), \\theta_i)/(k1**2*n1*P(\\theta_i, \\theta_j) + k2**2*n2*P(\\theta_i, \\theta_j) + 1) + k2**2*(k1**2*n1*n2*P(\\theta_i, \\theta_j) + n2)*Derivative(P(\\theta_i, \\theta_j), \\theta_i)/(k1**2*n1*P(\\theta_i, \\theta_j) + k2**2*n2*P(\\theta_i, \\theta_j) + 1))*Derivative(P(\\theta_i, \\theta_j), \\theta_j))*(k2**2*n1*n2*P(\\theta_i, \\theta_j) + n1)/(k1**2*n1*P(\\theta_i, \\theta_j) + k2**2*n2*P(\\theta_i, \\theta_j) + 1), -k1*k2*n1*n2*(k1**2*(-k1*k2**3*n1*n2*P(\\theta_i, \\theta_j)*Derivative(P(\\theta_i, \\theta_j), \\theta_i)/(k1**2*n1*P(\\theta_i, \\theta_j) + k2**2*n2*P(\\theta_i, \\theta_j) + 1) + k1*k2*(k2**2*n1*n2*P(\\theta_i, \\theta_j) + n1)*Derivative(P(\\theta_i, \\theta_j), \\theta_i)/(k1**2*n1*P(\\theta_i, \\theta_j) + k2**2*n2*P(\\theta_i, \\theta_j) + 1))*Derivative(P(\\theta_i, \\theta_j), \\theta_j) + k1*k2*(-k1**2*k2**2*n1*n2*P(\\theta_i, \\theta_j)*Derivative(P(\\theta_i, \\theta_j), \\theta_i)/(k1**2*n1*P(\\theta_i, \\theta_j) + k2**2*n2*P(\\theta_i, \\theta_j) + 1) + k2**2*(k1**2*n1*n2*P(\\theta_i, \\theta_j) + n2)*Derivative(P(\\theta_i, \\theta_j), \\theta_i)/(k1**2*n1*P(\\theta_i, \\theta_j) + k2**2*n2*P(\\theta_i, \\theta_j) + 1))*Derivative(P(\\theta_i, \\theta_j), \\theta_j))*P(\\theta_i, \\theta_j)/(k1**2*n1*P(\\theta_i, \\theta_j) + k2**2*n2*P(\\theta_i, \\theta_j) + 1) + (k1*k2*(-k1*k2**3*n1*n2*P(\\theta_i, \\theta_j)*Derivative(P(\\theta_i, \\theta_j), \\theta_i)/(k1**2*n1*P(\\theta_i, \\theta_j) + k2**2*n2*P(\\theta_i, \\theta_j) + 1) + k1*k2*(k2**2*n1*n2*P(\\theta_i, \\theta_j) + n1)*Derivative(P(\\theta_i, \\theta_j), \\theta_i)/(k1**2*n1*P(\\theta_i, \\theta_j) + k2**2*n2*P(\\theta_i, \\theta_j) + 1))*Derivative(P(\\theta_i, \\theta_j), \\theta_j) + k2**2*(-k1**2*k2**2*n1*n2*P(\\theta_i, \\theta_j)*Derivative(P(\\theta_i, \\theta_j), \\theta_i)/(k1**2*n1*P(\\theta_i, \\theta_j) + k2**2*n2*P(\\theta_i, \\theta_j) + 1) + k2**2*(k1**2*n1*n2*P(\\theta_i, \\theta_j) + n2)*Derivative(P(\\theta_i, \\theta_j), \\theta_i)/(k1**2*n1*P(\\theta_i, \\theta_j) + k2**2*n2*P(\\theta_i, \\theta_j) + 1))*Derivative(P(\\theta_i, \\theta_j), \\theta_j))*(k1**2*n1*n2*P(\\theta_i, \\theta_j) + n2)/(k1**2*n1*P(\\theta_i, \\theta_j) + k2**2*n2*P(\\theta_i, \\theta_j) + 1)]])"
      ]
     },
     "execution_count": 3,
     "metadata": {},
     "output_type": "execute_result"
    }
   ],
   "source": [
    "multip=sp.diff(c,thetai)@c.inv()@sp.diff(c,thetaj)@c.inv()\n",
    "multip"
   ]
  },
  {
   "cell_type": "code",
   "execution_count": 4,
   "metadata": {},
   "outputs": [
    {
     "data": {
      "text/latex": [
       "$\\displaystyle \\frac{\\left(- k_{1}^{2} n_{1} - k_{2}^{2} n_{2}\\right)^{2} \\frac{\\partial}{\\partial \\theta_{i}} P{\\left(\\theta_{i},\\theta_{j} \\right)} \\frac{\\partial}{\\partial \\theta_{j}} P{\\left(\\theta_{i},\\theta_{j} \\right)}}{\\left(k_{1}^{2} n_{1} P{\\left(\\theta_{i},\\theta_{j} \\right)} + k_{2}^{2} n_{2} P{\\left(\\theta_{i},\\theta_{j} \\right)} + 1\\right)^{2}}$"
      ],
      "text/plain": [
       "(-k1**2*n1 - k2**2*n2)**2*Derivative(P(\\theta_i, \\theta_j), \\theta_i)*Derivative(P(\\theta_i, \\theta_j), \\theta_j)/(k1**2*n1*P(\\theta_i, \\theta_j) + k2**2*n2*P(\\theta_i, \\theta_j) + 1)**2"
      ]
     },
     "execution_count": 4,
     "metadata": {},
     "output_type": "execute_result"
    }
   ],
   "source": [
    "tr=multip.trace()\n",
    "tr=tr.simplify()\n",
    "tr"
   ]
  },
  {
   "cell_type": "code",
   "execution_count": 5,
   "metadata": {},
   "outputs": [],
   "source": [
    "p1=sp.Function(r'\\mathcal{P}_1')(thetai,thetaj)\n",
    "p2=sp.Function(r'\\mathcal{P}_2')(thetai,thetaj)\n",
    "bigp=sp.Function(r'\\mathcal{P}')(thetai,thetaj)"
   ]
  },
  {
   "cell_type": "code",
   "execution_count": 6,
   "metadata": {},
   "outputs": [
    {
     "data": {
      "text/latex": [
       "$\\displaystyle \\left[\\begin{matrix}\\frac{\\left(1 - \\mathcal{P}{\\left(\\theta_{i},\\theta_{j} \\right)}\\right) \\mathcal{P}_1^{2}{\\left(\\theta_{i},\\theta_{j} \\right)}}{\\left(\\mathcal{P}{\\left(\\theta_{i},\\theta_{j} \\right)} + 1\\right)^{2}} + \\frac{\\mathcal{P}{\\left(\\theta_{i},\\theta_{j} \\right)} \\mathcal{P}_1{\\left(\\theta_{i},\\theta_{j} \\right)}}{\\mathcal{P}{\\left(\\theta_{i},\\theta_{j} \\right)} + 1} & \\frac{\\left(1 - \\mathcal{P}{\\left(\\theta_{i},\\theta_{j} \\right)}\\right) \\mathcal{P}_1{\\left(\\theta_{i},\\theta_{j} \\right)} \\mathcal{P}_2{\\left(\\theta_{i},\\theta_{j} \\right)}}{\\left(\\mathcal{P}{\\left(\\theta_{i},\\theta_{j} \\right)} + 1\\right)^{2}}\\\\\\frac{\\left(1 - \\mathcal{P}{\\left(\\theta_{i},\\theta_{j} \\right)}\\right) \\mathcal{P}_1{\\left(\\theta_{i},\\theta_{j} \\right)} \\mathcal{P}_2{\\left(\\theta_{i},\\theta_{j} \\right)}}{\\left(\\mathcal{P}{\\left(\\theta_{i},\\theta_{j} \\right)} + 1\\right)^{2}} & \\frac{\\left(1 - \\mathcal{P}{\\left(\\theta_{i},\\theta_{j} \\right)}\\right) \\mathcal{P}_2^{2}{\\left(\\theta_{i},\\theta_{j} \\right)}}{\\left(\\mathcal{P}{\\left(\\theta_{i},\\theta_{j} \\right)} + 1\\right)^{2}} + \\frac{\\mathcal{P}{\\left(\\theta_{i},\\theta_{j} \\right)} \\mathcal{P}_2{\\left(\\theta_{i},\\theta_{j} \\right)}}{\\mathcal{P}{\\left(\\theta_{i},\\theta_{j} \\right)} + 1}\\end{matrix}\\right]$"
      ],
      "text/plain": [
       "Matrix([\n",
       "[(1 - \\mathcal{P}(\\theta_i, \\theta_j))*\\mathcal{P}_1(\\theta_i, \\theta_j)**2/(\\mathcal{P}(\\theta_i, \\theta_j) + 1)**2 + \\mathcal{P}(\\theta_i, \\theta_j)*\\mathcal{P}_1(\\theta_i, \\theta_j)/(\\mathcal{P}(\\theta_i, \\theta_j) + 1),                                                                            (1 - \\mathcal{P}(\\theta_i, \\theta_j))*\\mathcal{P}_1(\\theta_i, \\theta_j)*\\mathcal{P}_2(\\theta_i, \\theta_j)/(\\mathcal{P}(\\theta_i, \\theta_j) + 1)**2],\n",
       "[                                                                           (1 - \\mathcal{P}(\\theta_i, \\theta_j))*\\mathcal{P}_1(\\theta_i, \\theta_j)*\\mathcal{P}_2(\\theta_i, \\theta_j)/(\\mathcal{P}(\\theta_i, \\theta_j) + 1)**2, (1 - \\mathcal{P}(\\theta_i, \\theta_j))*\\mathcal{P}_2(\\theta_i, \\theta_j)**2/(\\mathcal{P}(\\theta_i, \\theta_j) + 1)**2 + \\mathcal{P}(\\theta_i, \\theta_j)*\\mathcal{P}_2(\\theta_i, \\theta_j)/(\\mathcal{P}(\\theta_i, \\theta_j) + 1)]])"
      ]
     },
     "execution_count": 6,
     "metadata": {},
     "output_type": "execute_result"
    }
   ],
   "source": [
    "Fij=sp.Matrix([[p1*p1*(1-bigp),p1*p2*(1-bigp)],[p1*p2*(1-bigp),p2*p2*(1-bigp)]])/(1+bigp)**2\n",
    "Fij[0,0]+=p1*bigp/(1+bigp)\n",
    "Fij[1,1]+=p2*bigp/(1+bigp)\n",
    "Fij"
   ]
  },
  {
   "cell_type": "code",
   "execution_count": 7,
   "metadata": {},
   "outputs": [
    {
     "data": {
      "text/latex": [
       "$\\displaystyle \\left[\\begin{matrix}\\frac{\\left(- \\left(\\mathcal{P}{\\left(\\theta_{i},\\theta_{j} \\right)} - 1\\right) \\mathcal{P}_1{\\left(\\theta_{i},\\theta_{j} \\right)} + \\left(\\mathcal{P}{\\left(\\theta_{i},\\theta_{j} \\right)} + 1\\right) \\mathcal{P}{\\left(\\theta_{i},\\theta_{j} \\right)}\\right) \\mathcal{P}_1{\\left(\\theta_{i},\\theta_{j} \\right)}}{\\left(\\mathcal{P}{\\left(\\theta_{i},\\theta_{j} \\right)} + 1\\right)^{2}} & - \\frac{\\left(\\mathcal{P}{\\left(\\theta_{i},\\theta_{j} \\right)} - 1\\right) \\mathcal{P}_1{\\left(\\theta_{i},\\theta_{j} \\right)} \\mathcal{P}_2{\\left(\\theta_{i},\\theta_{j} \\right)}}{\\left(\\mathcal{P}{\\left(\\theta_{i},\\theta_{j} \\right)} + 1\\right)^{2}}\\\\- \\frac{\\left(\\mathcal{P}{\\left(\\theta_{i},\\theta_{j} \\right)} - 1\\right) \\mathcal{P}_1{\\left(\\theta_{i},\\theta_{j} \\right)} \\mathcal{P}_2{\\left(\\theta_{i},\\theta_{j} \\right)}}{\\left(\\mathcal{P}{\\left(\\theta_{i},\\theta_{j} \\right)} + 1\\right)^{2}} & \\frac{\\left(- \\left(\\mathcal{P}{\\left(\\theta_{i},\\theta_{j} \\right)} - 1\\right) \\mathcal{P}_2{\\left(\\theta_{i},\\theta_{j} \\right)} + \\left(\\mathcal{P}{\\left(\\theta_{i},\\theta_{j} \\right)} + 1\\right) \\mathcal{P}{\\left(\\theta_{i},\\theta_{j} \\right)}\\right) \\mathcal{P}_2{\\left(\\theta_{i},\\theta_{j} \\right)}}{\\left(\\mathcal{P}{\\left(\\theta_{i},\\theta_{j} \\right)} + 1\\right)^{2}}\\end{matrix}\\right]$"
      ],
      "text/plain": [
       "Matrix([\n",
       "[(-(\\mathcal{P}(\\theta_i, \\theta_j) - 1)*\\mathcal{P}_1(\\theta_i, \\theta_j) + (\\mathcal{P}(\\theta_i, \\theta_j) + 1)*\\mathcal{P}(\\theta_i, \\theta_j))*\\mathcal{P}_1(\\theta_i, \\theta_j)/(\\mathcal{P}(\\theta_i, \\theta_j) + 1)**2,                                                                           -(\\mathcal{P}(\\theta_i, \\theta_j) - 1)*\\mathcal{P}_1(\\theta_i, \\theta_j)*\\mathcal{P}_2(\\theta_i, \\theta_j)/(\\mathcal{P}(\\theta_i, \\theta_j) + 1)**2],\n",
       "[                                                                          -(\\mathcal{P}(\\theta_i, \\theta_j) - 1)*\\mathcal{P}_1(\\theta_i, \\theta_j)*\\mathcal{P}_2(\\theta_i, \\theta_j)/(\\mathcal{P}(\\theta_i, \\theta_j) + 1)**2, (-(\\mathcal{P}(\\theta_i, \\theta_j) - 1)*\\mathcal{P}_2(\\theta_i, \\theta_j) + (\\mathcal{P}(\\theta_i, \\theta_j) + 1)*\\mathcal{P}(\\theta_i, \\theta_j))*\\mathcal{P}_2(\\theta_i, \\theta_j)/(\\mathcal{P}(\\theta_i, \\theta_j) + 1)**2]])"
      ]
     },
     "execution_count": 7,
     "metadata": {},
     "output_type": "execute_result"
    }
   ],
   "source": [
    "Fij.simplify()\n",
    "Fij"
   ]
  },
  {
   "cell_type": "code",
   "execution_count": 8,
   "metadata": {},
   "outputs": [],
   "source": [
    "diffi=sp.Matrix([sp.diff(sp.log(p1),thetai),sp.diff(sp.log(p2),thetai)]).T\n",
    "diffj=sp.Matrix([sp.diff(sp.log(p1),thetaj),sp.diff(sp.log(p2),thetaj)])"
   ]
  },
  {
   "cell_type": "code",
   "execution_count": 9,
   "metadata": {},
   "outputs": [
    {
     "data": {
      "text/latex": [
       "$\\displaystyle \\frac{\\left(\\frac{\\left(- \\left(\\mathcal{P}{\\left(\\theta_{i},\\theta_{j} \\right)} - 1\\right) \\mathcal{P}_1{\\left(\\theta_{i},\\theta_{j} \\right)} + \\left(\\mathcal{P}{\\left(\\theta_{i},\\theta_{j} \\right)} + 1\\right) \\mathcal{P}{\\left(\\theta_{i},\\theta_{j} \\right)}\\right) \\frac{\\partial}{\\partial \\theta_{i}} \\mathcal{P}_1{\\left(\\theta_{i},\\theta_{j} \\right)}}{\\left(\\mathcal{P}{\\left(\\theta_{i},\\theta_{j} \\right)} + 1\\right)^{2}} - \\frac{\\left(\\mathcal{P}{\\left(\\theta_{i},\\theta_{j} \\right)} - 1\\right) \\mathcal{P}_1{\\left(\\theta_{i},\\theta_{j} \\right)} \\frac{\\partial}{\\partial \\theta_{i}} \\mathcal{P}_2{\\left(\\theta_{i},\\theta_{j} \\right)}}{\\left(\\mathcal{P}{\\left(\\theta_{i},\\theta_{j} \\right)} + 1\\right)^{2}}\\right) \\frac{\\partial}{\\partial \\theta_{j}} \\mathcal{P}_1{\\left(\\theta_{i},\\theta_{j} \\right)}}{2 \\mathcal{P}_1{\\left(\\theta_{i},\\theta_{j} \\right)}} + \\frac{\\left(\\frac{\\left(- \\left(\\mathcal{P}{\\left(\\theta_{i},\\theta_{j} \\right)} - 1\\right) \\mathcal{P}_2{\\left(\\theta_{i},\\theta_{j} \\right)} + \\left(\\mathcal{P}{\\left(\\theta_{i},\\theta_{j} \\right)} + 1\\right) \\mathcal{P}{\\left(\\theta_{i},\\theta_{j} \\right)}\\right) \\frac{\\partial}{\\partial \\theta_{i}} \\mathcal{P}_2{\\left(\\theta_{i},\\theta_{j} \\right)}}{\\left(\\mathcal{P}{\\left(\\theta_{i},\\theta_{j} \\right)} + 1\\right)^{2}} - \\frac{\\left(\\mathcal{P}{\\left(\\theta_{i},\\theta_{j} \\right)} - 1\\right) \\mathcal{P}_2{\\left(\\theta_{i},\\theta_{j} \\right)} \\frac{\\partial}{\\partial \\theta_{i}} \\mathcal{P}_1{\\left(\\theta_{i},\\theta_{j} \\right)}}{\\left(\\mathcal{P}{\\left(\\theta_{i},\\theta_{j} \\right)} + 1\\right)^{2}}\\right) \\frac{\\partial}{\\partial \\theta_{j}} \\mathcal{P}_2{\\left(\\theta_{i},\\theta_{j} \\right)}}{2 \\mathcal{P}_2{\\left(\\theta_{i},\\theta_{j} \\right)}}$"
      ],
      "text/plain": [
       "((-(\\mathcal{P}(\\theta_i, \\theta_j) - 1)*\\mathcal{P}_1(\\theta_i, \\theta_j) + (\\mathcal{P}(\\theta_i, \\theta_j) + 1)*\\mathcal{P}(\\theta_i, \\theta_j))*Derivative(\\mathcal{P}_1(\\theta_i, \\theta_j), \\theta_i)/(\\mathcal{P}(\\theta_i, \\theta_j) + 1)**2 - (\\mathcal{P}(\\theta_i, \\theta_j) - 1)*\\mathcal{P}_1(\\theta_i, \\theta_j)*Derivative(\\mathcal{P}_2(\\theta_i, \\theta_j), \\theta_i)/(\\mathcal{P}(\\theta_i, \\theta_j) + 1)**2)*Derivative(\\mathcal{P}_1(\\theta_i, \\theta_j), \\theta_j)/(2*\\mathcal{P}_1(\\theta_i, \\theta_j)) + ((-(\\mathcal{P}(\\theta_i, \\theta_j) - 1)*\\mathcal{P}_2(\\theta_i, \\theta_j) + (\\mathcal{P}(\\theta_i, \\theta_j) + 1)*\\mathcal{P}(\\theta_i, \\theta_j))*Derivative(\\mathcal{P}_2(\\theta_i, \\theta_j), \\theta_i)/(\\mathcal{P}(\\theta_i, \\theta_j) + 1)**2 - (\\mathcal{P}(\\theta_i, \\theta_j) - 1)*\\mathcal{P}_2(\\theta_i, \\theta_j)*Derivative(\\mathcal{P}_1(\\theta_i, \\theta_j), \\theta_i)/(\\mathcal{P}(\\theta_i, \\theta_j) + 1)**2)*Derivative(\\mathcal{P}_2(\\theta_i, \\theta_j), \\theta_j)/(2*\\mathcal{P}_2(\\theta_i, \\theta_j))"
      ]
     },
     "execution_count": 9,
     "metadata": {},
     "output_type": "execute_result"
    }
   ],
   "source": [
    "res=(diffi@Fij@diffj/2)[0]\n",
    "res"
   ]
  },
  {
   "cell_type": "code",
   "execution_count": 10,
   "metadata": {},
   "outputs": [
    {
     "data": {
      "text/latex": [
       "$\\displaystyle \\frac{- k_{1}^{2} k_{2}^{2} n_{1} n_{2} \\left(k_{1}^{2} k_{2}^{2} n_{1} n_{2} \\left(k_{1}^{2} n_{1} P{\\left(\\theta_{i},\\theta_{j} \\right)} + k_{2}^{2} n_{2} P{\\left(\\theta_{i},\\theta_{j} \\right)} - 1\\right) \\frac{\\partial}{\\partial \\theta_{i}} P{\\left(\\theta_{i},\\theta_{j} \\right)} + k_{1}^{2} n_{1} \\left(k_{1}^{2} n_{1} \\left(k_{1}^{2} n_{1} P{\\left(\\theta_{i},\\theta_{j} \\right)} + k_{2}^{2} n_{2} P{\\left(\\theta_{i},\\theta_{j} \\right)} - 1\\right) - \\left(k_{1}^{2} n_{1} + k_{2}^{2} n_{2}\\right) \\left(k_{1}^{2} n_{1} P{\\left(\\theta_{i},\\theta_{j} \\right)} + k_{2}^{2} n_{2} P{\\left(\\theta_{i},\\theta_{j} \\right)} + 1\\right)\\right) \\frac{\\partial}{\\partial \\theta_{i}} P{\\left(\\theta_{i},\\theta_{j} \\right)}\\right) \\frac{\\partial}{\\partial \\theta_{j}} P{\\left(\\theta_{i},\\theta_{j} \\right)} - k_{1}^{2} k_{2}^{2} n_{1} n_{2} \\left(k_{1}^{2} k_{2}^{2} n_{1} n_{2} \\left(k_{1}^{2} n_{1} P{\\left(\\theta_{i},\\theta_{j} \\right)} + k_{2}^{2} n_{2} P{\\left(\\theta_{i},\\theta_{j} \\right)} - 1\\right) \\frac{\\partial}{\\partial \\theta_{i}} P{\\left(\\theta_{i},\\theta_{j} \\right)} + k_{2}^{2} n_{2} \\left(k_{2}^{2} n_{2} \\left(k_{1}^{2} n_{1} P{\\left(\\theta_{i},\\theta_{j} \\right)} + k_{2}^{2} n_{2} P{\\left(\\theta_{i},\\theta_{j} \\right)} - 1\\right) - \\left(k_{1}^{2} n_{1} + k_{2}^{2} n_{2}\\right) \\left(k_{1}^{2} n_{1} P{\\left(\\theta_{i},\\theta_{j} \\right)} + k_{2}^{2} n_{2} P{\\left(\\theta_{i},\\theta_{j} \\right)} + 1\\right)\\right) \\frac{\\partial}{\\partial \\theta_{i}} P{\\left(\\theta_{i},\\theta_{j} \\right)}\\right) \\frac{\\partial}{\\partial \\theta_{j}} P{\\left(\\theta_{i},\\theta_{j} \\right)}}{2 k_{1}^{2} k_{2}^{2} n_{1} n_{2} \\left(k_{1}^{2} n_{1} P{\\left(\\theta_{i},\\theta_{j} \\right)} + k_{2}^{2} n_{2} P{\\left(\\theta_{i},\\theta_{j} \\right)} + 1\\right)^{2}}$"
      ],
      "text/plain": [
       "(-k1**2*k2**2*n1*n2*(k1**2*k2**2*n1*n2*(k1**2*n1*P(\\theta_i, \\theta_j) + k2**2*n2*P(\\theta_i, \\theta_j) - 1)*Derivative(P(\\theta_i, \\theta_j), \\theta_i) + k1**2*n1*(k1**2*n1*(k1**2*n1*P(\\theta_i, \\theta_j) + k2**2*n2*P(\\theta_i, \\theta_j) - 1) - (k1**2*n1 + k2**2*n2)*(k1**2*n1*P(\\theta_i, \\theta_j) + k2**2*n2*P(\\theta_i, \\theta_j) + 1))*Derivative(P(\\theta_i, \\theta_j), \\theta_i))*Derivative(P(\\theta_i, \\theta_j), \\theta_j) - k1**2*k2**2*n1*n2*(k1**2*k2**2*n1*n2*(k1**2*n1*P(\\theta_i, \\theta_j) + k2**2*n2*P(\\theta_i, \\theta_j) - 1)*Derivative(P(\\theta_i, \\theta_j), \\theta_i) + k2**2*n2*(k2**2*n2*(k1**2*n1*P(\\theta_i, \\theta_j) + k2**2*n2*P(\\theta_i, \\theta_j) - 1) - (k1**2*n1 + k2**2*n2)*(k1**2*n1*P(\\theta_i, \\theta_j) + k2**2*n2*P(\\theta_i, \\theta_j) + 1))*Derivative(P(\\theta_i, \\theta_j), \\theta_i))*Derivative(P(\\theta_i, \\theta_j), \\theta_j))/(2*k1**2*k2**2*n1*n2*(k1**2*n1*P(\\theta_i, \\theta_j) + k2**2*n2*P(\\theta_i, \\theta_j) + 1)**2)"
      ]
     },
     "execution_count": 10,
     "metadata": {},
     "output_type": "execute_result"
    }
   ],
   "source": [
    "res=res.subs(bigp,p1+p2)\n",
    "res=res.subs(p1,n1*k1**2*P)\n",
    "res=res.subs(p2,n2*k2**2*P)\n",
    "res=res.simplify()\n",
    "res"
   ]
  },
  {
   "cell_type": "code",
   "execution_count": 12,
   "metadata": {},
   "outputs": [
    {
     "data": {
      "text/latex": [
       "$\\displaystyle \\text{True}$"
      ],
      "text/plain": [
       "True"
      ]
     },
     "execution_count": 12,
     "metadata": {},
     "output_type": "execute_result"
    }
   ],
   "source": [
    "sp.Eq(tr,res).simplify()"
   ]
  }
 ],
 "metadata": {
  "kernelspec": {
   "display_name": "base",
   "language": "python",
   "name": "python3"
  },
  "language_info": {
   "codemirror_mode": {
    "name": "ipython",
    "version": 3
   },
   "file_extension": ".py",
   "mimetype": "text/x-python",
   "name": "python",
   "nbconvert_exporter": "python",
   "pygments_lexer": "ipython3",
   "version": "3.12.3"
  }
 },
 "nbformat": 4,
 "nbformat_minor": 2
}
