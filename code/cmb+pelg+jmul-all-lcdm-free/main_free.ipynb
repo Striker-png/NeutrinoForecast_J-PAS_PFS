{
 "cells": [
  {
   "cell_type": "code",
   "execution_count": 1,
   "metadata": {},
   "outputs": [],
   "source": [
    "import numpy as np\n",
    "import pandas as pd\n",
    "from starfish.plot import *"
   ]
  },
  {
   "cell_type": "code",
   "execution_count": 2,
   "metadata": {},
   "outputs": [
    {
     "data": {
      "text/plain": [
       "[0.32, 0.049, 0.67, 0.96, 0.81, 0.06, 3.044]"
      ]
     },
     "execution_count": 2,
     "metadata": {},
     "output_type": "execute_result"
    }
   ],
   "source": [
    "from starfish.set import settings\n",
    "settings.cosmo_value"
   ]
  },
  {
   "cell_type": "code",
   "execution_count": 3,
   "metadata": {},
   "outputs": [],
   "source": [
    "def var_filter(fisher,lcdm,neff_fixed):\n",
    "    df=fisher.copy()\n",
    "    if lcdm:\n",
    "        df=df.drop('w0',axis=0)\n",
    "        df=df.drop('w0',axis=1)\n",
    "        df=df.drop('wa',axis=0)\n",
    "        df=df.drop('wa',axis=1)\n",
    "    if neff_fixed:\n",
    "        df=df.drop('N_eff',axis=0)\n",
    "        df=df.drop('N_eff',axis=1)\n",
    "\n",
    "    return df"
   ]
  },
  {
   "cell_type": "markdown",
   "metadata": {},
   "source": [
    "# nuisance parameters of different tracers/surveys should be independent of each other"
   ]
  },
  {
   "cell_type": "code",
   "execution_count": 4,
   "metadata": {},
   "outputs": [],
   "source": [
    "JPAS_multi=var_filter(pd.read_excel('../data/jpas_all/valid.xlsx',header=0,index_col=0),lcdm=True,neff_fixed=False)\n",
    "cov=pd.DataFrame(np.linalg.inv(JPAS_multi.values),index=JPAS_multi.index,columns=JPAS_multi.columns)\n",
    "JPAS_multi_valid=np.linalg.inv(cov.iloc[:settings.cosmo_num,:settings.cosmo_num].values)"
   ]
  },
  {
   "cell_type": "code",
   "execution_count": 5,
   "metadata": {},
   "outputs": [],
   "source": [
    "PFS_ELG=var_filter(pd.read_excel('../data/PFS/fisher.xlsx',header=0,index_col=0),lcdm=True,neff_fixed=False)\n",
    "cov=pd.DataFrame(np.linalg.inv(PFS_ELG.values),index=PFS_ELG.index,columns=PFS_ELG.columns)\n",
    "PFS_ELG_valid=np.linalg.inv(cov.iloc[:settings.cosmo_num,:settings.cosmo_num].values)"
   ]
  },
  {
   "cell_type": "markdown",
   "metadata": {},
   "source": [
    "# J-PAS multitracer + PFS ELG"
   ]
  },
  {
   "cell_type": "code",
   "execution_count": 6,
   "metadata": {},
   "outputs": [
    {
     "data": {
      "application/vnd.microsoft.datawrangler.viewer.v0+json": {
       "columns": [
        {
         "name": "index",
         "rawType": "object",
         "type": "string"
        },
        {
         "name": "omega_m0",
         "rawType": "float64",
         "type": "float"
        },
        {
         "name": "omega_b0",
         "rawType": "float64",
         "type": "float"
        },
        {
         "name": "h",
         "rawType": "float64",
         "type": "float"
        },
        {
         "name": "n_s",
         "rawType": "float64",
         "type": "float"
        },
        {
         "name": "sigma_8",
         "rawType": "float64",
         "type": "float"
        },
        {
         "name": "m_nu",
         "rawType": "float64",
         "type": "float"
        },
        {
         "name": "N_eff",
         "rawType": "float64",
         "type": "float"
        }
       ],
       "conversionMethod": "pd.DataFrame",
       "ref": "526791c9-7a82-47c0-a678-306f0264db1b",
       "rows": [
        [
         "omega_m0",
         "543831.9299773615",
         "-985857.6471267341",
         "74888.07319691582",
         "221829.0705369968",
         "-10062.167936648064",
         "-22067.404750382455",
         "-8468.205857388548"
        ],
        [
         "omega_b0",
         "-985857.6471268946",
         "2505464.025068455",
         "-410464.01183873805",
         "-423082.66015254793",
         "44839.01953056225",
         "42500.38954619981",
         "21380.711460282582"
        ],
        [
         "h",
         "74888.07319717022",
         "-410464.0118393301",
         "285152.2969910655",
         "48556.94444987269",
         "-98803.1210075645",
         "-5392.025980891094",
         "-4066.1145024145535"
        ],
        [
         "n_s",
         "221829.07053707066",
         "-423082.6601526654",
         "48556.944449784096",
         "103838.21847164152",
         "-17728.69561111001",
         "-10113.712010785415",
         "-3841.449517843331"
        ],
        [
         "sigma_8",
         "-10062.167936679485",
         "44839.01953062016",
         "-98803.12100751026",
         "-17728.69561110494",
         "82575.26717294577",
         "3933.3863476392926",
         "457.330952358244"
        ],
        [
         "m_nu",
         "-22067.404750381058",
         "42500.38954618968",
         "-5392.025980876083",
         "-10113.712010780016",
         "3933.386347636484",
         "1160.7921677750387",
         "371.74324955566783"
        ],
        [
         "N_eff",
         "-8468.20585739262",
         "21380.711460290888",
         "-4066.114502411814",
         "-3841.4495178436605",
         "457.33095235846173",
         "371.7432495558994",
         "198.3591353862848"
        ]
       ],
       "shape": {
        "columns": 7,
        "rows": 7
       }
      },
      "text/html": [
       "<div>\n",
       "<style scoped>\n",
       "    .dataframe tbody tr th:only-of-type {\n",
       "        vertical-align: middle;\n",
       "    }\n",
       "\n",
       "    .dataframe tbody tr th {\n",
       "        vertical-align: top;\n",
       "    }\n",
       "\n",
       "    .dataframe thead th {\n",
       "        text-align: right;\n",
       "    }\n",
       "</style>\n",
       "<table border=\"1\" class=\"dataframe\">\n",
       "  <thead>\n",
       "    <tr style=\"text-align: right;\">\n",
       "      <th></th>\n",
       "      <th>omega_m0</th>\n",
       "      <th>omega_b0</th>\n",
       "      <th>h</th>\n",
       "      <th>n_s</th>\n",
       "      <th>sigma_8</th>\n",
       "      <th>m_nu</th>\n",
       "      <th>N_eff</th>\n",
       "    </tr>\n",
       "  </thead>\n",
       "  <tbody>\n",
       "    <tr>\n",
       "      <th>omega_m0</th>\n",
       "      <td>543831.929977</td>\n",
       "      <td>-9.858576e+05</td>\n",
       "      <td>74888.073197</td>\n",
       "      <td>221829.070537</td>\n",
       "      <td>-10062.167937</td>\n",
       "      <td>-22067.404750</td>\n",
       "      <td>-8468.205857</td>\n",
       "    </tr>\n",
       "    <tr>\n",
       "      <th>omega_b0</th>\n",
       "      <td>-985857.647127</td>\n",
       "      <td>2.505464e+06</td>\n",
       "      <td>-410464.011839</td>\n",
       "      <td>-423082.660153</td>\n",
       "      <td>44839.019531</td>\n",
       "      <td>42500.389546</td>\n",
       "      <td>21380.711460</td>\n",
       "    </tr>\n",
       "    <tr>\n",
       "      <th>h</th>\n",
       "      <td>74888.073197</td>\n",
       "      <td>-4.104640e+05</td>\n",
       "      <td>285152.296991</td>\n",
       "      <td>48556.944450</td>\n",
       "      <td>-98803.121008</td>\n",
       "      <td>-5392.025981</td>\n",
       "      <td>-4066.114502</td>\n",
       "    </tr>\n",
       "    <tr>\n",
       "      <th>n_s</th>\n",
       "      <td>221829.070537</td>\n",
       "      <td>-4.230827e+05</td>\n",
       "      <td>48556.944450</td>\n",
       "      <td>103838.218472</td>\n",
       "      <td>-17728.695611</td>\n",
       "      <td>-10113.712011</td>\n",
       "      <td>-3841.449518</td>\n",
       "    </tr>\n",
       "    <tr>\n",
       "      <th>sigma_8</th>\n",
       "      <td>-10062.167937</td>\n",
       "      <td>4.483902e+04</td>\n",
       "      <td>-98803.121008</td>\n",
       "      <td>-17728.695611</td>\n",
       "      <td>82575.267173</td>\n",
       "      <td>3933.386348</td>\n",
       "      <td>457.330952</td>\n",
       "    </tr>\n",
       "    <tr>\n",
       "      <th>m_nu</th>\n",
       "      <td>-22067.404750</td>\n",
       "      <td>4.250039e+04</td>\n",
       "      <td>-5392.025981</td>\n",
       "      <td>-10113.712011</td>\n",
       "      <td>3933.386348</td>\n",
       "      <td>1160.792168</td>\n",
       "      <td>371.743250</td>\n",
       "    </tr>\n",
       "    <tr>\n",
       "      <th>N_eff</th>\n",
       "      <td>-8468.205857</td>\n",
       "      <td>2.138071e+04</td>\n",
       "      <td>-4066.114502</td>\n",
       "      <td>-3841.449518</td>\n",
       "      <td>457.330952</td>\n",
       "      <td>371.743250</td>\n",
       "      <td>198.359135</td>\n",
       "    </tr>\n",
       "  </tbody>\n",
       "</table>\n",
       "</div>"
      ],
      "text/plain": [
       "               omega_m0      omega_b0              h            n_s  \\\n",
       "omega_m0  543831.929977 -9.858576e+05   74888.073197  221829.070537   \n",
       "omega_b0 -985857.647127  2.505464e+06 -410464.011839 -423082.660153   \n",
       "h          74888.073197 -4.104640e+05  285152.296991   48556.944450   \n",
       "n_s       221829.070537 -4.230827e+05   48556.944450  103838.218472   \n",
       "sigma_8   -10062.167937  4.483902e+04  -98803.121008  -17728.695611   \n",
       "m_nu      -22067.404750  4.250039e+04   -5392.025981  -10113.712011   \n",
       "N_eff      -8468.205857  2.138071e+04   -4066.114502   -3841.449518   \n",
       "\n",
       "               sigma_8          m_nu         N_eff  \n",
       "omega_m0 -10062.167937 -22067.404750  -8468.205857  \n",
       "omega_b0  44839.019531  42500.389546  21380.711460  \n",
       "h        -98803.121008  -5392.025981  -4066.114502  \n",
       "n_s      -17728.695611 -10113.712011  -3841.449518  \n",
       "sigma_8   82575.267173   3933.386348    457.330952  \n",
       "m_nu       3933.386348   1160.792168    371.743250  \n",
       "N_eff       457.330952    371.743250    198.359135  "
      ]
     },
     "execution_count": 6,
     "metadata": {},
     "output_type": "execute_result"
    }
   ],
   "source": [
    "fisher1=pd.DataFrame(JPAS_multi_valid+PFS_ELG_valid,index=settings.var_name,columns=settings.var_name)\n",
    "fisher1.to_excel('../data/combined/pelg+jmul-lcdm-free.xlsx')\n",
    "fisher1"
   ]
  },
  {
   "cell_type": "code",
   "execution_count": 7,
   "metadata": {},
   "outputs": [
    {
     "data": {
      "application/vnd.microsoft.datawrangler.viewer.v0+json": {
       "columns": [
        {
         "name": "index",
         "rawType": "object",
         "type": "string"
        },
        {
         "name": "omega_m0",
         "rawType": "float64",
         "type": "float"
        },
        {
         "name": "omega_b0",
         "rawType": "float64",
         "type": "float"
        },
        {
         "name": "h",
         "rawType": "float64",
         "type": "float"
        },
        {
         "name": "n_s",
         "rawType": "float64",
         "type": "float"
        },
        {
         "name": "sigma_8",
         "rawType": "float64",
         "type": "float"
        },
        {
         "name": "m_nu",
         "rawType": "float64",
         "type": "float"
        },
        {
         "name": "N_eff",
         "rawType": "float64",
         "type": "float"
        }
       ],
       "conversionMethod": "pd.DataFrame",
       "ref": "76e77fa8-6c19-4c4e-9e64-56514b5ede08",
       "rows": [
        [
         "omega_m0",
         "3.60881022924595e-05",
         "2.6743335602100923e-06",
         "-3.7961993888573626e-05",
         "-3.5899941482176294e-05",
         "-8.750876047300776e-05",
         "0.0010047311362467908",
         "-0.0019022307885598472"
        ],
        [
         "omega_b0",
         "2.674333560211917e-06",
         "7.395206038345502e-06",
         "8.40292484761161e-06",
         "-1.2098308666766763e-05",
         "1.666786739544297e-05",
         "-0.00022982358392834202",
         "-0.0003527093037814782"
        ],
        [
         "h",
         "-3.796199388857758e-05",
         "8.402924847617267e-06",
         "0.00013307058868140855",
         "1.003021573524528e-05",
         "0.00025932201168543266",
         "-0.002845699147499502",
         "0.005130864233115979"
        ],
        [
         "n_s",
         "-3.589994148214386e-05",
         "-1.209830866675949e-05",
         "1.0030215735239811e-05",
         "0.0001572042916909053",
         "1.5842117116832523e-05",
         "0.0004180364665685954",
         "0.002201518888106442"
        ],
        [
         "sigma_8",
         "-8.750876047302487e-05",
         "1.6667867395448197e-05",
         "0.0002593220116854336",
         "1.584211711686192e-05",
         "0.0005336312926176778",
         "-0.00593845694355198",
         "0.009989012074698045"
        ],
        [
         "m_nu",
         "0.001004731136247221",
         "-0.0002298235839283222",
         "-0.0028456991474995214",
         "0.0004180364665673564",
         "-0.005938456943551874",
         "0.07242448878013914",
         "-0.1046106868685729"
        ],
        [
         "N_eff",
         "-0.0019022307885602462",
         "-0.00035270930378148867",
         "0.005130864233116773",
         "0.0022015188881075952",
         "0.00998901207469885",
         "-0.10461068686857228",
         "0.2826813660358851"
        ]
       ],
       "shape": {
        "columns": 7,
        "rows": 7
       }
      },
      "text/html": [
       "<div>\n",
       "<style scoped>\n",
       "    .dataframe tbody tr th:only-of-type {\n",
       "        vertical-align: middle;\n",
       "    }\n",
       "\n",
       "    .dataframe tbody tr th {\n",
       "        vertical-align: top;\n",
       "    }\n",
       "\n",
       "    .dataframe thead th {\n",
       "        text-align: right;\n",
       "    }\n",
       "</style>\n",
       "<table border=\"1\" class=\"dataframe\">\n",
       "  <thead>\n",
       "    <tr style=\"text-align: right;\">\n",
       "      <th></th>\n",
       "      <th>omega_m0</th>\n",
       "      <th>omega_b0</th>\n",
       "      <th>h</th>\n",
       "      <th>n_s</th>\n",
       "      <th>sigma_8</th>\n",
       "      <th>m_nu</th>\n",
       "      <th>N_eff</th>\n",
       "    </tr>\n",
       "  </thead>\n",
       "  <tbody>\n",
       "    <tr>\n",
       "      <th>omega_m0</th>\n",
       "      <td>0.000036</td>\n",
       "      <td>0.000003</td>\n",
       "      <td>-0.000038</td>\n",
       "      <td>-0.000036</td>\n",
       "      <td>-0.000088</td>\n",
       "      <td>0.001005</td>\n",
       "      <td>-0.001902</td>\n",
       "    </tr>\n",
       "    <tr>\n",
       "      <th>omega_b0</th>\n",
       "      <td>0.000003</td>\n",
       "      <td>0.000007</td>\n",
       "      <td>0.000008</td>\n",
       "      <td>-0.000012</td>\n",
       "      <td>0.000017</td>\n",
       "      <td>-0.000230</td>\n",
       "      <td>-0.000353</td>\n",
       "    </tr>\n",
       "    <tr>\n",
       "      <th>h</th>\n",
       "      <td>-0.000038</td>\n",
       "      <td>0.000008</td>\n",
       "      <td>0.000133</td>\n",
       "      <td>0.000010</td>\n",
       "      <td>0.000259</td>\n",
       "      <td>-0.002846</td>\n",
       "      <td>0.005131</td>\n",
       "    </tr>\n",
       "    <tr>\n",
       "      <th>n_s</th>\n",
       "      <td>-0.000036</td>\n",
       "      <td>-0.000012</td>\n",
       "      <td>0.000010</td>\n",
       "      <td>0.000157</td>\n",
       "      <td>0.000016</td>\n",
       "      <td>0.000418</td>\n",
       "      <td>0.002202</td>\n",
       "    </tr>\n",
       "    <tr>\n",
       "      <th>sigma_8</th>\n",
       "      <td>-0.000088</td>\n",
       "      <td>0.000017</td>\n",
       "      <td>0.000259</td>\n",
       "      <td>0.000016</td>\n",
       "      <td>0.000534</td>\n",
       "      <td>-0.005938</td>\n",
       "      <td>0.009989</td>\n",
       "    </tr>\n",
       "    <tr>\n",
       "      <th>m_nu</th>\n",
       "      <td>0.001005</td>\n",
       "      <td>-0.000230</td>\n",
       "      <td>-0.002846</td>\n",
       "      <td>0.000418</td>\n",
       "      <td>-0.005938</td>\n",
       "      <td>0.072424</td>\n",
       "      <td>-0.104611</td>\n",
       "    </tr>\n",
       "    <tr>\n",
       "      <th>N_eff</th>\n",
       "      <td>-0.001902</td>\n",
       "      <td>-0.000353</td>\n",
       "      <td>0.005131</td>\n",
       "      <td>0.002202</td>\n",
       "      <td>0.009989</td>\n",
       "      <td>-0.104611</td>\n",
       "      <td>0.282681</td>\n",
       "    </tr>\n",
       "  </tbody>\n",
       "</table>\n",
       "</div>"
      ],
      "text/plain": [
       "          omega_m0  omega_b0         h       n_s   sigma_8      m_nu     N_eff\n",
       "omega_m0  0.000036  0.000003 -0.000038 -0.000036 -0.000088  0.001005 -0.001902\n",
       "omega_b0  0.000003  0.000007  0.000008 -0.000012  0.000017 -0.000230 -0.000353\n",
       "h        -0.000038  0.000008  0.000133  0.000010  0.000259 -0.002846  0.005131\n",
       "n_s      -0.000036 -0.000012  0.000010  0.000157  0.000016  0.000418  0.002202\n",
       "sigma_8  -0.000088  0.000017  0.000259  0.000016  0.000534 -0.005938  0.009989\n",
       "m_nu      0.001005 -0.000230 -0.002846  0.000418 -0.005938  0.072424 -0.104611\n",
       "N_eff    -0.001902 -0.000353  0.005131  0.002202  0.009989 -0.104611  0.282681"
      ]
     },
     "execution_count": 7,
     "metadata": {},
     "output_type": "execute_result"
    }
   ],
   "source": [
    "cov1=pd.DataFrame(np.linalg.inv(fisher1.values),index=settings.var_name,columns=settings.var_name)\n",
    "cov1"
   ]
  },
  {
   "cell_type": "code",
   "execution_count": 8,
   "metadata": {},
   "outputs": [
    {
     "name": "stdout",
     "output_type": "stream",
     "text": [
      "1-sigma errors:\n",
      "-- omega_m0: 6.0e-03\n",
      "-- omega_b0: 2.7e-03\n",
      "--        h: 1.2e-02\n",
      "--      n_s: 1.3e-02\n",
      "--  sigma_8: 2.3e-02\n",
      "--     m_nu: 2.7e-01\n",
      "--    N_eff: 5.3e-01\n"
     ]
    }
   ],
   "source": [
    "name_width=max([len(v) for v in settings.var_name])\n",
    "error_dict=dict(zip(settings.var_name,np.sqrt(np.diag(cov1.values))))\n",
    "print('1-sigma errors:')\n",
    "for key in error_dict.keys():\n",
    "    print(f'-- {key.rjust(name_width)}: {error_dict[key]:.1e}')"
   ]
  },
  {
   "cell_type": "markdown",
   "metadata": {},
   "source": [
    "# + CMB-S4 + LiteBIRD"
   ]
  },
  {
   "cell_type": "code",
   "execution_count": 9,
   "metadata": {},
   "outputs": [
    {
     "data": {
      "application/vnd.microsoft.datawrangler.viewer.v0+json": {
       "columns": [
        {
         "name": "index",
         "rawType": "object",
         "type": "string"
        },
        {
         "name": "omega_m0",
         "rawType": "float64",
         "type": "float"
        },
        {
         "name": "omega_b0",
         "rawType": "float64",
         "type": "float"
        },
        {
         "name": "h",
         "rawType": "float64",
         "type": "float"
        },
        {
         "name": "n_s",
         "rawType": "float64",
         "type": "float"
        },
        {
         "name": "sigma_8",
         "rawType": "float64",
         "type": "float"
        },
        {
         "name": "m_nu",
         "rawType": "float64",
         "type": "float"
        },
        {
         "name": "N_eff",
         "rawType": "float64",
         "type": "float"
        },
        {
         "name": "tau",
         "rawType": "float64",
         "type": "float"
        }
       ],
       "conversionMethod": "pd.DataFrame",
       "ref": "d7c74f2b-32f3-4af3-9297-756807368268",
       "rows": [
        [
         "omega_m0",
         "185128827.2032204",
         "-692898147.965669",
         "137105704.1822474",
         "-4740935.5909728",
         "-57824336.49902042",
         "-12447147.39915775",
         "-6589565.032637624",
         "44850335.90973126"
        ],
        [
         "omega_b0",
         "-692898147.965669",
         "3023402063.7132",
         "-458354152.9478175",
         "32060982.8601459",
         "222609446.857868",
         "47145032.98248264",
         "23282304.91692092",
         "-171421945.9644465"
        ],
        [
         "h",
         "137105704.1822474",
         "-458354152.9478175",
         "112570195.9145628",
         "-1894717.528196103",
         "-38173852.29402938",
         "-7840065.595027551",
         "-5484485.3914593",
         "29626603.15036413"
        ],
        [
         "n_s",
         "-4740935.5909728",
         "32060982.8601459",
         "-1894717.528196103",
         "1046894.876764914",
         "1665062.528972976",
         "314995.9056964207",
         "112570.0547995077",
         "-1284038.782650934"
        ],
        [
         "sigma_8",
         "-57824336.49902042",
         "222609446.857868",
         "-38173852.29402937",
         "1665062.528972976",
         "22361670.04211807",
         "5252308.014423977",
         "1591678.691991868",
         "-17311887.25329487"
        ],
        [
         "m_nu",
         "-12447147.39915775",
         "47145032.98248264",
         "-7840065.595027551",
         "314995.9056964208",
         "5252308.014423977",
         "1282974.971498364",
         "294682.0272687076",
         "-4090355.805696196"
        ],
        [
         "N_eff",
         "-6589565.032637624",
         "23282304.91692092",
         "-5484485.3914593",
         "112570.0547995077",
         "1591678.691991868",
         "294682.0272687076",
         "288494.3636698526",
         "-1230549.691288918"
        ],
        [
         "tau",
         "44850335.90973125",
         "-171421945.9644465",
         "29626603.15036413",
         "-1284038.782650934",
         "-17311887.25329487",
         "-4090355.805696196",
         "-1230549.691288918",
         "13743610.01478225"
        ]
       ],
       "shape": {
        "columns": 8,
        "rows": 8
       }
      },
      "text/html": [
       "<div>\n",
       "<style scoped>\n",
       "    .dataframe tbody tr th:only-of-type {\n",
       "        vertical-align: middle;\n",
       "    }\n",
       "\n",
       "    .dataframe tbody tr th {\n",
       "        vertical-align: top;\n",
       "    }\n",
       "\n",
       "    .dataframe thead th {\n",
       "        text-align: right;\n",
       "    }\n",
       "</style>\n",
       "<table border=\"1\" class=\"dataframe\">\n",
       "  <thead>\n",
       "    <tr style=\"text-align: right;\">\n",
       "      <th></th>\n",
       "      <th>omega_m0</th>\n",
       "      <th>omega_b0</th>\n",
       "      <th>h</th>\n",
       "      <th>n_s</th>\n",
       "      <th>sigma_8</th>\n",
       "      <th>m_nu</th>\n",
       "      <th>N_eff</th>\n",
       "      <th>tau</th>\n",
       "    </tr>\n",
       "  </thead>\n",
       "  <tbody>\n",
       "    <tr>\n",
       "      <th>omega_m0</th>\n",
       "      <td>1.851288e+08</td>\n",
       "      <td>-6.928981e+08</td>\n",
       "      <td>1.371057e+08</td>\n",
       "      <td>-4.740936e+06</td>\n",
       "      <td>-5.782434e+07</td>\n",
       "      <td>-1.244715e+07</td>\n",
       "      <td>-6.589565e+06</td>\n",
       "      <td>4.485034e+07</td>\n",
       "    </tr>\n",
       "    <tr>\n",
       "      <th>omega_b0</th>\n",
       "      <td>-6.928981e+08</td>\n",
       "      <td>3.023402e+09</td>\n",
       "      <td>-4.583542e+08</td>\n",
       "      <td>3.206098e+07</td>\n",
       "      <td>2.226094e+08</td>\n",
       "      <td>4.714503e+07</td>\n",
       "      <td>2.328230e+07</td>\n",
       "      <td>-1.714219e+08</td>\n",
       "    </tr>\n",
       "    <tr>\n",
       "      <th>h</th>\n",
       "      <td>1.371057e+08</td>\n",
       "      <td>-4.583542e+08</td>\n",
       "      <td>1.125702e+08</td>\n",
       "      <td>-1.894718e+06</td>\n",
       "      <td>-3.817385e+07</td>\n",
       "      <td>-7.840066e+06</td>\n",
       "      <td>-5.484485e+06</td>\n",
       "      <td>2.962660e+07</td>\n",
       "    </tr>\n",
       "    <tr>\n",
       "      <th>n_s</th>\n",
       "      <td>-4.740936e+06</td>\n",
       "      <td>3.206098e+07</td>\n",
       "      <td>-1.894718e+06</td>\n",
       "      <td>1.046895e+06</td>\n",
       "      <td>1.665063e+06</td>\n",
       "      <td>3.149959e+05</td>\n",
       "      <td>1.125701e+05</td>\n",
       "      <td>-1.284039e+06</td>\n",
       "    </tr>\n",
       "    <tr>\n",
       "      <th>sigma_8</th>\n",
       "      <td>-5.782434e+07</td>\n",
       "      <td>2.226094e+08</td>\n",
       "      <td>-3.817385e+07</td>\n",
       "      <td>1.665063e+06</td>\n",
       "      <td>2.236167e+07</td>\n",
       "      <td>5.252308e+06</td>\n",
       "      <td>1.591679e+06</td>\n",
       "      <td>-1.731189e+07</td>\n",
       "    </tr>\n",
       "    <tr>\n",
       "      <th>m_nu</th>\n",
       "      <td>-1.244715e+07</td>\n",
       "      <td>4.714503e+07</td>\n",
       "      <td>-7.840066e+06</td>\n",
       "      <td>3.149959e+05</td>\n",
       "      <td>5.252308e+06</td>\n",
       "      <td>1.282975e+06</td>\n",
       "      <td>2.946820e+05</td>\n",
       "      <td>-4.090356e+06</td>\n",
       "    </tr>\n",
       "    <tr>\n",
       "      <th>N_eff</th>\n",
       "      <td>-6.589565e+06</td>\n",
       "      <td>2.328230e+07</td>\n",
       "      <td>-5.484485e+06</td>\n",
       "      <td>1.125701e+05</td>\n",
       "      <td>1.591679e+06</td>\n",
       "      <td>2.946820e+05</td>\n",
       "      <td>2.884944e+05</td>\n",
       "      <td>-1.230550e+06</td>\n",
       "    </tr>\n",
       "    <tr>\n",
       "      <th>tau</th>\n",
       "      <td>4.485034e+07</td>\n",
       "      <td>-1.714219e+08</td>\n",
       "      <td>2.962660e+07</td>\n",
       "      <td>-1.284039e+06</td>\n",
       "      <td>-1.731189e+07</td>\n",
       "      <td>-4.090356e+06</td>\n",
       "      <td>-1.230550e+06</td>\n",
       "      <td>1.374361e+07</td>\n",
       "    </tr>\n",
       "  </tbody>\n",
       "</table>\n",
       "</div>"
      ],
      "text/plain": [
       "              omega_m0      omega_b0             h           n_s  \\\n",
       "omega_m0  1.851288e+08 -6.928981e+08  1.371057e+08 -4.740936e+06   \n",
       "omega_b0 -6.928981e+08  3.023402e+09 -4.583542e+08  3.206098e+07   \n",
       "h         1.371057e+08 -4.583542e+08  1.125702e+08 -1.894718e+06   \n",
       "n_s      -4.740936e+06  3.206098e+07 -1.894718e+06  1.046895e+06   \n",
       "sigma_8  -5.782434e+07  2.226094e+08 -3.817385e+07  1.665063e+06   \n",
       "m_nu     -1.244715e+07  4.714503e+07 -7.840066e+06  3.149959e+05   \n",
       "N_eff    -6.589565e+06  2.328230e+07 -5.484485e+06  1.125701e+05   \n",
       "tau       4.485034e+07 -1.714219e+08  2.962660e+07 -1.284039e+06   \n",
       "\n",
       "               sigma_8          m_nu         N_eff           tau  \n",
       "omega_m0 -5.782434e+07 -1.244715e+07 -6.589565e+06  4.485034e+07  \n",
       "omega_b0  2.226094e+08  4.714503e+07  2.328230e+07 -1.714219e+08  \n",
       "h        -3.817385e+07 -7.840066e+06 -5.484485e+06  2.962660e+07  \n",
       "n_s       1.665063e+06  3.149959e+05  1.125701e+05 -1.284039e+06  \n",
       "sigma_8   2.236167e+07  5.252308e+06  1.591679e+06 -1.731189e+07  \n",
       "m_nu      5.252308e+06  1.282975e+06  2.946820e+05 -4.090356e+06  \n",
       "N_eff     1.591679e+06  2.946820e+05  2.884944e+05 -1.230550e+06  \n",
       "tau      -1.731189e+07 -4.090356e+06 -1.230550e+06  1.374361e+07  "
      ]
     },
     "execution_count": 9,
     "metadata": {},
     "output_type": "execute_result"
    }
   ],
   "source": [
    "cmb_fisher=var_filter(pd.read_excel('../data/CMB/all.xlsx',header=0,index_col=0),lcdm=True,neff_fixed=False)\n",
    "cmb_fisher"
   ]
  },
  {
   "cell_type": "code",
   "execution_count": 10,
   "metadata": {},
   "outputs": [
    {
     "data": {
      "application/vnd.microsoft.datawrangler.viewer.v0+json": {
       "columns": [
        {
         "name": "index",
         "rawType": "object",
         "type": "string"
        },
        {
         "name": "omega_m0",
         "rawType": "float64",
         "type": "float"
        },
        {
         "name": "omega_b0",
         "rawType": "float64",
         "type": "float"
        },
        {
         "name": "h",
         "rawType": "float64",
         "type": "float"
        },
        {
         "name": "n_s",
         "rawType": "float64",
         "type": "float"
        },
        {
         "name": "sigma_8",
         "rawType": "float64",
         "type": "float"
        },
        {
         "name": "m_nu",
         "rawType": "float64",
         "type": "float"
        },
        {
         "name": "N_eff",
         "rawType": "float64",
         "type": "float"
        }
       ],
       "conversionMethod": "pd.DataFrame",
       "ref": "58f706d2-46d4-4eb8-abb0-325f84e40e68",
       "rows": [
        [
         "omega_m0",
         "38766071.78071214",
         "-133486766.92848329",
         "40423456.8157154",
         "-550655.8419783079",
         "-1329430.3057746557",
         "901152.7693184926",
         "-2573839.4009750113"
        ],
        [
         "omega_b0",
         "-133486766.92852615",
         "885282346.5041722",
         "-88826062.5196537",
         "16045363.486554291",
         "6680924.578423498",
         "-3873349.4618131225",
         "7933846.80003517"
        ],
        [
         "h",
         "40423456.81571067",
         "-88826062.51959188",
         "48705198.77877658",
         "873238.4456975694",
         "-855242.9267983051",
         "977366.5111513683",
         "-2831833.9176889723"
        ],
        [
         "n_s",
         "-550655.8419799169",
         "16045363.486558923",
         "873238.4456957671",
         "926929.6279272496",
         "47646.53636249747",
         "-67158.09050302838",
         "-2397.8121505414592"
        ],
        [
         "sigma_8",
         "-1329430.3057746976",
         "6680924.578422269",
         "-855242.9267984751",
         "47646.53636244847",
         "555067.5593320348",
         "99966.05638607449",
         "41639.25604615199"
        ],
        [
         "m_nu",
         "901152.7693186412",
         "-3873349.4618125577",
         "977366.511151646",
         "-67158.09050299058",
         "99966.05638607063",
         "65608.45722757182",
         "-71552.61330588532"
        ],
        [
         "N_eff",
         "-2573839.4009749386",
         "7933846.800032046",
         "-2831833.917689212",
         "-2397.8121506508337",
         "41639.25604614761",
         "-71552.61330587337",
         "178315.7031066219"
        ]
       ],
       "shape": {
        "columns": 7,
        "rows": 7
       }
      },
      "text/html": [
       "<div>\n",
       "<style scoped>\n",
       "    .dataframe tbody tr th:only-of-type {\n",
       "        vertical-align: middle;\n",
       "    }\n",
       "\n",
       "    .dataframe tbody tr th {\n",
       "        vertical-align: top;\n",
       "    }\n",
       "\n",
       "    .dataframe thead th {\n",
       "        text-align: right;\n",
       "    }\n",
       "</style>\n",
       "<table border=\"1\" class=\"dataframe\">\n",
       "  <thead>\n",
       "    <tr style=\"text-align: right;\">\n",
       "      <th></th>\n",
       "      <th>omega_m0</th>\n",
       "      <th>omega_b0</th>\n",
       "      <th>h</th>\n",
       "      <th>n_s</th>\n",
       "      <th>sigma_8</th>\n",
       "      <th>m_nu</th>\n",
       "      <th>N_eff</th>\n",
       "    </tr>\n",
       "  </thead>\n",
       "  <tbody>\n",
       "    <tr>\n",
       "      <th>omega_m0</th>\n",
       "      <td>3.876607e+07</td>\n",
       "      <td>-1.334868e+08</td>\n",
       "      <td>4.042346e+07</td>\n",
       "      <td>-5.506558e+05</td>\n",
       "      <td>-1.329430e+06</td>\n",
       "      <td>9.011528e+05</td>\n",
       "      <td>-2.573839e+06</td>\n",
       "    </tr>\n",
       "    <tr>\n",
       "      <th>omega_b0</th>\n",
       "      <td>-1.334868e+08</td>\n",
       "      <td>8.852823e+08</td>\n",
       "      <td>-8.882606e+07</td>\n",
       "      <td>1.604536e+07</td>\n",
       "      <td>6.680925e+06</td>\n",
       "      <td>-3.873349e+06</td>\n",
       "      <td>7.933847e+06</td>\n",
       "    </tr>\n",
       "    <tr>\n",
       "      <th>h</th>\n",
       "      <td>4.042346e+07</td>\n",
       "      <td>-8.882606e+07</td>\n",
       "      <td>4.870520e+07</td>\n",
       "      <td>8.732384e+05</td>\n",
       "      <td>-8.552429e+05</td>\n",
       "      <td>9.773665e+05</td>\n",
       "      <td>-2.831834e+06</td>\n",
       "    </tr>\n",
       "    <tr>\n",
       "      <th>n_s</th>\n",
       "      <td>-5.506558e+05</td>\n",
       "      <td>1.604536e+07</td>\n",
       "      <td>8.732384e+05</td>\n",
       "      <td>9.269296e+05</td>\n",
       "      <td>4.764654e+04</td>\n",
       "      <td>-6.715809e+04</td>\n",
       "      <td>-2.397812e+03</td>\n",
       "    </tr>\n",
       "    <tr>\n",
       "      <th>sigma_8</th>\n",
       "      <td>-1.329430e+06</td>\n",
       "      <td>6.680925e+06</td>\n",
       "      <td>-8.552429e+05</td>\n",
       "      <td>4.764654e+04</td>\n",
       "      <td>5.550676e+05</td>\n",
       "      <td>9.996606e+04</td>\n",
       "      <td>4.163926e+04</td>\n",
       "    </tr>\n",
       "    <tr>\n",
       "      <th>m_nu</th>\n",
       "      <td>9.011528e+05</td>\n",
       "      <td>-3.873349e+06</td>\n",
       "      <td>9.773665e+05</td>\n",
       "      <td>-6.715809e+04</td>\n",
       "      <td>9.996606e+04</td>\n",
       "      <td>6.560846e+04</td>\n",
       "      <td>-7.155261e+04</td>\n",
       "    </tr>\n",
       "    <tr>\n",
       "      <th>N_eff</th>\n",
       "      <td>-2.573839e+06</td>\n",
       "      <td>7.933847e+06</td>\n",
       "      <td>-2.831834e+06</td>\n",
       "      <td>-2.397812e+03</td>\n",
       "      <td>4.163926e+04</td>\n",
       "      <td>-7.155261e+04</td>\n",
       "      <td>1.783157e+05</td>\n",
       "    </tr>\n",
       "  </tbody>\n",
       "</table>\n",
       "</div>"
      ],
      "text/plain": [
       "              omega_m0      omega_b0             h           n_s  \\\n",
       "omega_m0  3.876607e+07 -1.334868e+08  4.042346e+07 -5.506558e+05   \n",
       "omega_b0 -1.334868e+08  8.852823e+08 -8.882606e+07  1.604536e+07   \n",
       "h         4.042346e+07 -8.882606e+07  4.870520e+07  8.732384e+05   \n",
       "n_s      -5.506558e+05  1.604536e+07  8.732384e+05  9.269296e+05   \n",
       "sigma_8  -1.329430e+06  6.680925e+06 -8.552429e+05  4.764654e+04   \n",
       "m_nu      9.011528e+05 -3.873349e+06  9.773665e+05 -6.715809e+04   \n",
       "N_eff    -2.573839e+06  7.933847e+06 -2.831834e+06 -2.397812e+03   \n",
       "\n",
       "               sigma_8          m_nu         N_eff  \n",
       "omega_m0 -1.329430e+06  9.011528e+05 -2.573839e+06  \n",
       "omega_b0  6.680925e+06 -3.873349e+06  7.933847e+06  \n",
       "h        -8.552429e+05  9.773665e+05 -2.831834e+06  \n",
       "n_s       4.764654e+04 -6.715809e+04 -2.397812e+03  \n",
       "sigma_8   5.550676e+05  9.996606e+04  4.163926e+04  \n",
       "m_nu      9.996606e+04  6.560846e+04 -7.155261e+04  \n",
       "N_eff     4.163926e+04 -7.155261e+04  1.783157e+05  "
      ]
     },
     "execution_count": 10,
     "metadata": {},
     "output_type": "execute_result"
    }
   ],
   "source": [
    "cmb_cov=pd.DataFrame(np.linalg.inv(cmb_fisher.values),index=cmb_fisher.index,columns=cmb_fisher.columns)\n",
    "cmb_cov_marg=cmb_cov.drop('tau',axis=0)\n",
    "cmb_cov_marg=cmb_cov_marg.drop('tau',axis=1)\n",
    "cmb_fisher_marg=pd.DataFrame(np.linalg.inv(cmb_cov_marg),index=settings.var_name,columns=settings.var_name)\n",
    "cmb_fisher_marg"
   ]
  },
  {
   "cell_type": "code",
   "execution_count": 11,
   "metadata": {},
   "outputs": [
    {
     "data": {
      "application/vnd.microsoft.datawrangler.viewer.v0+json": {
       "columns": [
        {
         "name": "index",
         "rawType": "object",
         "type": "string"
        },
        {
         "name": "omega_m0",
         "rawType": "float64",
         "type": "float"
        },
        {
         "name": "omega_b0",
         "rawType": "float64",
         "type": "float"
        },
        {
         "name": "h",
         "rawType": "float64",
         "type": "float"
        },
        {
         "name": "n_s",
         "rawType": "float64",
         "type": "float"
        },
        {
         "name": "sigma_8",
         "rawType": "float64",
         "type": "float"
        },
        {
         "name": "m_nu",
         "rawType": "float64",
         "type": "float"
        },
        {
         "name": "N_eff",
         "rawType": "float64",
         "type": "float"
        }
       ],
       "conversionMethod": "pd.DataFrame",
       "ref": "a8401ab3-65dd-47e2-8925-2912e1d55c89",
       "rows": [
        [
         "omega_m0",
         "4.413187804578697e-06",
         "4.610228002224226e-07",
         "-2.853083975056051e-06",
         "-7.731881042190905e-07",
         "-4.943056644197022e-06",
         "2.735458934882615e-05",
         "1.0015969477520906e-05"
        ],
        [
         "omega_b0",
         "4.6102280022258377e-07",
         "8.021342654292466e-08",
         "-5.709148680966512e-07",
         "-3.4833690531421254e-07",
         "-8.705789399912528e-07",
         "2.836388914311349e-06",
         "-4.65116970814122e-06"
        ],
        [
         "h",
         "-2.8530839750574867e-06",
         "-5.709148680966895e-07",
         "4.502681932435986e-06",
         "2.623976099235417e-06",
         "6.096698589082861e-06",
         "-1.607697678337926e-05",
         "4.794424158496406e-05"
        ],
        [
         "n_s",
         "-7.731881042212102e-07",
         "-3.4833690531444293e-07",
         "2.6239760992370142e-06",
         "4.2770453004518034e-06",
         "1.7870329305422563e-06",
         "5.113444971260506e-06",
         "4.779041318168348e-05"
        ],
        [
         "sigma_8",
         "-4.943056644197383e-06",
         "-8.705789399910547e-07",
         "6.0966985890809665e-06",
         "1.7870329305391911e-06",
         "1.589020430641667e-05",
         "-5.5352820098335014e-05",
         "3.8388869220622114e-05"
        ],
        [
         "m_nu",
         "2.7354589348820972e-05",
         "2.8363889143096882e-06",
         "-1.607697678336543e-05",
         "5.113444971274532e-06",
         "-5.535282009832442e-05",
         "0.00030017335061278673",
         "0.0001468221322095508"
        ],
        [
         "N_eff",
         "1.0015969477488995e-05",
         "-4.651169708144838e-06",
         "4.794424158498909e-05",
         "4.7790413181684845e-05",
         "3.838886922067065e-05",
         "0.00014682213220933304",
         "0.0011705720247389103"
        ]
       ],
       "shape": {
        "columns": 7,
        "rows": 7
       }
      },
      "text/html": [
       "<div>\n",
       "<style scoped>\n",
       "    .dataframe tbody tr th:only-of-type {\n",
       "        vertical-align: middle;\n",
       "    }\n",
       "\n",
       "    .dataframe tbody tr th {\n",
       "        vertical-align: top;\n",
       "    }\n",
       "\n",
       "    .dataframe thead th {\n",
       "        text-align: right;\n",
       "    }\n",
       "</style>\n",
       "<table border=\"1\" class=\"dataframe\">\n",
       "  <thead>\n",
       "    <tr style=\"text-align: right;\">\n",
       "      <th></th>\n",
       "      <th>omega_m0</th>\n",
       "      <th>omega_b0</th>\n",
       "      <th>h</th>\n",
       "      <th>n_s</th>\n",
       "      <th>sigma_8</th>\n",
       "      <th>m_nu</th>\n",
       "      <th>N_eff</th>\n",
       "    </tr>\n",
       "  </thead>\n",
       "  <tbody>\n",
       "    <tr>\n",
       "      <th>omega_m0</th>\n",
       "      <td>4.413188e-06</td>\n",
       "      <td>4.610228e-07</td>\n",
       "      <td>-2.853084e-06</td>\n",
       "      <td>-7.731881e-07</td>\n",
       "      <td>-4.943057e-06</td>\n",
       "      <td>0.000027</td>\n",
       "      <td>0.000010</td>\n",
       "    </tr>\n",
       "    <tr>\n",
       "      <th>omega_b0</th>\n",
       "      <td>4.610228e-07</td>\n",
       "      <td>8.021343e-08</td>\n",
       "      <td>-5.709149e-07</td>\n",
       "      <td>-3.483369e-07</td>\n",
       "      <td>-8.705789e-07</td>\n",
       "      <td>0.000003</td>\n",
       "      <td>-0.000005</td>\n",
       "    </tr>\n",
       "    <tr>\n",
       "      <th>h</th>\n",
       "      <td>-2.853084e-06</td>\n",
       "      <td>-5.709149e-07</td>\n",
       "      <td>4.502682e-06</td>\n",
       "      <td>2.623976e-06</td>\n",
       "      <td>6.096699e-06</td>\n",
       "      <td>-0.000016</td>\n",
       "      <td>0.000048</td>\n",
       "    </tr>\n",
       "    <tr>\n",
       "      <th>n_s</th>\n",
       "      <td>-7.731881e-07</td>\n",
       "      <td>-3.483369e-07</td>\n",
       "      <td>2.623976e-06</td>\n",
       "      <td>4.277045e-06</td>\n",
       "      <td>1.787033e-06</td>\n",
       "      <td>0.000005</td>\n",
       "      <td>0.000048</td>\n",
       "    </tr>\n",
       "    <tr>\n",
       "      <th>sigma_8</th>\n",
       "      <td>-4.943057e-06</td>\n",
       "      <td>-8.705789e-07</td>\n",
       "      <td>6.096699e-06</td>\n",
       "      <td>1.787033e-06</td>\n",
       "      <td>1.589020e-05</td>\n",
       "      <td>-0.000055</td>\n",
       "      <td>0.000038</td>\n",
       "    </tr>\n",
       "    <tr>\n",
       "      <th>m_nu</th>\n",
       "      <td>2.735459e-05</td>\n",
       "      <td>2.836389e-06</td>\n",
       "      <td>-1.607698e-05</td>\n",
       "      <td>5.113445e-06</td>\n",
       "      <td>-5.535282e-05</td>\n",
       "      <td>0.000300</td>\n",
       "      <td>0.000147</td>\n",
       "    </tr>\n",
       "    <tr>\n",
       "      <th>N_eff</th>\n",
       "      <td>1.001597e-05</td>\n",
       "      <td>-4.651170e-06</td>\n",
       "      <td>4.794424e-05</td>\n",
       "      <td>4.779041e-05</td>\n",
       "      <td>3.838887e-05</td>\n",
       "      <td>0.000147</td>\n",
       "      <td>0.001171</td>\n",
       "    </tr>\n",
       "  </tbody>\n",
       "</table>\n",
       "</div>"
      ],
      "text/plain": [
       "              omega_m0      omega_b0             h           n_s  \\\n",
       "omega_m0  4.413188e-06  4.610228e-07 -2.853084e-06 -7.731881e-07   \n",
       "omega_b0  4.610228e-07  8.021343e-08 -5.709149e-07 -3.483369e-07   \n",
       "h        -2.853084e-06 -5.709149e-07  4.502682e-06  2.623976e-06   \n",
       "n_s      -7.731881e-07 -3.483369e-07  2.623976e-06  4.277045e-06   \n",
       "sigma_8  -4.943057e-06 -8.705789e-07  6.096699e-06  1.787033e-06   \n",
       "m_nu      2.735459e-05  2.836389e-06 -1.607698e-05  5.113445e-06   \n",
       "N_eff     1.001597e-05 -4.651170e-06  4.794424e-05  4.779041e-05   \n",
       "\n",
       "               sigma_8      m_nu     N_eff  \n",
       "omega_m0 -4.943057e-06  0.000027  0.000010  \n",
       "omega_b0 -8.705789e-07  0.000003 -0.000005  \n",
       "h         6.096699e-06 -0.000016  0.000048  \n",
       "n_s       1.787033e-06  0.000005  0.000048  \n",
       "sigma_8   1.589020e-05 -0.000055  0.000038  \n",
       "m_nu     -5.535282e-05  0.000300  0.000147  \n",
       "N_eff     3.838887e-05  0.000147  0.001171  "
      ]
     },
     "execution_count": 11,
     "metadata": {},
     "output_type": "execute_result"
    }
   ],
   "source": [
    "fisher1_combined=fisher1+cmb_fisher_marg\n",
    "fisher1_combined.to_excel('../data/combined/cmb+pelg+jmul-lcdm-free.xlsx')\n",
    "cov1_combined=pd.DataFrame(np.linalg.inv(fisher1_combined),index=fisher1_combined.index,columns=fisher1_combined.columns)\n",
    "cov1_combined"
   ]
  },
  {
   "cell_type": "code",
   "execution_count": 12,
   "metadata": {},
   "outputs": [
    {
     "name": "stdout",
     "output_type": "stream",
     "text": [
      "1-sigma errors:\n",
      "-- omega_m0: 2.1e-03\n",
      "-- omega_b0: 2.8e-04\n",
      "--        h: 2.1e-03\n",
      "--      n_s: 2.1e-03\n",
      "--  sigma_8: 4.0e-03\n",
      "--     m_nu: 1.7e-02\n",
      "--    N_eff: 3.4e-02\n"
     ]
    }
   ],
   "source": [
    "name_width=max([len(v) for v in settings.var_name])\n",
    "error_dict=dict(zip(settings.var_name,np.sqrt(np.diag(cov1_combined.values))))\n",
    "print('1-sigma errors:')\n",
    "for key in error_dict.keys():\n",
    "    print(f'-- {key.rjust(name_width)}: {error_dict[key]:.1e}')"
   ]
  },
  {
   "cell_type": "markdown",
   "metadata": {},
   "source": [
    "# CMB-S4 + LiteBIRD + PFS"
   ]
  },
  {
   "cell_type": "code",
   "execution_count": 13,
   "metadata": {},
   "outputs": [
    {
     "data": {
      "application/vnd.microsoft.datawrangler.viewer.v0+json": {
       "columns": [
        {
         "name": "index",
         "rawType": "object",
         "type": "string"
        },
        {
         "name": "omega_m0",
         "rawType": "float64",
         "type": "float"
        },
        {
         "name": "omega_b0",
         "rawType": "float64",
         "type": "float"
        },
        {
         "name": "h",
         "rawType": "float64",
         "type": "float"
        },
        {
         "name": "n_s",
         "rawType": "float64",
         "type": "float"
        },
        {
         "name": "sigma_8",
         "rawType": "float64",
         "type": "float"
        },
        {
         "name": "m_nu",
         "rawType": "float64",
         "type": "float"
        },
        {
         "name": "N_eff",
         "rawType": "float64",
         "type": "float"
        }
       ],
       "conversionMethod": "pd.DataFrame",
       "ref": "e2a5a2bf-8ddb-4d64-b9c5-c6cf72258e32",
       "rows": [
        [
         "omega_m0",
         "2.0582513514318684e-05",
         "2.1353187319082823e-06",
         "-1.4640821753390776e-05",
         "-2.5241240593761083e-06",
         "-1.8434736996862596e-05",
         "0.00010469391312562655",
         "1.5832541949187984e-05"
        ],
        [
         "omega_b0",
         "2.135318731907918e-06",
         "2.771596673533437e-07",
         "-1.9863045901553106e-06",
         "-7.67180047414772e-07",
         "-2.5444117323028146e-06",
         "1.0939226752766516e-05",
         "-8.086171477759747e-06"
        ],
        [
         "h",
         "-1.4640821753387813e-05",
         "-1.9863045901552716e-06",
         "1.4717906071076447e-05",
         "5.906696817473253e-06",
         "1.8067388639107375e-05",
         "-7.262681271376447e-05",
         "7.753901762965894e-05"
        ],
        [
         "n_s",
         "-2.524124059373192e-06",
         "-7.671800474145303e-07",
         "5.906696817471633e-06",
         "7.173952573276792e-06",
         "5.133533922812009e-06",
         "-7.674435074799583e-07",
         "9.012263819291856e-05"
        ],
        [
         "sigma_8",
         "-1.8434736996857e-05",
         "-2.5444117323024974e-06",
         "1.8067388639105376e-05",
         "5.133533922813217e-06",
         "3.311404085351003e-05",
         "-0.00013147611979123775",
         "7.367831025679177e-05"
        ],
        [
         "m_nu",
         "0.00010469391312562159",
         "1.0939226752767584e-05",
         "-7.262681271377352e-05",
         "-7.674435074918744e-07",
         "-0.00013147611979125856",
         "0.00071119209508198",
         "0.0001870017146106345"
        ],
        [
         "N_eff",
         "1.5832541949248394e-05",
         "-8.08617147775345e-06",
         "7.753901762961449e-05",
         "9.012263819290788e-05",
         "7.367831025674824e-05",
         "0.00018700171461089334",
         "0.0018847880078816533"
        ]
       ],
       "shape": {
        "columns": 7,
        "rows": 7
       }
      },
      "text/html": [
       "<div>\n",
       "<style scoped>\n",
       "    .dataframe tbody tr th:only-of-type {\n",
       "        vertical-align: middle;\n",
       "    }\n",
       "\n",
       "    .dataframe tbody tr th {\n",
       "        vertical-align: top;\n",
       "    }\n",
       "\n",
       "    .dataframe thead th {\n",
       "        text-align: right;\n",
       "    }\n",
       "</style>\n",
       "<table border=\"1\" class=\"dataframe\">\n",
       "  <thead>\n",
       "    <tr style=\"text-align: right;\">\n",
       "      <th></th>\n",
       "      <th>omega_m0</th>\n",
       "      <th>omega_b0</th>\n",
       "      <th>h</th>\n",
       "      <th>n_s</th>\n",
       "      <th>sigma_8</th>\n",
       "      <th>m_nu</th>\n",
       "      <th>N_eff</th>\n",
       "    </tr>\n",
       "  </thead>\n",
       "  <tbody>\n",
       "    <tr>\n",
       "      <th>omega_m0</th>\n",
       "      <td>0.000021</td>\n",
       "      <td>2.135319e-06</td>\n",
       "      <td>-0.000015</td>\n",
       "      <td>-2.524124e-06</td>\n",
       "      <td>-0.000018</td>\n",
       "      <td>1.046939e-04</td>\n",
       "      <td>0.000016</td>\n",
       "    </tr>\n",
       "    <tr>\n",
       "      <th>omega_b0</th>\n",
       "      <td>0.000002</td>\n",
       "      <td>2.771597e-07</td>\n",
       "      <td>-0.000002</td>\n",
       "      <td>-7.671800e-07</td>\n",
       "      <td>-0.000003</td>\n",
       "      <td>1.093923e-05</td>\n",
       "      <td>-0.000008</td>\n",
       "    </tr>\n",
       "    <tr>\n",
       "      <th>h</th>\n",
       "      <td>-0.000015</td>\n",
       "      <td>-1.986305e-06</td>\n",
       "      <td>0.000015</td>\n",
       "      <td>5.906697e-06</td>\n",
       "      <td>0.000018</td>\n",
       "      <td>-7.262681e-05</td>\n",
       "      <td>0.000078</td>\n",
       "    </tr>\n",
       "    <tr>\n",
       "      <th>n_s</th>\n",
       "      <td>-0.000003</td>\n",
       "      <td>-7.671800e-07</td>\n",
       "      <td>0.000006</td>\n",
       "      <td>7.173953e-06</td>\n",
       "      <td>0.000005</td>\n",
       "      <td>-7.674435e-07</td>\n",
       "      <td>0.000090</td>\n",
       "    </tr>\n",
       "    <tr>\n",
       "      <th>sigma_8</th>\n",
       "      <td>-0.000018</td>\n",
       "      <td>-2.544412e-06</td>\n",
       "      <td>0.000018</td>\n",
       "      <td>5.133534e-06</td>\n",
       "      <td>0.000033</td>\n",
       "      <td>-1.314761e-04</td>\n",
       "      <td>0.000074</td>\n",
       "    </tr>\n",
       "    <tr>\n",
       "      <th>m_nu</th>\n",
       "      <td>0.000105</td>\n",
       "      <td>1.093923e-05</td>\n",
       "      <td>-0.000073</td>\n",
       "      <td>-7.674435e-07</td>\n",
       "      <td>-0.000131</td>\n",
       "      <td>7.111921e-04</td>\n",
       "      <td>0.000187</td>\n",
       "    </tr>\n",
       "    <tr>\n",
       "      <th>N_eff</th>\n",
       "      <td>0.000016</td>\n",
       "      <td>-8.086171e-06</td>\n",
       "      <td>0.000078</td>\n",
       "      <td>9.012264e-05</td>\n",
       "      <td>0.000074</td>\n",
       "      <td>1.870017e-04</td>\n",
       "      <td>0.001885</td>\n",
       "    </tr>\n",
       "  </tbody>\n",
       "</table>\n",
       "</div>"
      ],
      "text/plain": [
       "          omega_m0      omega_b0         h           n_s   sigma_8  \\\n",
       "omega_m0  0.000021  2.135319e-06 -0.000015 -2.524124e-06 -0.000018   \n",
       "omega_b0  0.000002  2.771597e-07 -0.000002 -7.671800e-07 -0.000003   \n",
       "h        -0.000015 -1.986305e-06  0.000015  5.906697e-06  0.000018   \n",
       "n_s      -0.000003 -7.671800e-07  0.000006  7.173953e-06  0.000005   \n",
       "sigma_8  -0.000018 -2.544412e-06  0.000018  5.133534e-06  0.000033   \n",
       "m_nu      0.000105  1.093923e-05 -0.000073 -7.674435e-07 -0.000131   \n",
       "N_eff     0.000016 -8.086171e-06  0.000078  9.012264e-05  0.000074   \n",
       "\n",
       "                  m_nu     N_eff  \n",
       "omega_m0  1.046939e-04  0.000016  \n",
       "omega_b0  1.093923e-05 -0.000008  \n",
       "h        -7.262681e-05  0.000078  \n",
       "n_s      -7.674435e-07  0.000090  \n",
       "sigma_8  -1.314761e-04  0.000074  \n",
       "m_nu      7.111921e-04  0.000187  \n",
       "N_eff     1.870017e-04  0.001885  "
      ]
     },
     "execution_count": 13,
     "metadata": {},
     "output_type": "execute_result"
    }
   ],
   "source": [
    "PFS_combined=PFS_ELG_valid+cmb_fisher_marg\n",
    "PFS_combined.to_excel('../data/combined/cmb+pelg-lcdm-free.xlsx')\n",
    "cov_combined=pd.DataFrame(np.linalg.inv(PFS_combined),index=PFS_combined.index,columns=PFS_combined.columns)\n",
    "cov_combined"
   ]
  },
  {
   "cell_type": "code",
   "execution_count": 14,
   "metadata": {},
   "outputs": [
    {
     "name": "stdout",
     "output_type": "stream",
     "text": [
      "1-sigma errors:\n",
      "-- omega_m0: 4.5e-03\n",
      "-- omega_b0: 5.3e-04\n",
      "--        h: 3.8e-03\n",
      "--      n_s: 2.7e-03\n",
      "--  sigma_8: 5.8e-03\n",
      "--     m_nu: 2.7e-02\n",
      "--    N_eff: 4.3e-02\n"
     ]
    }
   ],
   "source": [
    "name_width=max([len(v) for v in settings.var_name])\n",
    "error_dict=dict(zip(settings.var_name,np.sqrt(np.diag(cov_combined.values))))\n",
    "print('1-sigma errors:')\n",
    "for key in error_dict.keys():\n",
    "    print(f'-- {key.rjust(name_width)}: {error_dict[key]:.1e}')"
   ]
  }
 ],
 "metadata": {
  "kernelspec": {
   "display_name": "base",
   "language": "python",
   "name": "python3"
  },
  "language_info": {
   "codemirror_mode": {
    "name": "ipython",
    "version": 3
   },
   "file_extension": ".py",
   "mimetype": "text/x-python",
   "name": "python",
   "nbconvert_exporter": "python",
   "pygments_lexer": "ipython3",
   "version": "3.12.3"
  }
 },
 "nbformat": 4,
 "nbformat_minor": 2
}
