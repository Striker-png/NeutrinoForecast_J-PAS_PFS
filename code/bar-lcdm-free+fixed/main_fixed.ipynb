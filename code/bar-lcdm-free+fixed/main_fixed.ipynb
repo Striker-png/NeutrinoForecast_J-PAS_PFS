{
 "cells": [
  {
   "cell_type": "code",
   "execution_count": 1,
   "metadata": {},
   "outputs": [],
   "source": [
    "import numpy as np\n",
    "import pandas as pd\n",
    "from starfish.plot import *"
   ]
  },
  {
   "cell_type": "code",
   "execution_count": 2,
   "metadata": {},
   "outputs": [],
   "source": [
    "from starfish.set import settings\n",
    "settings.var_name.remove('N_eff')\n",
    "settings.cosmo_num-=1"
   ]
  },
  {
   "cell_type": "code",
   "execution_count": 3,
   "metadata": {},
   "outputs": [],
   "source": [
    "def var_filter(fisher,lcdm,neff_fixed):\n",
    "    df=fisher.copy()\n",
    "    if lcdm:\n",
    "        df=df.drop('w0',axis=0)\n",
    "        df=df.drop('w0',axis=1)\n",
    "        df=df.drop('wa',axis=0)\n",
    "        df=df.drop('wa',axis=1)\n",
    "    if neff_fixed:\n",
    "        df=df.drop('N_eff',axis=0)\n",
    "        df=df.drop('N_eff',axis=1)\n",
    "\n",
    "    return df"
   ]
  },
  {
   "cell_type": "markdown",
   "metadata": {},
   "source": [
    "# nuisance parameters of different tracers/surveys should be independent of each other"
   ]
  },
  {
   "cell_type": "code",
   "execution_count": 4,
   "metadata": {},
   "outputs": [],
   "source": [
    "DESI_multi=var_filter(pd.read_excel('../data/DESI_all/valid.xlsx',header=0,index_col=0),lcdm=True,neff_fixed=True)\n",
    "cov=pd.DataFrame(np.linalg.inv(DESI_multi.values),index=DESI_multi.index,columns=DESI_multi.columns)\n",
    "DESI_multi_valid=np.linalg.inv(cov.iloc[:settings.cosmo_num,:settings.cosmo_num].values)"
   ]
  },
  {
   "cell_type": "code",
   "execution_count": 5,
   "metadata": {},
   "outputs": [],
   "source": [
    "JPAS_multi=var_filter(pd.read_excel('../data/jpas_all/valid.xlsx',header=0,index_col=0),lcdm=True,neff_fixed=True)\n",
    "cov=pd.DataFrame(np.linalg.inv(JPAS_multi.values),index=JPAS_multi.index,columns=JPAS_multi.columns)\n",
    "JPAS_multi_valid=np.linalg.inv(cov.iloc[:settings.cosmo_num,:settings.cosmo_num].values)"
   ]
  },
  {
   "cell_type": "code",
   "execution_count": 6,
   "metadata": {},
   "outputs": [],
   "source": [
    "PFS_ELG=var_filter(pd.read_excel('../data/PFS/fisher.xlsx',header=0,index_col=0),lcdm=True,neff_fixed=True)\n",
    "cov=pd.DataFrame(np.linalg.inv(PFS_ELG.values),index=PFS_ELG.index,columns=PFS_ELG.columns)\n",
    "PFS_ELG_valid=np.linalg.inv(cov.iloc[:settings.cosmo_num,:settings.cosmo_num].values)"
   ]
  },
  {
   "cell_type": "markdown",
   "metadata": {},
   "source": [
    "# CMB-S4 + LiteBIRD + DESI multitracer"
   ]
  },
  {
   "cell_type": "code",
   "execution_count": 7,
   "metadata": {},
   "outputs": [
    {
     "data": {
      "application/vnd.microsoft.datawrangler.viewer.v0+json": {
       "columns": [
        {
         "name": "index",
         "rawType": "object",
         "type": "string"
        },
        {
         "name": "omega_m0",
         "rawType": "float64",
         "type": "float"
        },
        {
         "name": "omega_b0",
         "rawType": "float64",
         "type": "float"
        },
        {
         "name": "h",
         "rawType": "float64",
         "type": "float"
        },
        {
         "name": "n_s",
         "rawType": "float64",
         "type": "float"
        },
        {
         "name": "sigma_8",
         "rawType": "float64",
         "type": "float"
        },
        {
         "name": "m_nu",
         "rawType": "float64",
         "type": "float"
        },
        {
         "name": "tau",
         "rawType": "float64",
         "type": "float"
        }
       ],
       "conversionMethod": "pd.DataFrame",
       "ref": "ca1168a2-537a-4059-8df7-73a1ee1596de",
       "rows": [
        [
         "omega_m0",
         "185128827.2032204",
         "-692898147.965669",
         "137105704.1822474",
         "-4740935.5909728",
         "-57824336.49902042",
         "-12447147.39915775",
         "44850335.90973126"
        ],
        [
         "omega_b0",
         "-692898147.965669",
         "3023402063.7132",
         "-458354152.9478175",
         "32060982.8601459",
         "222609446.857868",
         "47145032.98248264",
         "-171421945.9644465"
        ],
        [
         "h",
         "137105704.1822474",
         "-458354152.9478175",
         "112570195.9145628",
         "-1894717.528196103",
         "-38173852.29402938",
         "-7840065.595027551",
         "29626603.15036413"
        ],
        [
         "n_s",
         "-4740935.5909728",
         "32060982.8601459",
         "-1894717.528196103",
         "1046894.876764914",
         "1665062.528972976",
         "314995.9056964207",
         "-1284038.782650934"
        ],
        [
         "sigma_8",
         "-57824336.49902042",
         "222609446.857868",
         "-38173852.29402937",
         "1665062.528972976",
         "22361670.04211807",
         "5252308.014423977",
         "-17311887.25329487"
        ],
        [
         "m_nu",
         "-12447147.39915775",
         "47145032.98248264",
         "-7840065.595027551",
         "314995.9056964208",
         "5252308.014423977",
         "1282974.971498364",
         "-4090355.805696196"
        ],
        [
         "tau",
         "44850335.90973125",
         "-171421945.9644465",
         "29626603.15036413",
         "-1284038.782650934",
         "-17311887.25329487",
         "-4090355.805696196",
         "13743610.01478225"
        ]
       ],
       "shape": {
        "columns": 7,
        "rows": 7
       }
      },
      "text/html": [
       "<div>\n",
       "<style scoped>\n",
       "    .dataframe tbody tr th:only-of-type {\n",
       "        vertical-align: middle;\n",
       "    }\n",
       "\n",
       "    .dataframe tbody tr th {\n",
       "        vertical-align: top;\n",
       "    }\n",
       "\n",
       "    .dataframe thead th {\n",
       "        text-align: right;\n",
       "    }\n",
       "</style>\n",
       "<table border=\"1\" class=\"dataframe\">\n",
       "  <thead>\n",
       "    <tr style=\"text-align: right;\">\n",
       "      <th></th>\n",
       "      <th>omega_m0</th>\n",
       "      <th>omega_b0</th>\n",
       "      <th>h</th>\n",
       "      <th>n_s</th>\n",
       "      <th>sigma_8</th>\n",
       "      <th>m_nu</th>\n",
       "      <th>tau</th>\n",
       "    </tr>\n",
       "  </thead>\n",
       "  <tbody>\n",
       "    <tr>\n",
       "      <th>omega_m0</th>\n",
       "      <td>1.851288e+08</td>\n",
       "      <td>-6.928981e+08</td>\n",
       "      <td>1.371057e+08</td>\n",
       "      <td>-4.740936e+06</td>\n",
       "      <td>-5.782434e+07</td>\n",
       "      <td>-1.244715e+07</td>\n",
       "      <td>4.485034e+07</td>\n",
       "    </tr>\n",
       "    <tr>\n",
       "      <th>omega_b0</th>\n",
       "      <td>-6.928981e+08</td>\n",
       "      <td>3.023402e+09</td>\n",
       "      <td>-4.583542e+08</td>\n",
       "      <td>3.206098e+07</td>\n",
       "      <td>2.226094e+08</td>\n",
       "      <td>4.714503e+07</td>\n",
       "      <td>-1.714219e+08</td>\n",
       "    </tr>\n",
       "    <tr>\n",
       "      <th>h</th>\n",
       "      <td>1.371057e+08</td>\n",
       "      <td>-4.583542e+08</td>\n",
       "      <td>1.125702e+08</td>\n",
       "      <td>-1.894718e+06</td>\n",
       "      <td>-3.817385e+07</td>\n",
       "      <td>-7.840066e+06</td>\n",
       "      <td>2.962660e+07</td>\n",
       "    </tr>\n",
       "    <tr>\n",
       "      <th>n_s</th>\n",
       "      <td>-4.740936e+06</td>\n",
       "      <td>3.206098e+07</td>\n",
       "      <td>-1.894718e+06</td>\n",
       "      <td>1.046895e+06</td>\n",
       "      <td>1.665063e+06</td>\n",
       "      <td>3.149959e+05</td>\n",
       "      <td>-1.284039e+06</td>\n",
       "    </tr>\n",
       "    <tr>\n",
       "      <th>sigma_8</th>\n",
       "      <td>-5.782434e+07</td>\n",
       "      <td>2.226094e+08</td>\n",
       "      <td>-3.817385e+07</td>\n",
       "      <td>1.665063e+06</td>\n",
       "      <td>2.236167e+07</td>\n",
       "      <td>5.252308e+06</td>\n",
       "      <td>-1.731189e+07</td>\n",
       "    </tr>\n",
       "    <tr>\n",
       "      <th>m_nu</th>\n",
       "      <td>-1.244715e+07</td>\n",
       "      <td>4.714503e+07</td>\n",
       "      <td>-7.840066e+06</td>\n",
       "      <td>3.149959e+05</td>\n",
       "      <td>5.252308e+06</td>\n",
       "      <td>1.282975e+06</td>\n",
       "      <td>-4.090356e+06</td>\n",
       "    </tr>\n",
       "    <tr>\n",
       "      <th>tau</th>\n",
       "      <td>4.485034e+07</td>\n",
       "      <td>-1.714219e+08</td>\n",
       "      <td>2.962660e+07</td>\n",
       "      <td>-1.284039e+06</td>\n",
       "      <td>-1.731189e+07</td>\n",
       "      <td>-4.090356e+06</td>\n",
       "      <td>1.374361e+07</td>\n",
       "    </tr>\n",
       "  </tbody>\n",
       "</table>\n",
       "</div>"
      ],
      "text/plain": [
       "              omega_m0      omega_b0             h           n_s  \\\n",
       "omega_m0  1.851288e+08 -6.928981e+08  1.371057e+08 -4.740936e+06   \n",
       "omega_b0 -6.928981e+08  3.023402e+09 -4.583542e+08  3.206098e+07   \n",
       "h         1.371057e+08 -4.583542e+08  1.125702e+08 -1.894718e+06   \n",
       "n_s      -4.740936e+06  3.206098e+07 -1.894718e+06  1.046895e+06   \n",
       "sigma_8  -5.782434e+07  2.226094e+08 -3.817385e+07  1.665063e+06   \n",
       "m_nu     -1.244715e+07  4.714503e+07 -7.840066e+06  3.149959e+05   \n",
       "tau       4.485034e+07 -1.714219e+08  2.962660e+07 -1.284039e+06   \n",
       "\n",
       "               sigma_8          m_nu           tau  \n",
       "omega_m0 -5.782434e+07 -1.244715e+07  4.485034e+07  \n",
       "omega_b0  2.226094e+08  4.714503e+07 -1.714219e+08  \n",
       "h        -3.817385e+07 -7.840066e+06  2.962660e+07  \n",
       "n_s       1.665063e+06  3.149959e+05 -1.284039e+06  \n",
       "sigma_8   2.236167e+07  5.252308e+06 -1.731189e+07  \n",
       "m_nu      5.252308e+06  1.282975e+06 -4.090356e+06  \n",
       "tau      -1.731189e+07 -4.090356e+06  1.374361e+07  "
      ]
     },
     "execution_count": 7,
     "metadata": {},
     "output_type": "execute_result"
    }
   ],
   "source": [
    "cmb_fisher=var_filter(pd.read_excel('../data/CMB/all.xlsx',header=0,index_col=0),lcdm=True,neff_fixed=True)\n",
    "cmb_fisher"
   ]
  },
  {
   "cell_type": "code",
   "execution_count": 8,
   "metadata": {},
   "outputs": [
    {
     "data": {
      "application/vnd.microsoft.datawrangler.viewer.v0+json": {
       "columns": [
        {
         "name": "index",
         "rawType": "object",
         "type": "string"
        },
        {
         "name": "omega_m0",
         "rawType": "float64",
         "type": "float"
        },
        {
         "name": "omega_b0",
         "rawType": "float64",
         "type": "float"
        },
        {
         "name": "h",
         "rawType": "float64",
         "type": "float"
        },
        {
         "name": "n_s",
         "rawType": "float64",
         "type": "float"
        },
        {
         "name": "sigma_8",
         "rawType": "float64",
         "type": "float"
        },
        {
         "name": "m_nu",
         "rawType": "float64",
         "type": "float"
        }
       ],
       "conversionMethod": "pd.DataFrame",
       "ref": "4393f4b5-c574-439a-bf7e-090285de089d",
       "rows": [
        [
         "omega_m0",
         "38766071.78070463",
         "-133486766.92844953",
         "40423456.815708585",
         "-550655.8419779778",
         "-1329430.3057742661",
         "901152.7693183314"
        ],
        [
         "omega_b0",
         "-133486766.92846529",
         "885282346.5039408",
         "-88826062.51959197",
         "16045363.48655258",
         "6680924.578421572",
         "-3873349.4618115677"
        ],
        [
         "h",
         "40423456.81570723",
         "-88826062.51957157",
         "48705198.77877417",
         "873238.4456978332",
         "-855242.9267980033",
         "977366.5111513168"
        ],
        [
         "n_s",
         "-550655.8419785519",
         "16045363.486554656",
         "873238.4456972792",
         "926929.6279272339",
         "47646.536362478946",
         "-67158.09050298853"
        ],
        [
         "sigma_8",
         "-1329430.3057742016",
         "6680924.57842029",
         "-855242.9267979919",
         "47646.53636243437",
         "555067.5593320117",
         "99966.05638608511"
        ],
        [
         "m_nu",
         "901152.7693184494",
         "-3873349.4618117795",
         "977366.5111514564",
         "-67158.09050298328",
         "99966.05638607491",
         "65608.45722756615"
        ]
       ],
       "shape": {
        "columns": 6,
        "rows": 6
       }
      },
      "text/html": [
       "<div>\n",
       "<style scoped>\n",
       "    .dataframe tbody tr th:only-of-type {\n",
       "        vertical-align: middle;\n",
       "    }\n",
       "\n",
       "    .dataframe tbody tr th {\n",
       "        vertical-align: top;\n",
       "    }\n",
       "\n",
       "    .dataframe thead th {\n",
       "        text-align: right;\n",
       "    }\n",
       "</style>\n",
       "<table border=\"1\" class=\"dataframe\">\n",
       "  <thead>\n",
       "    <tr style=\"text-align: right;\">\n",
       "      <th></th>\n",
       "      <th>omega_m0</th>\n",
       "      <th>omega_b0</th>\n",
       "      <th>h</th>\n",
       "      <th>n_s</th>\n",
       "      <th>sigma_8</th>\n",
       "      <th>m_nu</th>\n",
       "    </tr>\n",
       "  </thead>\n",
       "  <tbody>\n",
       "    <tr>\n",
       "      <th>omega_m0</th>\n",
       "      <td>3.876607e+07</td>\n",
       "      <td>-1.334868e+08</td>\n",
       "      <td>4.042346e+07</td>\n",
       "      <td>-5.506558e+05</td>\n",
       "      <td>-1.329430e+06</td>\n",
       "      <td>9.011528e+05</td>\n",
       "    </tr>\n",
       "    <tr>\n",
       "      <th>omega_b0</th>\n",
       "      <td>-1.334868e+08</td>\n",
       "      <td>8.852823e+08</td>\n",
       "      <td>-8.882606e+07</td>\n",
       "      <td>1.604536e+07</td>\n",
       "      <td>6.680925e+06</td>\n",
       "      <td>-3.873349e+06</td>\n",
       "    </tr>\n",
       "    <tr>\n",
       "      <th>h</th>\n",
       "      <td>4.042346e+07</td>\n",
       "      <td>-8.882606e+07</td>\n",
       "      <td>4.870520e+07</td>\n",
       "      <td>8.732384e+05</td>\n",
       "      <td>-8.552429e+05</td>\n",
       "      <td>9.773665e+05</td>\n",
       "    </tr>\n",
       "    <tr>\n",
       "      <th>n_s</th>\n",
       "      <td>-5.506558e+05</td>\n",
       "      <td>1.604536e+07</td>\n",
       "      <td>8.732384e+05</td>\n",
       "      <td>9.269296e+05</td>\n",
       "      <td>4.764654e+04</td>\n",
       "      <td>-6.715809e+04</td>\n",
       "    </tr>\n",
       "    <tr>\n",
       "      <th>sigma_8</th>\n",
       "      <td>-1.329430e+06</td>\n",
       "      <td>6.680925e+06</td>\n",
       "      <td>-8.552429e+05</td>\n",
       "      <td>4.764654e+04</td>\n",
       "      <td>5.550676e+05</td>\n",
       "      <td>9.996606e+04</td>\n",
       "    </tr>\n",
       "    <tr>\n",
       "      <th>m_nu</th>\n",
       "      <td>9.011528e+05</td>\n",
       "      <td>-3.873349e+06</td>\n",
       "      <td>9.773665e+05</td>\n",
       "      <td>-6.715809e+04</td>\n",
       "      <td>9.996606e+04</td>\n",
       "      <td>6.560846e+04</td>\n",
       "    </tr>\n",
       "  </tbody>\n",
       "</table>\n",
       "</div>"
      ],
      "text/plain": [
       "              omega_m0      omega_b0             h           n_s  \\\n",
       "omega_m0  3.876607e+07 -1.334868e+08  4.042346e+07 -5.506558e+05   \n",
       "omega_b0 -1.334868e+08  8.852823e+08 -8.882606e+07  1.604536e+07   \n",
       "h         4.042346e+07 -8.882606e+07  4.870520e+07  8.732384e+05   \n",
       "n_s      -5.506558e+05  1.604536e+07  8.732384e+05  9.269296e+05   \n",
       "sigma_8  -1.329430e+06  6.680925e+06 -8.552429e+05  4.764654e+04   \n",
       "m_nu      9.011528e+05 -3.873349e+06  9.773665e+05 -6.715809e+04   \n",
       "\n",
       "               sigma_8          m_nu  \n",
       "omega_m0 -1.329430e+06  9.011528e+05  \n",
       "omega_b0  6.680925e+06 -3.873349e+06  \n",
       "h        -8.552429e+05  9.773665e+05  \n",
       "n_s       4.764654e+04 -6.715809e+04  \n",
       "sigma_8   5.550676e+05  9.996606e+04  \n",
       "m_nu      9.996606e+04  6.560846e+04  "
      ]
     },
     "execution_count": 8,
     "metadata": {},
     "output_type": "execute_result"
    }
   ],
   "source": [
    "cmb_cov=pd.DataFrame(np.linalg.inv(cmb_fisher.values),index=cmb_fisher.index,columns=cmb_fisher.columns)\n",
    "cmb_cov_marg=cmb_cov.drop('tau',axis=0)\n",
    "cmb_cov_marg=cmb_cov_marg.drop('tau',axis=1)\n",
    "cmb_fisher_marg=pd.DataFrame(np.linalg.inv(cmb_cov_marg),index=settings.var_name,columns=settings.var_name)\n",
    "cmb_fisher_marg"
   ]
  },
  {
   "cell_type": "code",
   "execution_count": 9,
   "metadata": {},
   "outputs": [
    {
     "data": {
      "application/vnd.microsoft.datawrangler.viewer.v0+json": {
       "columns": [
        {
         "name": "index",
         "rawType": "object",
         "type": "string"
        },
        {
         "name": "omega_m0",
         "rawType": "float64",
         "type": "float"
        },
        {
         "name": "omega_b0",
         "rawType": "float64",
         "type": "float"
        },
        {
         "name": "h",
         "rawType": "float64",
         "type": "float"
        },
        {
         "name": "n_s",
         "rawType": "float64",
         "type": "float"
        },
        {
         "name": "sigma_8",
         "rawType": "float64",
         "type": "float"
        },
        {
         "name": "m_nu",
         "rawType": "float64",
         "type": "float"
        }
       ],
       "conversionMethod": "pd.DataFrame",
       "ref": "ad04a61f-ab9e-433d-a4cd-2050b2d9ee44",
       "rows": [
        [
         "omega_m0",
         "3.18398326256394e-06",
         "3.4754298641901394e-07",
         "-2.3492753427170636e-06",
         "-7.220722327770629e-07",
         "-2.8776979284059173e-06",
         "1.5784016207885335e-05"
        ],
        [
         "omega_b0",
         "3.475429864190125e-07",
         "4.1273471763885245e-08",
         "-2.566041857185534e-07",
         "-1.1016561360792891e-07",
         "-3.818161551196144e-07",
         "1.991772395044089e-06"
        ],
        [
         "h",
         "-2.3492753427170526e-06",
         "-2.56604185718554e-07",
         "1.802412555973868e-06",
         "3.198842869392249e-07",
         "2.5031315497579833e-06",
         "-1.3504394538584479e-05"
        ],
        [
         "n_s",
         "-7.220722327771009e-07",
         "-1.1016561360793347e-07",
         "3.1988428693925097e-07",
         "2.2812190994836162e-06",
         "-1.6992853930735695e-07",
         "1.377160384553951e-06"
        ],
        [
         "sigma_8",
         "-2.877697928405688e-06",
         "-3.818161551195945e-07",
         "2.503131549757835e-06",
         "-1.6992853930741915e-07",
         "7.837224761509107e-06",
         "-3.301248342341313e-05"
        ],
        [
         "m_nu",
         "1.5784016207884674e-05",
         "1.991772395044044e-06",
         "-1.3504394538584098e-05",
         "1.3771603845542393e-06",
         "-3.301248342341345e-05",
         "0.00017134661860900152"
        ]
       ],
       "shape": {
        "columns": 6,
        "rows": 6
       }
      },
      "text/html": [
       "<div>\n",
       "<style scoped>\n",
       "    .dataframe tbody tr th:only-of-type {\n",
       "        vertical-align: middle;\n",
       "    }\n",
       "\n",
       "    .dataframe tbody tr th {\n",
       "        vertical-align: top;\n",
       "    }\n",
       "\n",
       "    .dataframe thead th {\n",
       "        text-align: right;\n",
       "    }\n",
       "</style>\n",
       "<table border=\"1\" class=\"dataframe\">\n",
       "  <thead>\n",
       "    <tr style=\"text-align: right;\">\n",
       "      <th></th>\n",
       "      <th>omega_m0</th>\n",
       "      <th>omega_b0</th>\n",
       "      <th>h</th>\n",
       "      <th>n_s</th>\n",
       "      <th>sigma_8</th>\n",
       "      <th>m_nu</th>\n",
       "    </tr>\n",
       "  </thead>\n",
       "  <tbody>\n",
       "    <tr>\n",
       "      <th>omega_m0</th>\n",
       "      <td>3.183983e-06</td>\n",
       "      <td>3.475430e-07</td>\n",
       "      <td>-2.349275e-06</td>\n",
       "      <td>-7.220722e-07</td>\n",
       "      <td>-2.877698e-06</td>\n",
       "      <td>0.000016</td>\n",
       "    </tr>\n",
       "    <tr>\n",
       "      <th>omega_b0</th>\n",
       "      <td>3.475430e-07</td>\n",
       "      <td>4.127347e-08</td>\n",
       "      <td>-2.566042e-07</td>\n",
       "      <td>-1.101656e-07</td>\n",
       "      <td>-3.818162e-07</td>\n",
       "      <td>0.000002</td>\n",
       "    </tr>\n",
       "    <tr>\n",
       "      <th>h</th>\n",
       "      <td>-2.349275e-06</td>\n",
       "      <td>-2.566042e-07</td>\n",
       "      <td>1.802413e-06</td>\n",
       "      <td>3.198843e-07</td>\n",
       "      <td>2.503132e-06</td>\n",
       "      <td>-0.000014</td>\n",
       "    </tr>\n",
       "    <tr>\n",
       "      <th>n_s</th>\n",
       "      <td>-7.220722e-07</td>\n",
       "      <td>-1.101656e-07</td>\n",
       "      <td>3.198843e-07</td>\n",
       "      <td>2.281219e-06</td>\n",
       "      <td>-1.699285e-07</td>\n",
       "      <td>0.000001</td>\n",
       "    </tr>\n",
       "    <tr>\n",
       "      <th>sigma_8</th>\n",
       "      <td>-2.877698e-06</td>\n",
       "      <td>-3.818162e-07</td>\n",
       "      <td>2.503132e-06</td>\n",
       "      <td>-1.699285e-07</td>\n",
       "      <td>7.837225e-06</td>\n",
       "      <td>-0.000033</td>\n",
       "    </tr>\n",
       "    <tr>\n",
       "      <th>m_nu</th>\n",
       "      <td>1.578402e-05</td>\n",
       "      <td>1.991772e-06</td>\n",
       "      <td>-1.350439e-05</td>\n",
       "      <td>1.377160e-06</td>\n",
       "      <td>-3.301248e-05</td>\n",
       "      <td>0.000171</td>\n",
       "    </tr>\n",
       "  </tbody>\n",
       "</table>\n",
       "</div>"
      ],
      "text/plain": [
       "              omega_m0      omega_b0             h           n_s  \\\n",
       "omega_m0  3.183983e-06  3.475430e-07 -2.349275e-06 -7.220722e-07   \n",
       "omega_b0  3.475430e-07  4.127347e-08 -2.566042e-07 -1.101656e-07   \n",
       "h        -2.349275e-06 -2.566042e-07  1.802413e-06  3.198843e-07   \n",
       "n_s      -7.220722e-07 -1.101656e-07  3.198843e-07  2.281219e-06   \n",
       "sigma_8  -2.877698e-06 -3.818162e-07  2.503132e-06 -1.699285e-07   \n",
       "m_nu      1.578402e-05  1.991772e-06 -1.350439e-05  1.377160e-06   \n",
       "\n",
       "               sigma_8      m_nu  \n",
       "omega_m0 -2.877698e-06  0.000016  \n",
       "omega_b0 -3.818162e-07  0.000002  \n",
       "h         2.503132e-06 -0.000014  \n",
       "n_s      -1.699285e-07  0.000001  \n",
       "sigma_8   7.837225e-06 -0.000033  \n",
       "m_nu     -3.301248e-05  0.000171  "
      ]
     },
     "execution_count": 9,
     "metadata": {},
     "output_type": "execute_result"
    }
   ],
   "source": [
    "fisher1_combined=DESI_multi_valid+cmb_fisher_marg\n",
    "fisher1_combined.to_excel('../data/combined/cmb+dmul-lcdm-fixed.xlsx')\n",
    "cov1_combined=pd.DataFrame(np.linalg.inv(fisher1_combined),index=fisher1_combined.index,columns=fisher1_combined.columns)\n",
    "cov1_combined"
   ]
  },
  {
   "cell_type": "code",
   "execution_count": 10,
   "metadata": {},
   "outputs": [
    {
     "name": "stdout",
     "output_type": "stream",
     "text": [
      "1-sigma errors:\n",
      "-- omega_m0: 1.8e-03\n",
      "-- omega_b0: 2.0e-04\n",
      "--        h: 1.3e-03\n",
      "--      n_s: 1.5e-03\n",
      "--  sigma_8: 2.8e-03\n",
      "--     m_nu: 1.3e-02\n"
     ]
    }
   ],
   "source": [
    "name_width=max([len(v) for v in settings.var_name])\n",
    "error_dict=dict(zip(settings.var_name,np.sqrt(np.diag(cov1_combined.values))))\n",
    "print('1-sigma errors:')\n",
    "for key in error_dict.keys():\n",
    "    print(f'-- {key.rjust(name_width)}: {error_dict[key]:.1e}')"
   ]
  },
  {
   "cell_type": "markdown",
   "metadata": {},
   "source": [
    "# CMB-S4 + LiteBIRD + DESI multitracer"
   ]
  },
  {
   "cell_type": "code",
   "execution_count": 11,
   "metadata": {},
   "outputs": [],
   "source": [
    "fisher2=pd.DataFrame(JPAS_multi_valid+PFS_ELG_valid,index=settings.var_name,columns=settings.var_name)\n",
    "fisher2.to_excel('../data/combined/pelg+jmul-lcdm-fixed.xlsx')"
   ]
  },
  {
   "cell_type": "code",
   "execution_count": 12,
   "metadata": {},
   "outputs": [
    {
     "data": {
      "application/vnd.microsoft.datawrangler.viewer.v0+json": {
       "columns": [
        {
         "name": "index",
         "rawType": "object",
         "type": "string"
        },
        {
         "name": "omega_m0",
         "rawType": "float64",
         "type": "float"
        },
        {
         "name": "omega_b0",
         "rawType": "float64",
         "type": "float"
        },
        {
         "name": "h",
         "rawType": "float64",
         "type": "float"
        },
        {
         "name": "n_s",
         "rawType": "float64",
         "type": "float"
        },
        {
         "name": "sigma_8",
         "rawType": "float64",
         "type": "float"
        },
        {
         "name": "m_nu",
         "rawType": "float64",
         "type": "float"
        }
       ],
       "conversionMethod": "pd.DataFrame",
       "ref": "0aaf13ce-9439-415a-9f17-5fcfe123ca16",
       "rows": [
        [
         "omega_m0",
         "4.327486418884942e-06",
         "5.008204144204391e-07",
         "-3.263317647302836e-06",
         "-1.1821055476828718e-06",
         "-5.271530018124107e-06",
         "2.609830954394929e-05"
        ],
        [
         "omega_b0",
         "5.00820414420433e-07",
         "6.173239402485212e-08",
         "-3.804124475474739e-07",
         "-1.5844570901664525e-07",
         "-7.180439896631814e-07",
         "3.419774335613495e-06"
        ],
        [
         "h",
         "-3.2633176473027807e-06",
         "-3.8041244754747317e-07",
         "2.5389836271810014e-06",
         "6.665782914938863e-07",
         "4.524368838164698e-06",
         "-2.209051172859885e-05"
        ],
        [
         "n_s",
         "-1.1821055476831393e-06",
         "-1.5844570901667624e-07",
         "6.665782914940942e-07",
         "2.32592777516728e-06",
         "2.1974797680968852e-07",
         "-8.807956343653029e-07"
        ],
        [
         "sigma_8",
         "-5.271530018123226e-06",
         "-7.180439896630949e-07",
         "4.5243688381641136e-06",
         "2.1974797680923326e-07",
         "1.4631242662968664e-05",
         "-6.016784686555743e-05"
        ],
        [
         "m_nu",
         "2.60983095439467e-05",
         "3.419774335613262e-06",
         "-2.209051172859727e-05",
         "-8.807956343633493e-07",
         "-6.016784686555908e-05",
         "0.00028175779133840284"
        ]
       ],
       "shape": {
        "columns": 6,
        "rows": 6
       }
      },
      "text/html": [
       "<div>\n",
       "<style scoped>\n",
       "    .dataframe tbody tr th:only-of-type {\n",
       "        vertical-align: middle;\n",
       "    }\n",
       "\n",
       "    .dataframe tbody tr th {\n",
       "        vertical-align: top;\n",
       "    }\n",
       "\n",
       "    .dataframe thead th {\n",
       "        text-align: right;\n",
       "    }\n",
       "</style>\n",
       "<table border=\"1\" class=\"dataframe\">\n",
       "  <thead>\n",
       "    <tr style=\"text-align: right;\">\n",
       "      <th></th>\n",
       "      <th>omega_m0</th>\n",
       "      <th>omega_b0</th>\n",
       "      <th>h</th>\n",
       "      <th>n_s</th>\n",
       "      <th>sigma_8</th>\n",
       "      <th>m_nu</th>\n",
       "    </tr>\n",
       "  </thead>\n",
       "  <tbody>\n",
       "    <tr>\n",
       "      <th>omega_m0</th>\n",
       "      <td>4.327486e-06</td>\n",
       "      <td>5.008204e-07</td>\n",
       "      <td>-3.263318e-06</td>\n",
       "      <td>-1.182106e-06</td>\n",
       "      <td>-5.271530e-06</td>\n",
       "      <td>2.609831e-05</td>\n",
       "    </tr>\n",
       "    <tr>\n",
       "      <th>omega_b0</th>\n",
       "      <td>5.008204e-07</td>\n",
       "      <td>6.173239e-08</td>\n",
       "      <td>-3.804124e-07</td>\n",
       "      <td>-1.584457e-07</td>\n",
       "      <td>-7.180440e-07</td>\n",
       "      <td>3.419774e-06</td>\n",
       "    </tr>\n",
       "    <tr>\n",
       "      <th>h</th>\n",
       "      <td>-3.263318e-06</td>\n",
       "      <td>-3.804124e-07</td>\n",
       "      <td>2.538984e-06</td>\n",
       "      <td>6.665783e-07</td>\n",
       "      <td>4.524369e-06</td>\n",
       "      <td>-2.209051e-05</td>\n",
       "    </tr>\n",
       "    <tr>\n",
       "      <th>n_s</th>\n",
       "      <td>-1.182106e-06</td>\n",
       "      <td>-1.584457e-07</td>\n",
       "      <td>6.665783e-07</td>\n",
       "      <td>2.325928e-06</td>\n",
       "      <td>2.197480e-07</td>\n",
       "      <td>-8.807956e-07</td>\n",
       "    </tr>\n",
       "    <tr>\n",
       "      <th>sigma_8</th>\n",
       "      <td>-5.271530e-06</td>\n",
       "      <td>-7.180440e-07</td>\n",
       "      <td>4.524369e-06</td>\n",
       "      <td>2.197480e-07</td>\n",
       "      <td>1.463124e-05</td>\n",
       "      <td>-6.016785e-05</td>\n",
       "    </tr>\n",
       "    <tr>\n",
       "      <th>m_nu</th>\n",
       "      <td>2.609831e-05</td>\n",
       "      <td>3.419774e-06</td>\n",
       "      <td>-2.209051e-05</td>\n",
       "      <td>-8.807956e-07</td>\n",
       "      <td>-6.016785e-05</td>\n",
       "      <td>2.817578e-04</td>\n",
       "    </tr>\n",
       "  </tbody>\n",
       "</table>\n",
       "</div>"
      ],
      "text/plain": [
       "              omega_m0      omega_b0             h           n_s  \\\n",
       "omega_m0  4.327486e-06  5.008204e-07 -3.263318e-06 -1.182106e-06   \n",
       "omega_b0  5.008204e-07  6.173239e-08 -3.804124e-07 -1.584457e-07   \n",
       "h        -3.263318e-06 -3.804124e-07  2.538984e-06  6.665783e-07   \n",
       "n_s      -1.182106e-06 -1.584457e-07  6.665783e-07  2.325928e-06   \n",
       "sigma_8  -5.271530e-06 -7.180440e-07  4.524369e-06  2.197480e-07   \n",
       "m_nu      2.609831e-05  3.419774e-06 -2.209051e-05 -8.807956e-07   \n",
       "\n",
       "               sigma_8          m_nu  \n",
       "omega_m0 -5.271530e-06  2.609831e-05  \n",
       "omega_b0 -7.180440e-07  3.419774e-06  \n",
       "h         4.524369e-06 -2.209051e-05  \n",
       "n_s       2.197480e-07 -8.807956e-07  \n",
       "sigma_8   1.463124e-05 -6.016785e-05  \n",
       "m_nu     -6.016785e-05  2.817578e-04  "
      ]
     },
     "execution_count": 12,
     "metadata": {},
     "output_type": "execute_result"
    }
   ],
   "source": [
    "fisher2_combined=JPAS_multi_valid+PFS_ELG_valid+cmb_fisher_marg\n",
    "fisher2_combined.to_excel('../data/combined/cmb+pelg+jmul-lcdm-fixed.xlsx')\n",
    "cov2_combined=pd.DataFrame(np.linalg.inv(fisher2_combined),index=fisher2_combined.index,columns=fisher2_combined.columns)\n",
    "cov2_combined"
   ]
  },
  {
   "cell_type": "code",
   "execution_count": 13,
   "metadata": {},
   "outputs": [
    {
     "name": "stdout",
     "output_type": "stream",
     "text": [
      "1-sigma errors:\n",
      "-- omega_m0: 2.1e-03\n",
      "-- omega_b0: 2.5e-04\n",
      "--        h: 1.6e-03\n",
      "--      n_s: 1.5e-03\n",
      "--  sigma_8: 3.8e-03\n",
      "--     m_nu: 1.7e-02\n"
     ]
    }
   ],
   "source": [
    "name_width=max([len(v) for v in settings.var_name])\n",
    "error_dict=dict(zip(settings.var_name,np.sqrt(np.diag(cov2_combined.values))))\n",
    "print('1-sigma errors:')\n",
    "for key in error_dict.keys():\n",
    "    print(f'-- {key.rjust(name_width)}: {error_dict[key]:.1e}')"
   ]
  }
 ],
 "metadata": {
  "kernelspec": {
   "display_name": "base",
   "language": "python",
   "name": "python3"
  },
  "language_info": {
   "codemirror_mode": {
    "name": "ipython",
    "version": 3
   },
   "file_extension": ".py",
   "mimetype": "text/x-python",
   "name": "python",
   "nbconvert_exporter": "python",
   "pygments_lexer": "ipython3",
   "version": "3.12.3"
  }
 },
 "nbformat": 4,
 "nbformat_minor": 2
}
