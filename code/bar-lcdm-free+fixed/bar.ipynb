{
 "cells": [
  {
   "cell_type": "code",
   "execution_count": 1,
   "metadata": {},
   "outputs": [],
   "source": [
    "import numpy as np\n",
    "import pandas as pd\n",
    "import matplotlib.pyplot as plt\n",
    "import seaborn as sns\n",
    "sns.set_context('paper',font_scale=1.5)"
   ]
  },
  {
   "cell_type": "code",
   "execution_count": 2,
   "metadata": {},
   "outputs": [],
   "source": [
    "def var_filter(fisher,lcdm,neff_fixed):\n",
    "    df=fisher.copy()\n",
    "    if lcdm:\n",
    "        df=df.drop('w0',axis=0)\n",
    "        df=df.drop('w0',axis=1)\n",
    "        df=df.drop('wa',axis=0)\n",
    "        df=df.drop('wa',axis=1)\n",
    "    if neff_fixed:\n",
    "        df=df.drop('N_eff',axis=0)\n",
    "        df=df.drop('N_eff',axis=1)\n",
    "\n",
    "    return df"
   ]
  },
  {
   "cell_type": "markdown",
   "metadata": {},
   "source": [
    "# $N_\\mathrm{eff}$ fixed"
   ]
  },
  {
   "cell_type": "code",
   "execution_count": 3,
   "metadata": {},
   "outputs": [],
   "source": [
    "CMB_fixed=var_filter(pd.read_excel('../data/CMB/all.xlsx',header=0,index_col=0),lcdm=True,neff_fixed=True)\n",
    "cmb_cov_fixed=pd.DataFrame(np.linalg.inv(CMB_fixed.values),index=CMB_fixed.index,columns=CMB_fixed.columns)\n",
    "cmb_cov_marg_fixed=cmb_cov_fixed.drop('tau',axis=0)\n",
    "cmb_cov_marg_fixed=cmb_cov_marg_fixed.drop('tau',axis=1)\n",
    "CMB_fixed=pd.DataFrame(np.linalg.inv(cmb_cov_marg_fixed.values),index=cmb_cov_marg_fixed.index,columns=cmb_cov_marg_fixed.columns)\n",
    "ELG_fixed=var_filter(pd.read_excel('../data/ELG/fisher.xlsx',header=0,index_col=0),lcdm=True,neff_fixed=True)\n",
    "LRG_fixed=var_filter(pd.read_excel('../data/LRG/fisher.xlsx',header=0,index_col=0),lcdm=True,neff_fixed=True)\n",
    "QSO_fixed=var_filter(pd.read_excel('../data/QSO/fisher.xlsx',header=0,index_col=0),lcdm=True,neff_fixed=True)\n",
    "PFS_fixed=var_filter(pd.read_excel('../data/PFS/fisher.xlsx',header=0,index_col=0),lcdm=True,neff_fixed=True)\n",
    "multitracer_fixed=var_filter(pd.read_excel('../data/jpas_all/valid.xlsx',header=0,index_col=0),lcdm=True,neff_fixed=True)\n",
    "survey_only_fixed=pd.read_excel('../data/combined/pelg+jmul-lcdm-fixed.xlsx',header=0,index_col=0)\n",
    "DESI_fixed=var_filter(pd.read_excel('../data/DESI_all/valid.xlsx',header=0,index_col=0),lcdm=True,neff_fixed=True)\n",
    "best_fixed=pd.read_excel('../data/combined/cmb+pelg+jmul-lcdm-fixed.xlsx',header=0,index_col=0)\n",
    "gold_fixed=pd.read_excel('../data/combined/cmb+dmul-lcdm-fixed.xlsx',header=0,index_col=0)"
   ]
  },
  {
   "cell_type": "code",
   "execution_count": 4,
   "metadata": {},
   "outputs": [],
   "source": [
    "orders=[r'$h$',r'$\\Omega_\\mathrm{m,0}$',r'$\\Omega_\\mathrm{b,0}$',r'$\\sigma_8$',r'$n_\\mathrm{s}$',r'$\\sum m_\\nu\\;[\\mathrm{eV}]$',r'$N_\\mathrm{eff}$']\n",
    "names=['h','omega_m0','omega_b0','sigma_8','n_s','m_nu',]\n",
    "fid=np.array([0.67,0.32,0.049,0.81,0.96,0.06])\n",
    "err_fixed=[]\n",
    "fishers_fixed=[CMB_fixed,ELG_fixed,LRG_fixed,QSO_fixed,PFS_fixed,multitracer_fixed,survey_only_fixed,DESI_fixed,best_fixed,gold_fixed]\n",
    "for f in fishers_fixed:\n",
    "    cov=pd.DataFrame(np.linalg.inv(f.values),index=f.index,columns=f.columns).iloc[:len(orders),:len(orders)]\n",
    "    e=[]\n",
    "    for i,index in enumerate(names):\n",
    "        e.append(np.sqrt(cov.loc[index,index])/fid[i])\n",
    "    err_fixed.append(np.array(e))\n",
    "err_fixed=np.stack(err_fixed,axis=0)\n",
    "err_fixed=np.concatenate([err_fixed,np.zeros(len(fishers_fixed)).reshape(-1,1)],axis=1)"
   ]
  },
  {
   "cell_type": "markdown",
   "metadata": {},
   "source": [
    "# $N_\\mathrm{eff}$ free"
   ]
  },
  {
   "cell_type": "code",
   "execution_count": 5,
   "metadata": {},
   "outputs": [],
   "source": [
    "CMB_free=var_filter(pd.read_excel('../data/CMB/all.xlsx',header=0,index_col=0),lcdm=True,neff_fixed=False)\n",
    "cmb_cov_free=pd.DataFrame(np.linalg.inv(CMB_free.values),index=CMB_free.index,columns=CMB_free.columns)\n",
    "cmb_cov_marg_free=cmb_cov_free.drop('tau',axis=0)\n",
    "cmb_cov_marg_free=cmb_cov_marg_free.drop('tau',axis=1)\n",
    "CMB_free=pd.DataFrame(np.linalg.inv(cmb_cov_marg_free.values),index=cmb_cov_marg_free.index,columns=cmb_cov_marg_free.columns)\n",
    "ELG_free=var_filter(pd.read_excel('../data/ELG/fisher.xlsx',header=0,index_col=0),lcdm=True,neff_fixed=False)\n",
    "LRG_free=var_filter(pd.read_excel('../data/LRG/fisher.xlsx',header=0,index_col=0),lcdm=True,neff_fixed=False)\n",
    "QSO_free=var_filter(pd.read_excel('../data/QSO/fisher.xlsx',header=0,index_col=0),lcdm=True,neff_fixed=False)\n",
    "PFS_free=var_filter(pd.read_excel('../data/PFS/fisher.xlsx',header=0,index_col=0),lcdm=True,neff_fixed=False)\n",
    "multitracer_free=var_filter(pd.read_excel('../data/jpas_all/valid.xlsx',header=0,index_col=0),lcdm=True,neff_fixed=False)\n",
    "survey_only_free=pd.read_excel('../data/combined/pelg+jmul-lcdm-free.xlsx',header=0,index_col=0)\n",
    "DESI_free=var_filter(pd.read_excel('../data/DESI_all/valid.xlsx',header=0,index_col=0),lcdm=True,neff_fixed=False)\n",
    "best_free=pd.read_excel('../data/combined/cmb+pelg+jmul-lcdm-free.xlsx',header=0,index_col=0)\n",
    "gold_free=pd.read_excel('../data/combined/cmb+dmul-lcdm-free.xlsx',header=0,index_col=0)"
   ]
  },
  {
   "cell_type": "code",
   "execution_count": 6,
   "metadata": {},
   "outputs": [],
   "source": [
    "names=['h','omega_m0','omega_b0','sigma_8','n_s','m_nu','N_eff',]\n",
    "fid=np.array([0.67,0.32,0.049,0.81,0.96,0.06,3.044])\n",
    "err_free=[]\n",
    "fishers_free=[CMB_free,ELG_free,LRG_free,QSO_free,PFS_free,multitracer_free,survey_only_free,DESI_free,best_free,gold_free]\n",
    "for f in fishers_free:\n",
    "    cov=pd.DataFrame(np.linalg.inv(f.values),index=f.index,columns=f.columns).iloc[:len(orders),:len(orders)]\n",
    "    e=[]\n",
    "    for i,index in enumerate(names):\n",
    "        e.append(np.sqrt(cov.loc[index,index])/fid[i])\n",
    "    err_free.append(np.array(e))\n",
    "err_free=np.stack(err_free,axis=0)"
   ]
  },
  {
   "cell_type": "code",
   "execution_count": 7,
   "metadata": {},
   "outputs": [],
   "source": [
    "err_diff=err_free-err_fixed"
   ]
  },
  {
   "cell_type": "code",
   "execution_count": 66,
   "metadata": {},
   "outputs": [
    {
     "data": {
      "text/html": [
       "<svg  width=\"550\" height=\"55\"><rect x=\"0\" y=\"0\" width=\"55\" height=\"55\" style=\"fill:#dda0dd;stroke-width:2;stroke:rgb(255,255,255)\"/><rect x=\"55\" y=\"0\" width=\"55\" height=\"55\" style=\"fill:#00bfff;stroke-width:2;stroke:rgb(255,255,255)\"/><rect x=\"110\" y=\"0\" width=\"55\" height=\"55\" style=\"fill:#3cb371;stroke-width:2;stroke:rgb(255,255,255)\"/><rect x=\"165\" y=\"0\" width=\"55\" height=\"55\" style=\"fill:#ffa500;stroke-width:2;stroke:rgb(255,255,255)\"/><rect x=\"220\" y=\"0\" width=\"55\" height=\"55\" style=\"fill:#cd853f;stroke-width:2;stroke:rgb(255,255,255)\"/><rect x=\"275\" y=\"0\" width=\"55\" height=\"55\" style=\"fill:#fa8072;stroke-width:2;stroke:rgb(255,255,255)\"/><rect x=\"330\" y=\"0\" width=\"55\" height=\"55\" style=\"fill:#9acd32;stroke-width:2;stroke:rgb(255,255,255)\"/><rect x=\"385\" y=\"0\" width=\"55\" height=\"55\" style=\"fill:#afeeee;stroke-width:2;stroke:rgb(255,255,255)\"/><rect x=\"440\" y=\"0\" width=\"55\" height=\"55\" style=\"fill:#a9a9a9;stroke-width:2;stroke:rgb(255,255,255)\"/><rect x=\"495\" y=\"0\" width=\"55\" height=\"55\" style=\"fill:#ffd700;stroke-width:2;stroke:rgb(255,255,255)\"/></svg>"
      ],
      "text/plain": [
       "[(0.8666666666666667, 0.6274509803921569, 0.8666666666666667),\n",
       " (0.0, 0.7490196078431373, 1.0),\n",
       " (0.23529411764705882, 0.7019607843137254, 0.44313725490196076),\n",
       " (1.0, 0.6470588235294118, 0.0),\n",
       " (0.803921568627451, 0.5215686274509804, 0.24705882352941178),\n",
       " (0.9803921568627451, 0.5019607843137255, 0.4470588235294118),\n",
       " (0.6039215686274509, 0.803921568627451, 0.19607843137254902),\n",
       " (0.6862745098039216, 0.9333333333333333, 0.9333333333333333),\n",
       " (0.6627450980392157, 0.6627450980392157, 0.6627450980392157),\n",
       " (1.0, 0.8431372549019608, 0.0)]"
      ]
     },
     "execution_count": 66,
     "metadata": {},
     "output_type": "execute_result"
    }
   ],
   "source": [
    "palette=sns.color_palette(['plum','deepskyblue','mediumseagreen','orange','peru','salmon','yellowgreen','paleturquoise','darkgray','gold'])\n",
    "palette"
   ]
  },
  {
   "cell_type": "code",
   "execution_count": 67,
   "metadata": {},
   "outputs": [
    {
     "data": {
      "text/plain": [
       "Text(0.15, 0.55, '$\\\\Lambda\\\\mathrm{CDM}+\\\\sum m_\\\\nu+N_\\\\mathrm{eff}$')"
      ]
     },
     "execution_count": 67,
     "metadata": {},
     "output_type": "execute_result"
    },
    {
     "data": {
      "image/png": "[encoded data removed]",
      "text/plain": [
       "<Figure size 936x432 with 1 Axes>"
      ]
     },
     "metadata": {},
     "output_type": "display_data"
    }
   ],
   "source": [
    "sns.set_palette(palette)\n",
    "labels=['CMB','J-PAS ELG','J-PAS LRG','J-PAS QSO','PFS ELG','J-PAS Multitracer','J-PAS Multitracer + PFS ELG','DESI Multitracer','CMB + J-PAS Multitracer\\n+ PFS ELG','CMB + DESI Multitracer']\n",
    "position=np.arange(0,1.1*len(orders),1.1)\n",
    "width=1/(len(fishers_free)+2)\n",
    "offset=np.arange(-width/2*(len(fishers_free)-1),width/2*(len(fishers_free)-1)+width,width)\n",
    "fig,ax=plt.subplots()\n",
    "fig.set_size_inches((13,6))\n",
    "fig.set_dpi(72)\n",
    "for i,o in enumerate(offset):\n",
    "    ax.bar(position+o,err_fixed[i],width,linewidth=0.5,edgecolor='gray',label=labels[i])\n",
    "for i,o in enumerate(offset):\n",
    "    ax.bar(position+o,err_diff[i],width,bottom=err_fixed[i],linewidth=0.5,edgecolor='gray',hatch='////')\n",
    "ax.set_xticks(position,orders)\n",
    "ax.set_yscale('log')\n",
    "ax.tick_params(axis='y',which='both',direction='in',right=True)\n",
    "ax.tick_params(bottom=False)\n",
    "ax.set_ylabel(r'$\\sigma_\\theta/\\theta_\\mathrm{fid}$')\n",
    "ax.set_ylim(1e-3,5e1)\n",
    "legend=ax.legend(loc='upper left',frameon=False,ncol=2,columnspacing=3)\n",
    "legend.get_texts()[4].set_position((11.5,0))\n",
    "ax.add_artist(legend)\n",
    "from matplotlib.patches import Patch\n",
    "p1=Patch(facecolor='none',edgecolor='gray',label=r'$N_\\mathrm{eff}$ Fixed')\n",
    "p2=Patch(facecolor='none',edgecolor='gray',hatch='////',label=r'$N_\\mathrm{eff}$ Free')\n",
    "ax.legend(handles=[p1,p2],loc='upper right',frameon=False)\n",
    "fig.text(0.15,0.55,r'$\\Lambda\\mathrm{CDM}+\\sum m_\\nu+N_\\mathrm{eff}$')"
   ]
  },
  {
   "cell_type": "code",
   "execution_count": 68,
   "metadata": {},
   "outputs": [],
   "source": [
    "fig.savefig('../fig/bar-lcdm-free.pdf',bbox_inches='tight')"
   ]
  }
 ],
 "metadata": {
  "kernelspec": {
   "display_name": "base",
   "language": "python",
   "name": "python3"
  },
  "language_info": {
   "codemirror_mode": {
    "name": "ipython",
    "version": 3
   },
   "file_extension": ".py",
   "mimetype": "text/x-python",
   "name": "python",
   "nbconvert_exporter": "python",
   "pygments_lexer": "ipython3",
   "version": "3.12.3"
  }
 },
 "nbformat": 4,
 "nbformat_minor": 2
}
