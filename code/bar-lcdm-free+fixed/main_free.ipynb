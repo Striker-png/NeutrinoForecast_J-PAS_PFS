{
 "cells": [
  {
   "cell_type": "code",
   "execution_count": 1,
   "metadata": {},
   "outputs": [],
   "source": [
    "import numpy as np\n",
    "import pandas as pd\n",
    "from starfish.plot import *"
   ]
  },
  {
   "cell_type": "code",
   "execution_count": 2,
   "metadata": {},
   "outputs": [
    {
     "data": {
      "text/plain": [
       "[0.32, 0.049, 0.67, 0.96, 0.81, 0.06, 3.044]"
      ]
     },
     "execution_count": 2,
     "metadata": {},
     "output_type": "execute_result"
    }
   ],
   "source": [
    "from starfish.set import settings\n",
    "settings.cosmo_value"
   ]
  },
  {
   "cell_type": "code",
   "execution_count": 3,
   "metadata": {},
   "outputs": [],
   "source": [
    "def var_filter(fisher,lcdm,neff_fixed):\n",
    "    df=fisher.copy()\n",
    "    if lcdm:\n",
    "        df=df.drop('w0',axis=0)\n",
    "        df=df.drop('w0',axis=1)\n",
    "        df=df.drop('wa',axis=0)\n",
    "        df=df.drop('wa',axis=1)\n",
    "    if neff_fixed:\n",
    "        df=df.drop('N_eff',axis=0)\n",
    "        df=df.drop('N_eff',axis=1)\n",
    "\n",
    "    return df"
   ]
  },
  {
   "cell_type": "markdown",
   "metadata": {},
   "source": [
    "# nuisance parameters of different tracers/surveys should be independent of each other"
   ]
  },
  {
   "cell_type": "code",
   "execution_count": 4,
   "metadata": {},
   "outputs": [],
   "source": [
    "DESI_multi=var_filter(pd.read_excel('../data/DESI_all/valid.xlsx',header=0,index_col=0),lcdm=True,neff_fixed=False)\n",
    "cov=pd.DataFrame(np.linalg.inv(DESI_multi.values),index=DESI_multi.index,columns=DESI_multi.columns)\n",
    "DESI_multi_valid=np.linalg.inv(cov.iloc[:settings.cosmo_num,:settings.cosmo_num].values)"
   ]
  },
  {
   "cell_type": "markdown",
   "metadata": {},
   "source": [
    "# CMB-S4 + LiteBIRD + DESI multitracer"
   ]
  },
  {
   "cell_type": "code",
   "execution_count": 5,
   "metadata": {},
   "outputs": [
    {
     "data": {
      "application/vnd.microsoft.datawrangler.viewer.v0+json": {
       "columns": [
        {
         "name": "index",
         "rawType": "object",
         "type": "string"
        },
        {
         "name": "omega_m0",
         "rawType": "float64",
         "type": "float"
        },
        {
         "name": "omega_b0",
         "rawType": "float64",
         "type": "float"
        },
        {
         "name": "h",
         "rawType": "float64",
         "type": "float"
        },
        {
         "name": "n_s",
         "rawType": "float64",
         "type": "float"
        },
        {
         "name": "sigma_8",
         "rawType": "float64",
         "type": "float"
        },
        {
         "name": "m_nu",
         "rawType": "float64",
         "type": "float"
        },
        {
         "name": "N_eff",
         "rawType": "float64",
         "type": "float"
        },
        {
         "name": "tau",
         "rawType": "float64",
         "type": "float"
        }
       ],
       "conversionMethod": "pd.DataFrame",
       "ref": "785cc971-53c2-4130-851b-7b2a66b7a3b0",
       "rows": [
        [
         "omega_m0",
         "185128827.2032204",
         "-692898147.965669",
         "137105704.1822474",
         "-4740935.5909728",
         "-57824336.49902042",
         "-12447147.39915775",
         "-6589565.032637624",
         "44850335.90973126"
        ],
        [
         "omega_b0",
         "-692898147.965669",
         "3023402063.7132",
         "-458354152.9478175",
         "32060982.8601459",
         "222609446.857868",
         "47145032.98248264",
         "23282304.91692092",
         "-171421945.9644465"
        ],
        [
         "h",
         "137105704.1822474",
         "-458354152.9478175",
         "112570195.9145628",
         "-1894717.528196103",
         "-38173852.29402938",
         "-7840065.595027551",
         "-5484485.3914593",
         "29626603.15036413"
        ],
        [
         "n_s",
         "-4740935.5909728",
         "32060982.8601459",
         "-1894717.528196103",
         "1046894.876764914",
         "1665062.528972976",
         "314995.9056964207",
         "112570.0547995077",
         "-1284038.782650934"
        ],
        [
         "sigma_8",
         "-57824336.49902042",
         "222609446.857868",
         "-38173852.29402937",
         "1665062.528972976",
         "22361670.04211807",
         "5252308.014423977",
         "1591678.691991868",
         "-17311887.25329487"
        ],
        [
         "m_nu",
         "-12447147.39915775",
         "47145032.98248264",
         "-7840065.595027551",
         "314995.9056964208",
         "5252308.014423977",
         "1282974.971498364",
         "294682.0272687076",
         "-4090355.805696196"
        ],
        [
         "N_eff",
         "-6589565.032637624",
         "23282304.91692092",
         "-5484485.3914593",
         "112570.0547995077",
         "1591678.691991868",
         "294682.0272687076",
         "288494.3636698526",
         "-1230549.691288918"
        ],
        [
         "tau",
         "44850335.90973125",
         "-171421945.9644465",
         "29626603.15036413",
         "-1284038.782650934",
         "-17311887.25329487",
         "-4090355.805696196",
         "-1230549.691288918",
         "13743610.01478225"
        ]
       ],
       "shape": {
        "columns": 8,
        "rows": 8
       }
      },
      "text/html": [
       "<div>\n",
       "<style scoped>\n",
       "    .dataframe tbody tr th:only-of-type {\n",
       "        vertical-align: middle;\n",
       "    }\n",
       "\n",
       "    .dataframe tbody tr th {\n",
       "        vertical-align: top;\n",
       "    }\n",
       "\n",
       "    .dataframe thead th {\n",
       "        text-align: right;\n",
       "    }\n",
       "</style>\n",
       "<table border=\"1\" class=\"dataframe\">\n",
       "  <thead>\n",
       "    <tr style=\"text-align: right;\">\n",
       "      <th></th>\n",
       "      <th>omega_m0</th>\n",
       "      <th>omega_b0</th>\n",
       "      <th>h</th>\n",
       "      <th>n_s</th>\n",
       "      <th>sigma_8</th>\n",
       "      <th>m_nu</th>\n",
       "      <th>N_eff</th>\n",
       "      <th>tau</th>\n",
       "    </tr>\n",
       "  </thead>\n",
       "  <tbody>\n",
       "    <tr>\n",
       "      <th>omega_m0</th>\n",
       "      <td>1.851288e+08</td>\n",
       "      <td>-6.928981e+08</td>\n",
       "      <td>1.371057e+08</td>\n",
       "      <td>-4.740936e+06</td>\n",
       "      <td>-5.782434e+07</td>\n",
       "      <td>-1.244715e+07</td>\n",
       "      <td>-6.589565e+06</td>\n",
       "      <td>4.485034e+07</td>\n",
       "    </tr>\n",
       "    <tr>\n",
       "      <th>omega_b0</th>\n",
       "      <td>-6.928981e+08</td>\n",
       "      <td>3.023402e+09</td>\n",
       "      <td>-4.583542e+08</td>\n",
       "      <td>3.206098e+07</td>\n",
       "      <td>2.226094e+08</td>\n",
       "      <td>4.714503e+07</td>\n",
       "      <td>2.328230e+07</td>\n",
       "      <td>-1.714219e+08</td>\n",
       "    </tr>\n",
       "    <tr>\n",
       "      <th>h</th>\n",
       "      <td>1.371057e+08</td>\n",
       "      <td>-4.583542e+08</td>\n",
       "      <td>1.125702e+08</td>\n",
       "      <td>-1.894718e+06</td>\n",
       "      <td>-3.817385e+07</td>\n",
       "      <td>-7.840066e+06</td>\n",
       "      <td>-5.484485e+06</td>\n",
       "      <td>2.962660e+07</td>\n",
       "    </tr>\n",
       "    <tr>\n",
       "      <th>n_s</th>\n",
       "      <td>-4.740936e+06</td>\n",
       "      <td>3.206098e+07</td>\n",
       "      <td>-1.894718e+06</td>\n",
       "      <td>1.046895e+06</td>\n",
       "      <td>1.665063e+06</td>\n",
       "      <td>3.149959e+05</td>\n",
       "      <td>1.125701e+05</td>\n",
       "      <td>-1.284039e+06</td>\n",
       "    </tr>\n",
       "    <tr>\n",
       "      <th>sigma_8</th>\n",
       "      <td>-5.782434e+07</td>\n",
       "      <td>2.226094e+08</td>\n",
       "      <td>-3.817385e+07</td>\n",
       "      <td>1.665063e+06</td>\n",
       "      <td>2.236167e+07</td>\n",
       "      <td>5.252308e+06</td>\n",
       "      <td>1.591679e+06</td>\n",
       "      <td>-1.731189e+07</td>\n",
       "    </tr>\n",
       "    <tr>\n",
       "      <th>m_nu</th>\n",
       "      <td>-1.244715e+07</td>\n",
       "      <td>4.714503e+07</td>\n",
       "      <td>-7.840066e+06</td>\n",
       "      <td>3.149959e+05</td>\n",
       "      <td>5.252308e+06</td>\n",
       "      <td>1.282975e+06</td>\n",
       "      <td>2.946820e+05</td>\n",
       "      <td>-4.090356e+06</td>\n",
       "    </tr>\n",
       "    <tr>\n",
       "      <th>N_eff</th>\n",
       "      <td>-6.589565e+06</td>\n",
       "      <td>2.328230e+07</td>\n",
       "      <td>-5.484485e+06</td>\n",
       "      <td>1.125701e+05</td>\n",
       "      <td>1.591679e+06</td>\n",
       "      <td>2.946820e+05</td>\n",
       "      <td>2.884944e+05</td>\n",
       "      <td>-1.230550e+06</td>\n",
       "    </tr>\n",
       "    <tr>\n",
       "      <th>tau</th>\n",
       "      <td>4.485034e+07</td>\n",
       "      <td>-1.714219e+08</td>\n",
       "      <td>2.962660e+07</td>\n",
       "      <td>-1.284039e+06</td>\n",
       "      <td>-1.731189e+07</td>\n",
       "      <td>-4.090356e+06</td>\n",
       "      <td>-1.230550e+06</td>\n",
       "      <td>1.374361e+07</td>\n",
       "    </tr>\n",
       "  </tbody>\n",
       "</table>\n",
       "</div>"
      ],
      "text/plain": [
       "              omega_m0      omega_b0             h           n_s  \\\n",
       "omega_m0  1.851288e+08 -6.928981e+08  1.371057e+08 -4.740936e+06   \n",
       "omega_b0 -6.928981e+08  3.023402e+09 -4.583542e+08  3.206098e+07   \n",
       "h         1.371057e+08 -4.583542e+08  1.125702e+08 -1.894718e+06   \n",
       "n_s      -4.740936e+06  3.206098e+07 -1.894718e+06  1.046895e+06   \n",
       "sigma_8  -5.782434e+07  2.226094e+08 -3.817385e+07  1.665063e+06   \n",
       "m_nu     -1.244715e+07  4.714503e+07 -7.840066e+06  3.149959e+05   \n",
       "N_eff    -6.589565e+06  2.328230e+07 -5.484485e+06  1.125701e+05   \n",
       "tau       4.485034e+07 -1.714219e+08  2.962660e+07 -1.284039e+06   \n",
       "\n",
       "               sigma_8          m_nu         N_eff           tau  \n",
       "omega_m0 -5.782434e+07 -1.244715e+07 -6.589565e+06  4.485034e+07  \n",
       "omega_b0  2.226094e+08  4.714503e+07  2.328230e+07 -1.714219e+08  \n",
       "h        -3.817385e+07 -7.840066e+06 -5.484485e+06  2.962660e+07  \n",
       "n_s       1.665063e+06  3.149959e+05  1.125701e+05 -1.284039e+06  \n",
       "sigma_8   2.236167e+07  5.252308e+06  1.591679e+06 -1.731189e+07  \n",
       "m_nu      5.252308e+06  1.282975e+06  2.946820e+05 -4.090356e+06  \n",
       "N_eff     1.591679e+06  2.946820e+05  2.884944e+05 -1.230550e+06  \n",
       "tau      -1.731189e+07 -4.090356e+06 -1.230550e+06  1.374361e+07  "
      ]
     },
     "execution_count": 5,
     "metadata": {},
     "output_type": "execute_result"
    }
   ],
   "source": [
    "cmb_fisher=var_filter(pd.read_excel('../data/CMB/all.xlsx',header=0,index_col=0),lcdm=True,neff_fixed=False)\n",
    "cmb_fisher"
   ]
  },
  {
   "cell_type": "code",
   "execution_count": 6,
   "metadata": {},
   "outputs": [
    {
     "data": {
      "application/vnd.microsoft.datawrangler.viewer.v0+json": {
       "columns": [
        {
         "name": "index",
         "rawType": "object",
         "type": "string"
        },
        {
         "name": "omega_m0",
         "rawType": "float64",
         "type": "float"
        },
        {
         "name": "omega_b0",
         "rawType": "float64",
         "type": "float"
        },
        {
         "name": "h",
         "rawType": "float64",
         "type": "float"
        },
        {
         "name": "n_s",
         "rawType": "float64",
         "type": "float"
        },
        {
         "name": "sigma_8",
         "rawType": "float64",
         "type": "float"
        },
        {
         "name": "m_nu",
         "rawType": "float64",
         "type": "float"
        },
        {
         "name": "N_eff",
         "rawType": "float64",
         "type": "float"
        }
       ],
       "conversionMethod": "pd.DataFrame",
       "ref": "7cb97705-463e-4b0b-9b4c-db1fb39c4c5f",
       "rows": [
        [
         "omega_m0",
         "38766071.78071214",
         "-133486766.92848329",
         "40423456.8157154",
         "-550655.8419783079",
         "-1329430.3057746557",
         "901152.7693184926",
         "-2573839.4009750113"
        ],
        [
         "omega_b0",
         "-133486766.92852615",
         "885282346.5041722",
         "-88826062.5196537",
         "16045363.486554291",
         "6680924.578423498",
         "-3873349.4618131225",
         "7933846.80003517"
        ],
        [
         "h",
         "40423456.81571067",
         "-88826062.51959188",
         "48705198.77877658",
         "873238.4456975694",
         "-855242.9267983051",
         "977366.5111513683",
         "-2831833.9176889723"
        ],
        [
         "n_s",
         "-550655.8419799169",
         "16045363.486558923",
         "873238.4456957671",
         "926929.6279272496",
         "47646.53636249747",
         "-67158.09050302838",
         "-2397.8121505414592"
        ],
        [
         "sigma_8",
         "-1329430.3057746976",
         "6680924.578422269",
         "-855242.9267984751",
         "47646.53636244847",
         "555067.5593320348",
         "99966.05638607449",
         "41639.25604615199"
        ],
        [
         "m_nu",
         "901152.7693186412",
         "-3873349.4618125577",
         "977366.511151646",
         "-67158.09050299058",
         "99966.05638607063",
         "65608.45722757182",
         "-71552.61330588532"
        ],
        [
         "N_eff",
         "-2573839.4009749386",
         "7933846.800032046",
         "-2831833.917689212",
         "-2397.8121506508337",
         "41639.25604614761",
         "-71552.61330587337",
         "178315.7031066219"
        ]
       ],
       "shape": {
        "columns": 7,
        "rows": 7
       }
      },
      "text/html": [
       "<div>\n",
       "<style scoped>\n",
       "    .dataframe tbody tr th:only-of-type {\n",
       "        vertical-align: middle;\n",
       "    }\n",
       "\n",
       "    .dataframe tbody tr th {\n",
       "        vertical-align: top;\n",
       "    }\n",
       "\n",
       "    .dataframe thead th {\n",
       "        text-align: right;\n",
       "    }\n",
       "</style>\n",
       "<table border=\"1\" class=\"dataframe\">\n",
       "  <thead>\n",
       "    <tr style=\"text-align: right;\">\n",
       "      <th></th>\n",
       "      <th>omega_m0</th>\n",
       "      <th>omega_b0</th>\n",
       "      <th>h</th>\n",
       "      <th>n_s</th>\n",
       "      <th>sigma_8</th>\n",
       "      <th>m_nu</th>\n",
       "      <th>N_eff</th>\n",
       "    </tr>\n",
       "  </thead>\n",
       "  <tbody>\n",
       "    <tr>\n",
       "      <th>omega_m0</th>\n",
       "      <td>3.876607e+07</td>\n",
       "      <td>-1.334868e+08</td>\n",
       "      <td>4.042346e+07</td>\n",
       "      <td>-5.506558e+05</td>\n",
       "      <td>-1.329430e+06</td>\n",
       "      <td>9.011528e+05</td>\n",
       "      <td>-2.573839e+06</td>\n",
       "    </tr>\n",
       "    <tr>\n",
       "      <th>omega_b0</th>\n",
       "      <td>-1.334868e+08</td>\n",
       "      <td>8.852823e+08</td>\n",
       "      <td>-8.882606e+07</td>\n",
       "      <td>1.604536e+07</td>\n",
       "      <td>6.680925e+06</td>\n",
       "      <td>-3.873349e+06</td>\n",
       "      <td>7.933847e+06</td>\n",
       "    </tr>\n",
       "    <tr>\n",
       "      <th>h</th>\n",
       "      <td>4.042346e+07</td>\n",
       "      <td>-8.882606e+07</td>\n",
       "      <td>4.870520e+07</td>\n",
       "      <td>8.732384e+05</td>\n",
       "      <td>-8.552429e+05</td>\n",
       "      <td>9.773665e+05</td>\n",
       "      <td>-2.831834e+06</td>\n",
       "    </tr>\n",
       "    <tr>\n",
       "      <th>n_s</th>\n",
       "      <td>-5.506558e+05</td>\n",
       "      <td>1.604536e+07</td>\n",
       "      <td>8.732384e+05</td>\n",
       "      <td>9.269296e+05</td>\n",
       "      <td>4.764654e+04</td>\n",
       "      <td>-6.715809e+04</td>\n",
       "      <td>-2.397812e+03</td>\n",
       "    </tr>\n",
       "    <tr>\n",
       "      <th>sigma_8</th>\n",
       "      <td>-1.329430e+06</td>\n",
       "      <td>6.680925e+06</td>\n",
       "      <td>-8.552429e+05</td>\n",
       "      <td>4.764654e+04</td>\n",
       "      <td>5.550676e+05</td>\n",
       "      <td>9.996606e+04</td>\n",
       "      <td>4.163926e+04</td>\n",
       "    </tr>\n",
       "    <tr>\n",
       "      <th>m_nu</th>\n",
       "      <td>9.011528e+05</td>\n",
       "      <td>-3.873349e+06</td>\n",
       "      <td>9.773665e+05</td>\n",
       "      <td>-6.715809e+04</td>\n",
       "      <td>9.996606e+04</td>\n",
       "      <td>6.560846e+04</td>\n",
       "      <td>-7.155261e+04</td>\n",
       "    </tr>\n",
       "    <tr>\n",
       "      <th>N_eff</th>\n",
       "      <td>-2.573839e+06</td>\n",
       "      <td>7.933847e+06</td>\n",
       "      <td>-2.831834e+06</td>\n",
       "      <td>-2.397812e+03</td>\n",
       "      <td>4.163926e+04</td>\n",
       "      <td>-7.155261e+04</td>\n",
       "      <td>1.783157e+05</td>\n",
       "    </tr>\n",
       "  </tbody>\n",
       "</table>\n",
       "</div>"
      ],
      "text/plain": [
       "              omega_m0      omega_b0             h           n_s  \\\n",
       "omega_m0  3.876607e+07 -1.334868e+08  4.042346e+07 -5.506558e+05   \n",
       "omega_b0 -1.334868e+08  8.852823e+08 -8.882606e+07  1.604536e+07   \n",
       "h         4.042346e+07 -8.882606e+07  4.870520e+07  8.732384e+05   \n",
       "n_s      -5.506558e+05  1.604536e+07  8.732384e+05  9.269296e+05   \n",
       "sigma_8  -1.329430e+06  6.680925e+06 -8.552429e+05  4.764654e+04   \n",
       "m_nu      9.011528e+05 -3.873349e+06  9.773665e+05 -6.715809e+04   \n",
       "N_eff    -2.573839e+06  7.933847e+06 -2.831834e+06 -2.397812e+03   \n",
       "\n",
       "               sigma_8          m_nu         N_eff  \n",
       "omega_m0 -1.329430e+06  9.011528e+05 -2.573839e+06  \n",
       "omega_b0  6.680925e+06 -3.873349e+06  7.933847e+06  \n",
       "h        -8.552429e+05  9.773665e+05 -2.831834e+06  \n",
       "n_s       4.764654e+04 -6.715809e+04 -2.397812e+03  \n",
       "sigma_8   5.550676e+05  9.996606e+04  4.163926e+04  \n",
       "m_nu      9.996606e+04  6.560846e+04 -7.155261e+04  \n",
       "N_eff     4.163926e+04 -7.155261e+04  1.783157e+05  "
      ]
     },
     "execution_count": 6,
     "metadata": {},
     "output_type": "execute_result"
    }
   ],
   "source": [
    "cmb_cov=pd.DataFrame(np.linalg.inv(cmb_fisher.values),index=cmb_fisher.index,columns=cmb_fisher.columns)\n",
    "cmb_cov_marg=cmb_cov.drop('tau',axis=0)\n",
    "cmb_cov_marg=cmb_cov_marg.drop('tau',axis=1)\n",
    "cmb_fisher_marg=pd.DataFrame(np.linalg.inv(cmb_cov_marg),index=settings.var_name,columns=settings.var_name)\n",
    "cmb_fisher_marg"
   ]
  },
  {
   "cell_type": "code",
   "execution_count": 7,
   "metadata": {},
   "outputs": [
    {
     "data": {
      "application/vnd.microsoft.datawrangler.viewer.v0+json": {
       "columns": [
        {
         "name": "index",
         "rawType": "object",
         "type": "string"
        },
        {
         "name": "omega_m0",
         "rawType": "float64",
         "type": "float"
        },
        {
         "name": "omega_b0",
         "rawType": "float64",
         "type": "float"
        },
        {
         "name": "h",
         "rawType": "float64",
         "type": "float"
        },
        {
         "name": "n_s",
         "rawType": "float64",
         "type": "float"
        },
        {
         "name": "sigma_8",
         "rawType": "float64",
         "type": "float"
        },
        {
         "name": "m_nu",
         "rawType": "float64",
         "type": "float"
        },
        {
         "name": "N_eff",
         "rawType": "float64",
         "type": "float"
        }
       ],
       "conversionMethod": "pd.DataFrame",
       "ref": "32cb011b-d999-43f5-9a28-605595dc8192",
       "rows": [
        [
         "omega_m0",
         "3.769776012494994e-06",
         "2.849768827619638e-07",
         "-1.6224604632113698e-06",
         "2.1086708973517156e-07",
         "-2.0124387449406605e-06",
         "1.943316452979919e-05",
         "2.422715054096037e-05"
        ],
        [
         "omega_b0",
         "2.849768827619717e-07",
         "4.795589882923464e-08",
         "-3.342322804602558e-07",
         "-2.0980900858835033e-07",
         "-4.742309140410774e-07",
         "1.6020219377432425e-06",
         "-2.5876018647198145e-06"
        ],
        [
         "h",
         "-1.6224604632113972e-06",
         "-3.342322804602513e-07",
         "2.704198843245658e-06",
         "1.477416846633443e-06",
         "3.576690840556316e-06",
         "-8.976760322889889e-06",
         "3.0059527884685086e-05"
        ],
        [
         "n_s",
         "2.1086708973521868e-07",
         "-2.0980900858834893e-07",
         "1.4774168466334734e-06",
         "3.767027484090968e-06",
         "1.208091787017961e-06",
         "7.188830063970114e-06",
         "3.858439937119485e-05"
        ],
        [
         "sigma_8",
         "-2.0124387449412433e-06",
         "-4.742309140411318e-07",
         "3.57669084055676e-06",
         "1.2080917870179671e-06",
         "9.11527652069822e-06",
         "-2.7622421669089274e-05",
         "3.578529180706775e-05"
        ],
        [
         "m_nu",
         "1.9433164529801464e-05",
         "1.6020219377434458e-06",
         "-8.976760322891422e-06",
         "7.188830063969849e-06",
         "-2.7622421669088512e-05",
         "0.0001940786914742063",
         "0.00015092106508962633"
        ],
        [
         "N_eff",
         "2.422715054096071e-05",
         "-2.587601864719733e-06",
         "3.0059527884684974e-05",
         "3.858439937119372e-05",
         "3.578529180706709e-05",
         "0.000150921065089626",
         "0.0010019837620106353"
        ]
       ],
       "shape": {
        "columns": 7,
        "rows": 7
       }
      },
      "text/html": [
       "<div>\n",
       "<style scoped>\n",
       "    .dataframe tbody tr th:only-of-type {\n",
       "        vertical-align: middle;\n",
       "    }\n",
       "\n",
       "    .dataframe tbody tr th {\n",
       "        vertical-align: top;\n",
       "    }\n",
       "\n",
       "    .dataframe thead th {\n",
       "        text-align: right;\n",
       "    }\n",
       "</style>\n",
       "<table border=\"1\" class=\"dataframe\">\n",
       "  <thead>\n",
       "    <tr style=\"text-align: right;\">\n",
       "      <th></th>\n",
       "      <th>omega_m0</th>\n",
       "      <th>omega_b0</th>\n",
       "      <th>h</th>\n",
       "      <th>n_s</th>\n",
       "      <th>sigma_8</th>\n",
       "      <th>m_nu</th>\n",
       "      <th>N_eff</th>\n",
       "    </tr>\n",
       "  </thead>\n",
       "  <tbody>\n",
       "    <tr>\n",
       "      <th>omega_m0</th>\n",
       "      <td>3.769776e-06</td>\n",
       "      <td>2.849769e-07</td>\n",
       "      <td>-1.622460e-06</td>\n",
       "      <td>2.108671e-07</td>\n",
       "      <td>-2.012439e-06</td>\n",
       "      <td>0.000019</td>\n",
       "      <td>0.000024</td>\n",
       "    </tr>\n",
       "    <tr>\n",
       "      <th>omega_b0</th>\n",
       "      <td>2.849769e-07</td>\n",
       "      <td>4.795590e-08</td>\n",
       "      <td>-3.342323e-07</td>\n",
       "      <td>-2.098090e-07</td>\n",
       "      <td>-4.742309e-07</td>\n",
       "      <td>0.000002</td>\n",
       "      <td>-0.000003</td>\n",
       "    </tr>\n",
       "    <tr>\n",
       "      <th>h</th>\n",
       "      <td>-1.622460e-06</td>\n",
       "      <td>-3.342323e-07</td>\n",
       "      <td>2.704199e-06</td>\n",
       "      <td>1.477417e-06</td>\n",
       "      <td>3.576691e-06</td>\n",
       "      <td>-0.000009</td>\n",
       "      <td>0.000030</td>\n",
       "    </tr>\n",
       "    <tr>\n",
       "      <th>n_s</th>\n",
       "      <td>2.108671e-07</td>\n",
       "      <td>-2.098090e-07</td>\n",
       "      <td>1.477417e-06</td>\n",
       "      <td>3.767027e-06</td>\n",
       "      <td>1.208092e-06</td>\n",
       "      <td>0.000007</td>\n",
       "      <td>0.000039</td>\n",
       "    </tr>\n",
       "    <tr>\n",
       "      <th>sigma_8</th>\n",
       "      <td>-2.012439e-06</td>\n",
       "      <td>-4.742309e-07</td>\n",
       "      <td>3.576691e-06</td>\n",
       "      <td>1.208092e-06</td>\n",
       "      <td>9.115277e-06</td>\n",
       "      <td>-0.000028</td>\n",
       "      <td>0.000036</td>\n",
       "    </tr>\n",
       "    <tr>\n",
       "      <th>m_nu</th>\n",
       "      <td>1.943316e-05</td>\n",
       "      <td>1.602022e-06</td>\n",
       "      <td>-8.976760e-06</td>\n",
       "      <td>7.188830e-06</td>\n",
       "      <td>-2.762242e-05</td>\n",
       "      <td>0.000194</td>\n",
       "      <td>0.000151</td>\n",
       "    </tr>\n",
       "    <tr>\n",
       "      <th>N_eff</th>\n",
       "      <td>2.422715e-05</td>\n",
       "      <td>-2.587602e-06</td>\n",
       "      <td>3.005953e-05</td>\n",
       "      <td>3.858440e-05</td>\n",
       "      <td>3.578529e-05</td>\n",
       "      <td>0.000151</td>\n",
       "      <td>0.001002</td>\n",
       "    </tr>\n",
       "  </tbody>\n",
       "</table>\n",
       "</div>"
      ],
      "text/plain": [
       "              omega_m0      omega_b0             h           n_s  \\\n",
       "omega_m0  3.769776e-06  2.849769e-07 -1.622460e-06  2.108671e-07   \n",
       "omega_b0  2.849769e-07  4.795590e-08 -3.342323e-07 -2.098090e-07   \n",
       "h        -1.622460e-06 -3.342323e-07  2.704199e-06  1.477417e-06   \n",
       "n_s       2.108671e-07 -2.098090e-07  1.477417e-06  3.767027e-06   \n",
       "sigma_8  -2.012439e-06 -4.742309e-07  3.576691e-06  1.208092e-06   \n",
       "m_nu      1.943316e-05  1.602022e-06 -8.976760e-06  7.188830e-06   \n",
       "N_eff     2.422715e-05 -2.587602e-06  3.005953e-05  3.858440e-05   \n",
       "\n",
       "               sigma_8      m_nu     N_eff  \n",
       "omega_m0 -2.012439e-06  0.000019  0.000024  \n",
       "omega_b0 -4.742309e-07  0.000002 -0.000003  \n",
       "h         3.576691e-06 -0.000009  0.000030  \n",
       "n_s       1.208092e-06  0.000007  0.000039  \n",
       "sigma_8   9.115277e-06 -0.000028  0.000036  \n",
       "m_nu     -2.762242e-05  0.000194  0.000151  \n",
       "N_eff     3.578529e-05  0.000151  0.001002  "
      ]
     },
     "execution_count": 7,
     "metadata": {},
     "output_type": "execute_result"
    }
   ],
   "source": [
    "fisher1_combined=DESI_multi_valid+cmb_fisher_marg\n",
    "fisher1_combined.to_excel('../data/combined/cmb+dmul-lcdm-free.xlsx')\n",
    "cov1_combined=pd.DataFrame(np.linalg.inv(fisher1_combined),index=fisher1_combined.index,columns=fisher1_combined.columns)\n",
    "cov1_combined"
   ]
  },
  {
   "cell_type": "code",
   "execution_count": 8,
   "metadata": {},
   "outputs": [
    {
     "name": "stdout",
     "output_type": "stream",
     "text": [
      "1-sigma errors:\n",
      "-- omega_m0: 1.9e-03\n",
      "-- omega_b0: 2.2e-04\n",
      "--        h: 1.6e-03\n",
      "--      n_s: 1.9e-03\n",
      "--  sigma_8: 3.0e-03\n",
      "--     m_nu: 1.4e-02\n",
      "--    N_eff: 3.2e-02\n"
     ]
    }
   ],
   "source": [
    "name_width=max([len(v) for v in settings.var_name])\n",
    "error_dict=dict(zip(settings.var_name,np.sqrt(np.diag(cov1_combined.values))))\n",
    "print('1-sigma errors:')\n",
    "for key in error_dict.keys():\n",
    "    print(f'-- {key.rjust(name_width)}: {error_dict[key]:.1e}')"
   ]
  }
 ],
 "metadata": {
  "kernelspec": {
   "display_name": "base",
   "language": "python",
   "name": "python3"
  },
  "language_info": {
   "codemirror_mode": {
    "name": "ipython",
    "version": 3
   },
   "file_extension": ".py",
   "mimetype": "text/x-python",
   "name": "python",
   "nbconvert_exporter": "python",
   "pygments_lexer": "ipython3",
   "version": "3.12.3"
  }
 },
 "nbformat": 4,
 "nbformat_minor": 2
}
